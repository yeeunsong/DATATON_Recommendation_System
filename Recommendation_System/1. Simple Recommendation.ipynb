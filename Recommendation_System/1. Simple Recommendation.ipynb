{
 "cells": [
  {
   "cell_type": "markdown",
   "metadata": {},
   "source": [
    "# 전처리 - 동아리이름, 카테고리 분리"
   ]
  },
  {
   "cell_type": "code",
   "execution_count": 1,
   "metadata": {},
   "outputs": [],
   "source": [
    "import random\n",
    "import ast\n",
    "import pandas as pd\n",
    "import numpy as np\n",
    "\n",
    "data = pd.read_csv('tag.csv',encoding='cp949',header=None)\n",
    "data = data.iloc[400:600]"
   ]
  },
  {
   "cell_type": "code",
   "execution_count": 2,
   "metadata": {},
   "outputs": [
    {
     "data": {
      "text/plain": [
       "400               ['수레바퀴', '학회', '경영']\n",
       "401      ['Young Tigers', '운동', '동아리']\n",
       "402             ['KULSOM', '학회', '경영']\n",
       "403               ['유도부', '동아리', '운동']\n",
       "404           ['KU-HOPE', '봉사', '동아리']\n",
       "                    ...               \n",
       "595                ['명중', '동아리', '운동']\n",
       "596           ['예술비평연구회', '예술', '동아리']\n",
       "597            ['CREAKET', '경영', '학회']\n",
       "598    ['Partyproviders', '동아리', '예술']\n",
       "599              ['KUHS', '봉사', '동아리']\n",
       "Name: 6, Length: 200, dtype: object"
      ]
     },
     "execution_count": 2,
     "metadata": {},
     "output_type": "execute_result"
    }
   ],
   "source": [
    "tags = data.iloc[:,6].apply(lambda x: \"[\" + x + ']' if x[0]==\"'\" else \"['\" + x + ']' )\n",
    "tags"
   ]
  },
  {
   "cell_type": "code",
   "execution_count": 3,
   "metadata": {},
   "outputs": [
    {
     "data": {
      "text/plain": [
       "400               [수레바퀴, 학회, 경영]\n",
       "401      [Young Tigers, 운동, 동아리]\n",
       "402             [KULSOM, 학회, 경영]\n",
       "403               [유도부, 동아리, 운동]\n",
       "404           [KU-HOPE, 봉사, 동아리]\n",
       "                 ...            \n",
       "595                [명중, 동아리, 운동]\n",
       "596           [예술비평연구회, 예술, 동아리]\n",
       "597            [CREAKET, 경영, 학회]\n",
       "598    [Partyproviders, 동아리, 예술]\n",
       "599              [KUHS, 봉사, 동아리]\n",
       "Name: 6, Length: 200, dtype: object"
      ]
     },
     "execution_count": 3,
     "metadata": {},
     "output_type": "execute_result"
    }
   ],
   "source": [
    "tags = tags.apply(ast.literal_eval)\n",
    "tags"
   ]
  },
  {
   "cell_type": "code",
   "execution_count": 4,
   "metadata": {},
   "outputs": [],
   "source": [
    "tags = tags.reset_index().iloc[:,1]"
   ]
  },
  {
   "cell_type": "code",
   "execution_count": 5,
   "metadata": {},
   "outputs": [
    {
     "data": {
      "text/plain": [
       "0                 [수레바퀴, 학회, 경영]\n",
       "1        [Young Tigers, 운동, 동아리]\n",
       "2               [KULSOM, 학회, 경영]\n",
       "3                 [유도부, 동아리, 운동]\n",
       "4             [KU-HOPE, 봉사, 동아리]\n",
       "                 ...            \n",
       "195                [명중, 동아리, 운동]\n",
       "196           [예술비평연구회, 예술, 동아리]\n",
       "197            [CREAKET, 경영, 학회]\n",
       "198    [Partyproviders, 동아리, 예술]\n",
       "199              [KUHS, 봉사, 동아리]\n",
       "Name: 6, Length: 200, dtype: object"
      ]
     },
     "execution_count": 5,
     "metadata": {},
     "output_type": "execute_result"
    }
   ],
   "source": [
    "tags"
   ]
  },
  {
   "cell_type": "markdown",
   "metadata": {},
   "source": [
    "## 동아리이름"
   ]
  },
  {
   "cell_type": "code",
   "execution_count": 6,
   "metadata": {},
   "outputs": [
    {
     "data": {
      "text/plain": [
       "0                수레바퀴\n",
       "1        Young Tigers\n",
       "2              KULSOM\n",
       "3                 유도부\n",
       "4             KU-HOPE\n",
       "            ...      \n",
       "195                명중\n",
       "196           예술비평연구회\n",
       "197           CREAKET\n",
       "198    Partyproviders\n",
       "199              KUHS\n",
       "Length: 200, dtype: object"
      ]
     },
     "execution_count": 6,
     "metadata": {},
     "output_type": "execute_result"
    }
   ],
   "source": [
    "names = pd.Series([_[0] for _ in tags])\n",
    "names"
   ]
  },
  {
   "cell_type": "code",
   "execution_count": 7,
   "metadata": {},
   "outputs": [],
   "source": [
    "names.name = 'clubName'"
   ]
  },
  {
   "cell_type": "markdown",
   "metadata": {},
   "source": [
    "## 카테고리 태그들"
   ]
  },
  {
   "cell_type": "code",
   "execution_count": 8,
   "metadata": {},
   "outputs": [
    {
     "data": {
      "text/plain": [
       "0       [학회, 경영]\n",
       "1      [운동, 동아리]\n",
       "2       [학회, 경영]\n",
       "3      [동아리, 운동]\n",
       "4      [봉사, 동아리]\n",
       "         ...    \n",
       "195    [동아리, 운동]\n",
       "196    [예술, 동아리]\n",
       "197     [경영, 학회]\n",
       "198    [동아리, 예술]\n",
       "199    [봉사, 동아리]\n",
       "Length: 200, dtype: object"
      ]
     },
     "execution_count": 8,
     "metadata": {},
     "output_type": "execute_result"
    }
   ],
   "source": [
    "categorytags = pd.Series([_[1:] for _ in tags])\n",
    "categorytags"
   ]
  },
  {
   "cell_type": "code",
   "execution_count": 9,
   "metadata": {},
   "outputs": [],
   "source": [
    "categorytags.name = 'categories'"
   ]
  },
  {
   "cell_type": "markdown",
   "metadata": {},
   "source": [
    "## 조회수 랜덤 부여\n",
    "태그를 기반으로 동아리를 뽑으면, 랭킹별로 나열할 예정\n",
    "(조회수는 어플 제작하면 db에 실시간 로그 수집할 예정이나, 우선은 랜덤으로 조회수 부여)  \n",
    "DB에는 유저별-페이지별 뷰로 수집(collaborative filtering용)이 될건데, 여기서는 페이지별로 다 sum aggregate 할것임"
   ]
  },
  {
   "cell_type": "code",
   "execution_count": 10,
   "metadata": {},
   "outputs": [
    {
     "data": {
      "text/plain": [
       "0       74\n",
       "1      108\n",
       "2       98\n",
       "3       86\n",
       "4      119\n",
       "      ... \n",
       "195    176\n",
       "196    195\n",
       "197      8\n",
       "198    170\n",
       "199      9\n",
       "Length: 200, dtype: int64"
      ]
     },
     "execution_count": 10,
     "metadata": {},
     "output_type": "execute_result"
    }
   ],
   "source": [
    "## 조회수 랜덤 부여\n",
    "import random\n",
    "lst = []\n",
    "for _ in range(200):\n",
    "    lst.append(random.randint(0,200))\n",
    "viewed = pd.Series(lst)\n",
    "viewed"
   ]
  },
  {
   "cell_type": "code",
   "execution_count": 11,
   "metadata": {},
   "outputs": [],
   "source": [
    "viewed.name = 'viewed'"
   ]
  },
  {
   "cell_type": "code",
   "execution_count": 12,
   "metadata": {},
   "outputs": [],
   "source": [
    "data = data.iloc[:,:-1].reset_index().drop(['index'],axis=1)"
   ]
  },
  {
   "cell_type": "code",
   "execution_count": 13,
   "metadata": {},
   "outputs": [
    {
     "data": {
      "text/html": [
       "<div>\n",
       "<style scoped>\n",
       "    .dataframe tbody tr th:only-of-type {\n",
       "        vertical-align: middle;\n",
       "    }\n",
       "\n",
       "    .dataframe tbody tr th {\n",
       "        vertical-align: top;\n",
       "    }\n",
       "\n",
       "    .dataframe thead th {\n",
       "        text-align: right;\n",
       "    }\n",
       "</style>\n",
       "<table border=\"1\" class=\"dataframe\">\n",
       "  <thead>\n",
       "    <tr style=\"text-align: right;\">\n",
       "      <th></th>\n",
       "      <th>0</th>\n",
       "      <th>1</th>\n",
       "      <th>2</th>\n",
       "      <th>3</th>\n",
       "      <th>4</th>\n",
       "      <th>5</th>\n",
       "      <th>clubName</th>\n",
       "      <th>categories</th>\n",
       "      <th>viewed</th>\n",
       "    </tr>\n",
       "  </thead>\n",
       "  <tbody>\n",
       "    <tr>\n",
       "      <th>0</th>\n",
       "      <td>401</td>\n",
       "      <td>??중앙동아리 정치경제학연구회 수레바퀴가 신입 연인을 모집합니다</td>\n",
       "      <td>https://www.koreapas.com/bbs/view.php?id=circl...</td>\n",
       "      <td>[]</td>\n",
       "      <td>??중앙동아리 정치경제학연구회 수레바퀴가 신입 연인을 모집합니다!\\n\\r\\n?수레바...</td>\n",
       "      <td>중앙동아리 정치경제학연구회 수레바퀴가 신입 연인을 모집합니다중앙동아리 정치경제학연구...</td>\n",
       "      <td>수레바퀴</td>\n",
       "      <td>[학회, 경영]</td>\n",
       "      <td>74</td>\n",
       "    </tr>\n",
       "    <tr>\n",
       "      <th>1</th>\n",
       "      <td>402</td>\n",
       "      <td>[2020 YOUNG TIGERS 신입단원 모집 D-day]</td>\n",
       "      <td>https://www.koreapas.com/bbs/view.php?id=circl...</td>\n",
       "      <td>['https://img.koreapas.com/i/de478d7/resize']</td>\n",
       "      <td>[2020 YOUNG TIGERS 신입단원 모집]\\n\\r\\n안녕하십니까 고려대학교 ...</td>\n",
       "      <td>2020 YOUNG TIGERS 신입단원 모집 Dday 2020 YOUNG TIGE...</td>\n",
       "      <td>Young Tigers</td>\n",
       "      <td>[운동, 동아리]</td>\n",
       "      <td>108</td>\n",
       "    </tr>\n",
       "    <tr>\n",
       "      <th>2</th>\n",
       "      <td>403</td>\n",
       "      <td>??[KULSOM D-1] 마감 하루 전!!??????</td>\n",
       "      <td>https://www.koreapas.com/bbs/view.php?id=circl...</td>\n",
       "      <td>['https://img.koreapas.com/i/6f7ae51/resize']</td>\n",
       "      <td>??지원 마감 하루 전입니다! \\n\\r\\n??한 학기 같이 즐거운 추억 만들어요! ...</td>\n",
       "      <td>KULSOM D1 마감 하루 전!! 지원 마감 하루 전입니다!   한 학기 같이 즐...</td>\n",
       "      <td>KULSOM</td>\n",
       "      <td>[학회, 경영]</td>\n",
       "      <td>98</td>\n",
       "    </tr>\n",
       "    <tr>\n",
       "      <th>3</th>\n",
       "      <td>404</td>\n",
       "      <td>[柔道部] 유도부 상시모집 ??</td>\n",
       "      <td>https://www.koreapas.com/bbs/view.php?id=circl...</td>\n",
       "      <td>['https://img.koreapas.com/i/5b0b384/resize', ...</td>\n",
       "      <td>??고대 유도부 신입부원 상시모집??\\r\\n????아무나 와라 강하게 키워줄게???...</td>\n",
       "      <td>유도부 상시모집  고대 유도부 신입부원 상시모집 아무나 와라 강하게 키워줄게  고...</td>\n",
       "      <td>유도부</td>\n",
       "      <td>[동아리, 운동]</td>\n",
       "      <td>86</td>\n",
       "    </tr>\n",
       "    <tr>\n",
       "      <th>4</th>\n",
       "      <td>405</td>\n",
       "      <td>[D-3]??KU-HOPE 2020년 1학기 리크루팅!??</td>\n",
       "      <td>https://www.koreapas.com/bbs/view.php?id=circl...</td>\n",
       "      <td>['https://img.koreapas.com/i/e01d297/resize']</td>\n",
       "      <td>??재난에서 희망으로! 안녕하세요 고려대학교 집수리봉사동아리 KU-HOPE 입니다....</td>\n",
       "      <td>D3KUHOPE 2020년 1학기 리크루팅! 재난에서 희망으로! 안녕하세요 고려대학...</td>\n",
       "      <td>KU-HOPE</td>\n",
       "      <td>[봉사, 동아리]</td>\n",
       "      <td>119</td>\n",
       "    </tr>\n",
       "  </tbody>\n",
       "</table>\n",
       "</div>"
      ],
      "text/plain": [
       "     0                                    1  \\\n",
       "0  401  ??중앙동아리 정치경제학연구회 수레바퀴가 신입 연인을 모집합니다   \n",
       "1  402   [2020 YOUNG TIGERS 신입단원 모집 D-day]    \n",
       "2  403      ??[KULSOM D-1] 마감 하루 전!!??????    \n",
       "3  404                   [柔道部] 유도부 상시모집 ??    \n",
       "4  405    [D-3]??KU-HOPE 2020년 1학기 리크루팅!??    \n",
       "\n",
       "                                                   2  \\\n",
       "0  https://www.koreapas.com/bbs/view.php?id=circl...   \n",
       "1  https://www.koreapas.com/bbs/view.php?id=circl...   \n",
       "2  https://www.koreapas.com/bbs/view.php?id=circl...   \n",
       "3  https://www.koreapas.com/bbs/view.php?id=circl...   \n",
       "4  https://www.koreapas.com/bbs/view.php?id=circl...   \n",
       "\n",
       "                                                   3  \\\n",
       "0                                                 []   \n",
       "1      ['https://img.koreapas.com/i/de478d7/resize']   \n",
       "2      ['https://img.koreapas.com/i/6f7ae51/resize']   \n",
       "3  ['https://img.koreapas.com/i/5b0b384/resize', ...   \n",
       "4      ['https://img.koreapas.com/i/e01d297/resize']   \n",
       "\n",
       "                                                   4  \\\n",
       "0  ??중앙동아리 정치경제학연구회 수레바퀴가 신입 연인을 모집합니다!\\n\\r\\n?수레바...   \n",
       "1  [2020 YOUNG TIGERS 신입단원 모집]\\n\\r\\n안녕하십니까 고려대학교 ...   \n",
       "2  ??지원 마감 하루 전입니다! \\n\\r\\n??한 학기 같이 즐거운 추억 만들어요! ...   \n",
       "3  ??고대 유도부 신입부원 상시모집??\\r\\n????아무나 와라 강하게 키워줄게???...   \n",
       "4  ??재난에서 희망으로! 안녕하세요 고려대학교 집수리봉사동아리 KU-HOPE 입니다....   \n",
       "\n",
       "                                                   5      clubName categories  \\\n",
       "0  중앙동아리 정치경제학연구회 수레바퀴가 신입 연인을 모집합니다중앙동아리 정치경제학연구...          수레바퀴   [학회, 경영]   \n",
       "1  2020 YOUNG TIGERS 신입단원 모집 Dday 2020 YOUNG TIGE...  Young Tigers  [운동, 동아리]   \n",
       "2  KULSOM D1 마감 하루 전!! 지원 마감 하루 전입니다!   한 학기 같이 즐...        KULSOM   [학회, 경영]   \n",
       "3   유도부 상시모집  고대 유도부 신입부원 상시모집 아무나 와라 강하게 키워줄게  고...           유도부  [동아리, 운동]   \n",
       "4  D3KUHOPE 2020년 1학기 리크루팅! 재난에서 희망으로! 안녕하세요 고려대학...       KU-HOPE  [봉사, 동아리]   \n",
       "\n",
       "   viewed  \n",
       "0      74  \n",
       "1     108  \n",
       "2      98  \n",
       "3      86  \n",
       "4     119  "
      ]
     },
     "execution_count": 13,
     "metadata": {},
     "output_type": "execute_result"
    }
   ],
   "source": [
    "data = pd.concat([data, names, categorytags, viewed], axis=1)\n",
    "data.head()"
   ]
  },
  {
   "cell_type": "code",
   "execution_count": 14,
   "metadata": {},
   "outputs": [],
   "source": [
    "data.to_csv('clubs_200_withviewcnt.csv')"
   ]
  },
  {
   "cell_type": "markdown",
   "metadata": {},
   "source": [
    "## 동아리 카테고리 추출"
   ]
  },
  {
   "cell_type": "code",
   "execution_count": 33,
   "metadata": {},
   "outputs": [],
   "source": [
    "alll = []\n",
    "for _ in data.categories:\n",
    "    alll+=_"
   ]
  },
  {
   "cell_type": "code",
   "execution_count": 38,
   "metadata": {},
   "outputs": [
    {
     "name": "stdout",
     "output_type": "stream",
     "text": [
      "['봉사', '경영', '대외활동', '음악', '스터디', '사회', '언어', '모집', '예술', '학회', '운동', '동아리', '친목', '연합', 'IT', '비거니즘', '노래', '종교']\n"
     ]
    }
   ],
   "source": [
    "alll = list(set(alll)) #모집?비거니즘??\n",
    "print(alll)"
   ]
  },
  {
   "cell_type": "markdown",
   "metadata": {},
   "source": [
    "# Simple Recommendation System 구현\n",
    "## 1. 유저가 직접 카테고리 선택 -> 조회수 랭크\n",
    "고른 카테고리들로 filtering 한 뒤, 조회수로 랭킹"
   ]
  },
  {
   "cell_type": "code",
   "execution_count": 67,
   "metadata": {},
   "outputs": [],
   "source": [
    "def simple_recommendation_uchoose():\n",
    "    print('[봉사, 경영, 대외활동, 음악, 스터디, 사회, 언어, 모집, 예술, 학회, 운동, 동아리, 친목, 연합, IT, 비거니즘, 노래, 종교] 중 선택(복수선택 가능)')\n",
    "    print()\n",
    "    selected = input().split(' ')\n",
    "    \n",
    "    ## 사용자가 고른 태그에 속하는 동아리 추출\n",
    "    data_selected = data.loc[data.categories.apply(lambda y : any(x in y for x in selected))]\n",
    "    \n",
    "    ## 조회수별로 정렬\n",
    "    selected_ordered = data_selected.sort_values(by='viewed', ascending=False)\n",
    "    \n",
    "    print()\n",
    "    print('당신이 고른 카테고리에 해당되는 동아리를 인기순으로 나열')\n",
    "    return selected_ordered.clubName.reset_index().clubName"
   ]
  },
  {
   "cell_type": "code",
   "execution_count": 68,
   "metadata": {},
   "outputs": [
    {
     "name": "stdout",
     "output_type": "stream",
     "text": [
      "[봉사, 경영, 대외활동, 음악, 스터디, 사회, 언어, 모집, 예술, 학회, 운동, 동아리, 친목, 연합, IT, 비거니즘, 노래, 종교] 중 선택(복수선택 가능)\n",
      "\n",
      "음악 예술\n",
      "\n",
      "당신이 고른 카테고리에 해당되는 동아리를 인기순으로 나열\n"
     ]
    },
    {
     "data": {
      "text/plain": [
       "0                    합창단\n",
       "1                  고전기타부\n",
       "2                  TRUSS\n",
       "3                    ATP\n",
       "4                     혼미\n",
       "5                     혼미\n",
       "6                  중앙락밴드\n",
       "7                    프릭스\n",
       "8                  온 보이싱\n",
       "9                    관악부\n",
       "10                    혼미\n",
       "11                    혼미\n",
       "12    Talk Through Piano\n",
       "13                   합창단\n",
       "14                 성우동아리\n",
       "15                  SNAP\n",
       "16                 양지바른곳\n",
       "17                문화예술체험\n",
       "18                   로그스\n",
       "19                영연 연극반\n",
       "20                 고대문학회\n",
       "21                   합창단\n",
       "22               예술비평연구회\n",
       "23                영연 연극반\n",
       "24                극예술연구회\n",
       "25              soulmate\n",
       "26                 고대풍물패\n",
       "27                  하날다래\n",
       "28                   로그스\n",
       "29        Partyproviders\n",
       "30                 중앙락밴드\n",
       "31                   로그스\n",
       "32                   로그스\n",
       "33                    혼미\n",
       "34                    돌빛\n",
       "35                 중앙락밴드\n",
       "36                 고대농악대\n",
       "37                  온보이싱\n",
       "Name: clubName, dtype: object"
      ]
     },
     "execution_count": 68,
     "metadata": {},
     "output_type": "execute_result"
    }
   ],
   "source": [
    "simple_recommendation_uchoose()"
   ]
  },
  {
   "cell_type": "markdown",
   "metadata": {},
   "source": [
    "## 2. 유저정보에 알맞게 매핑 -> 조회수 랭크"
   ]
  },
  {
   "cell_type": "code",
   "execution_count": 71,
   "metadata": {},
   "outputs": [
    {
     "name": "stdout",
     "output_type": "stream",
     "text": [
      "['봉사', '경영', '대외활동', '음악', '스터디', '사회', '언어', '모집', '예술', '학회', '운동', '동아리', '친목', '연합', 'IT', '비거니즘', '노래', '종교']\n"
     ]
    }
   ],
   "source": [
    "print(alll)"
   ]
  },
  {
   "cell_type": "markdown",
   "metadata": {},
   "source": [
    "### <학년>\n",
    "1학년 => 동아리, 친목, 연합\n",
    "2학년 => 동아리,대외활동,봉사\n",
    "3학년 => 대외활동, 봉사\n",
    "4학년 => 학회, 스터디, 공모전(추가하면 좋을 것 같음)\n",
    "\n",
    "\n",
    "### <여자/남자>\n",
    "여자 => 음악, 예술, 언어\n",
    "남자 => 운동, 음악, IT\n",
    "\n",
    "\n",
    "### <학과-대학별로?>\n",
    "정보대학, 정보보호학부, 공과대학, 이과대학 => IT\n",
    "정경대학, 경영대학 => 경영, 대외활동\n",
    "간호대학, 보건과학대학 => 사회\n",
    "국제학부 => 언어\n",
    "디자인조형학부 => 예술\n",
    "미디어학부 => 경영, 대외활동, 예술, 음악\n",
    "문과대학, 사범대학 => 대외활동, 사회, 언어\n",
    "생명과학대학, 의과대학 => 봉사?????\n"
   ]
  },
  {
   "cell_type": "code",
   "execution_count": 74,
   "metadata": {},
   "outputs": [],
   "source": [
    "graded = {'1학년': ['동아리', '친목', '연합'],\n",
    "'2학년' : ['동아리','대외활동','봉사'],\n",
    "'3학년' : ['대외활동', '봉사'],\n",
    "'4학년' : ['학회', '스터디', '공모전']}\n",
    "\n",
    "    \n",
    "sexd = {'여자' : ['음악','예술', '언어'],\n",
    "'남자' : ['운동', '음악', 'IT']}\n",
    "\n",
    "\n",
    "colleged = {'정보대학' : ['IT'],\n",
    "            '정보보호학부' : ['IT'],\n",
    "            '공과대학' : ['IT'],\n",
    "            '이과대학' : ['IT'],\n",
    "            '정경대학' :  ['경영', '대외활동'], \n",
    "            '경영대학' :  ['경영', '대외활동'], \n",
    "            '간호대학':['사회'], \n",
    "            '보건과학대학':['사회'],\n",
    "            '국제학부' : ['언어'],\n",
    "            '디자인조형학부' : ['예술'],\n",
    "            '미디어학부' : ['경영', '대외활동', '예술', '음악'],\n",
    "            '문과대학' : ['대외활동', '사회', '언어'] , \n",
    "            '사범대학' : ['대외활동', '사회', '언어'] ,\n",
    "            '생명과학대학':['봉사'], \n",
    "            '의과대학' : ['봉사']}\n"
   ]
  },
  {
   "cell_type": "code",
   "execution_count": 76,
   "metadata": {},
   "outputs": [],
   "source": [
    "def simple_recommendation_map():\n",
    "    print('당신의 학년은?')\n",
    "    grade = input()\n",
    "    print()\n",
    "\n",
    "    print('여자/남자')\n",
    "    sex = input()\n",
    "    print()\n",
    "\n",
    "    print('단과대학')\n",
    "    college = input()\n",
    "    \n",
    "    selected = list(set(graded[grade]+sexd[sex]+colleged[college]))\n",
    "    \n",
    "    ## 사용자정보에 매핑하여 속하는 동아리 추출\n",
    "    data_selected = data.loc[data.categories.apply(lambda y : any(x in y for x in selected))]\n",
    "    \n",
    "    ## 조회수별로 정렬\n",
    "    selected_ordered = data_selected.sort_values(by='viewed', ascending=False)\n",
    "    \n",
    "    print()\n",
    "    print('당신에게 어울리는 동아리를 인기순으로 나열')\n",
    "    return selected_ordered.clubName.reset_index().clubName"
   ]
  },
  {
   "cell_type": "code",
   "execution_count": 77,
   "metadata": {},
   "outputs": [
    {
     "name": "stdout",
     "output_type": "stream",
     "text": [
      "당신의 학년은?\n",
      "4학년\n",
      "\n",
      "여자/남자\n",
      "여자\n",
      "\n",
      "단과대학\n",
      "정보대학\n",
      "\n",
      "당신에게 어울리는 동아리를 인기순으로 나열\n"
     ]
    },
    {
     "data": {
      "text/plain": [
       "0      사이버법정책학회\n",
       "1           코기토\n",
       "2          수레바퀴\n",
       "3           합창단\n",
       "4         고전기타부\n",
       "         ...   \n",
       "96          SBC\n",
       "97        쿠리에이터\n",
       "98         온보이싱\n",
       "99      CREAKET\n",
       "100       쿠리에이터\n",
       "Name: clubName, Length: 101, dtype: object"
      ]
     },
     "execution_count": 77,
     "metadata": {},
     "output_type": "execute_result"
    }
   ],
   "source": [
    "simple_recommendation_map()"
   ]
  },
  {
   "cell_type": "code",
   "execution_count": null,
   "metadata": {},
   "outputs": [],
   "source": []
  }
 ],
 "metadata": {
  "kernelspec": {
   "display_name": "Python 3",
   "language": "python",
   "name": "python3"
  },
  "language_info": {
   "codemirror_mode": {
    "name": "ipython",
    "version": 3
   },
   "file_extension": ".py",
   "mimetype": "text/x-python",
   "name": "python",
   "nbconvert_exporter": "python",
   "pygments_lexer": "ipython3",
   "version": "3.7.1"
  }
 },
 "nbformat": 4,
 "nbformat_minor": 2
}
