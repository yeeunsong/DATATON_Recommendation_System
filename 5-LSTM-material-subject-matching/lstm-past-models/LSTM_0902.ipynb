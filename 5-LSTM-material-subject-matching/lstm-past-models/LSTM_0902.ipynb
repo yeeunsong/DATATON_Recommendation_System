{
 "cells": [
  {
   "cell_type": "code",
   "execution_count": 1,
   "metadata": {},
   "outputs": [],
   "source": [
    "import pandas as pd"
   ]
  },
  {
   "cell_type": "markdown",
   "metadata": {},
   "source": [
    "## Load 5 CSV files"
   ]
  },
  {
   "cell_type": "code",
   "execution_count": 2,
   "metadata": {},
   "outputs": [],
   "source": [
    "# load 5 csv files for LSTM\n",
    "\n",
    "kuchive = pd.read_csv('kuchive.csv')\n",
    "contest = pd.read_csv('contest_tagfixed.csv')\n",
    "activity = pd.read_csv('activity_tagfixed.csv')\n",
    "jobs = pd.read_csv('jobs.csv')\n",
    "clubs = pd.read_csv('clubs_tagfixed.csv')"
   ]
  },
  {
   "cell_type": "code",
   "execution_count": 3,
   "metadata": {},
   "outputs": [],
   "source": [
    "## 추가할 기능??\n",
    "## Add TITLE and DESCRIPTION to a new column --> FULLTXT"
   ]
  },
  {
   "cell_type": "code",
   "execution_count": 4,
   "metadata": {},
   "outputs": [],
   "source": [
    "# leave only the description and tags\n",
    "\n",
    "kuchive = kuchive.iloc[:, [6, 7]]\n",
    "contest = contest.iloc[:, [7, 8]]\n",
    "activity = activity.iloc[:, [7, 8]]\n",
    "jobs = jobs.iloc[:, [3, 6]]\n",
    "clubs = clubs.iloc[:, [3, 4]]"
   ]
  },
  {
   "cell_type": "code",
   "execution_count": 5,
   "metadata": {},
   "outputs": [
    {
     "data": {
      "text/html": [
       "<div>\n",
       "<style scoped>\n",
       "    .dataframe tbody tr th:only-of-type {\n",
       "        vertical-align: middle;\n",
       "    }\n",
       "\n",
       "    .dataframe tbody tr th {\n",
       "        vertical-align: top;\n",
       "    }\n",
       "\n",
       "    .dataframe thead th {\n",
       "        text-align: right;\n",
       "    }\n",
       "</style>\n",
       "<table border=\"1\" class=\"dataframe\">\n",
       "  <thead>\n",
       "    <tr style=\"text-align: right;\">\n",
       "      <th></th>\n",
       "      <th>description</th>\n",
       "      <th>tags</th>\n",
       "    </tr>\n",
       "  </thead>\n",
       "  <tbody>\n",
       "    <tr>\n",
       "      <th>0</th>\n",
       "      <td>장애학생지원센터 서포터즈 모해 10기</td>\n",
       "      <td>['봉사']</td>\n",
       "    </tr>\n",
       "    <tr>\n",
       "      <th>1</th>\n",
       "      <td>장애학생지원센터에서는 다음과 같이 2020학년도 1학기 장애학생 도우미를 모집합니다...</td>\n",
       "      <td>['봉사']</td>\n",
       "    </tr>\n",
       "    <tr>\n",
       "      <th>2</th>\n",
       "      <td>고대인들을 다학제적융합인재로 성장시키기위한 인문학 교육 특강- 강연 제목 : 당신이...</td>\n",
       "      <td>['예술','사회']</td>\n",
       "    </tr>\n",
       "    <tr>\n",
       "      <th>3</th>\n",
       "      <td>고대인들을 다학제적융합인재로 성장시키기위한 인문학 교육 특강- 강연 제목 : 미국의...</td>\n",
       "      <td>['예술','IT']</td>\n",
       "    </tr>\n",
       "    <tr>\n",
       "      <th>4</th>\n",
       "      <td>고대인들을 다학제적융합인재로 성장시키기위한 인문학 교육 특강- 강연 제목 : 영화를...</td>\n",
       "      <td>['예술']</td>\n",
       "    </tr>\n",
       "  </tbody>\n",
       "</table>\n",
       "</div>"
      ],
      "text/plain": [
       "                                         description         tags\n",
       "0                               장애학생지원센터 서포터즈 모해 10기       ['봉사']\n",
       "1  장애학생지원센터에서는 다음과 같이 2020학년도 1학기 장애학생 도우미를 모집합니다...       ['봉사']\n",
       "2  고대인들을 다학제적융합인재로 성장시키기위한 인문학 교육 특강- 강연 제목 : 당신이...  ['예술','사회']\n",
       "3  고대인들을 다학제적융합인재로 성장시키기위한 인문학 교육 특강- 강연 제목 : 미국의...  ['예술','IT']\n",
       "4  고대인들을 다학제적융합인재로 성장시키기위한 인문학 교육 특강- 강연 제목 : 영화를...       ['예술']"
      ]
     },
     "execution_count": 5,
     "metadata": {},
     "output_type": "execute_result"
    }
   ],
   "source": [
    "kuchive.head()\n",
    "# kuchive.info()"
   ]
  },
  {
   "cell_type": "code",
   "execution_count": 6,
   "metadata": {},
   "outputs": [
    {
     "data": {
      "text/html": [
       "<div>\n",
       "<style scoped>\n",
       "    .dataframe tbody tr th:only-of-type {\n",
       "        vertical-align: middle;\n",
       "    }\n",
       "\n",
       "    .dataframe tbody tr th {\n",
       "        vertical-align: top;\n",
       "    }\n",
       "\n",
       "    .dataframe thead th {\n",
       "        text-align: right;\n",
       "    }\n",
       "</style>\n",
       "<table border=\"1\" class=\"dataframe\">\n",
       "  <thead>\n",
       "    <tr style=\"text-align: right;\">\n",
       "      <th></th>\n",
       "      <th>description</th>\n",
       "      <th>tags</th>\n",
       "    </tr>\n",
       "  </thead>\n",
       "  <tbody>\n",
       "    <tr>\n",
       "      <th>0</th>\n",
       "      <td>2020년 한국야쿠르트 마케팅 공모전   ■ 공모주제 · 언택트 시대에 걸맞은 차별...</td>\n",
       "      <td>['공모전', '경영']</td>\n",
       "    </tr>\n",
       "    <tr>\n",
       "      <th>1</th>\n",
       "      <td>제1회 도전.한국 대국민 아이디어 공모전▷  지원자격 : 관심 있는 국민‧기업‧단체...</td>\n",
       "      <td>['공모전', '봉사']</td>\n",
       "    </tr>\n",
       "    <tr>\n",
       "      <th>2</th>\n",
       "      <td>2020년 K-water 대국민 환경 빅데이터 공모전▷ 담당자 전화번호 :042-6...</td>\n",
       "      <td>['공모전', 'IT', '과학']</td>\n",
       "    </tr>\n",
       "    <tr>\n",
       "      <th>3</th>\n",
       "      <td>[기획재정부] 국민참여예산 대학생 공모전 (~8/31)■ 신청기간2020년 6월 2...</td>\n",
       "      <td>['공모전', '사회']</td>\n",
       "    </tr>\n",
       "    <tr>\n",
       "      <th>4</th>\n",
       "      <td>2020 제26회 문학동네 소설상 공모▷ 응모마감 : 2020년 8월 30일 (마감...</td>\n",
       "      <td>['공모전']</td>\n",
       "    </tr>\n",
       "  </tbody>\n",
       "</table>\n",
       "</div>"
      ],
      "text/plain": [
       "                                         description                 tags\n",
       "0  2020년 한국야쿠르트 마케팅 공모전   ■ 공모주제 · 언택트 시대에 걸맞은 차별...        ['공모전', '경영']\n",
       "1  제1회 도전.한국 대국민 아이디어 공모전▷  지원자격 : 관심 있는 국민‧기업‧단체...        ['공모전', '봉사']\n",
       "2  2020년 K-water 대국민 환경 빅데이터 공모전▷ 담당자 전화번호 :042-6...  ['공모전', 'IT', '과학']\n",
       "3  [기획재정부] 국민참여예산 대학생 공모전 (~8/31)■ 신청기간2020년 6월 2...        ['공모전', '사회']\n",
       "4  2020 제26회 문학동네 소설상 공모▷ 응모마감 : 2020년 8월 30일 (마감...              ['공모전']"
      ]
     },
     "execution_count": 6,
     "metadata": {},
     "output_type": "execute_result"
    }
   ],
   "source": [
    "contest.head()\n",
    "# contest.info()"
   ]
  },
  {
   "cell_type": "code",
   "execution_count": 7,
   "metadata": {},
   "outputs": [
    {
     "data": {
      "text/html": [
       "<div>\n",
       "<style scoped>\n",
       "    .dataframe tbody tr th:only-of-type {\n",
       "        vertical-align: middle;\n",
       "    }\n",
       "\n",
       "    .dataframe tbody tr th {\n",
       "        vertical-align: top;\n",
       "    }\n",
       "\n",
       "    .dataframe thead th {\n",
       "        text-align: right;\n",
       "    }\n",
       "</style>\n",
       "<table border=\"1\" class=\"dataframe\">\n",
       "  <thead>\n",
       "    <tr style=\"text-align: right;\">\n",
       "      <th></th>\n",
       "      <th>description</th>\n",
       "      <th>tags</th>\n",
       "    </tr>\n",
       "  </thead>\n",
       "  <tbody>\n",
       "    <tr>\n",
       "      <th>0</th>\n",
       "      <td>[코로나 관련 안내]- 아름다운가게는 안전한 자원활동 현장 지침을 적용 중이며 수시...</td>\n",
       "      <td>['대외활동', '경영', '봉사']</td>\n",
       "    </tr>\n",
       "    <tr>\n",
       "      <th>1</th>\n",
       "      <td>★ 모집내용지원자격 : 대학교 재학 또는 휴학생 (블로그 및 SNS 활용자) (4학...</td>\n",
       "      <td>['대외활동', '기타']</td>\n",
       "    </tr>\n",
       "    <tr>\n",
       "      <th>2</th>\n",
       "      <td>***전세게적 코로나 팬더믹으로 인해 2020년 모든 일정이 2021년 03월이후로...</td>\n",
       "      <td>['대외활동', '사회', '봉사']</td>\n",
       "    </tr>\n",
       "    <tr>\n",
       "      <th>3</th>\n",
       "      <td>고용노동부주관 기관평가 5년 인증 최우수 기관!국내 최고의 SW 전문인력 양성기관멀...</td>\n",
       "      <td>['대외활동', 'IT']</td>\n",
       "    </tr>\n",
       "    <tr>\n",
       "      <th>4</th>\n",
       "      <td>2020 중앙자살예방센터 자살유발정보 모니터링단 지켜줌인(人) 모집▷ 모집 기간  ...</td>\n",
       "      <td>['대외활동', '봉사']</td>\n",
       "    </tr>\n",
       "  </tbody>\n",
       "</table>\n",
       "</div>"
      ],
      "text/plain": [
       "                                         description                  tags\n",
       "0  [코로나 관련 안내]- 아름다운가게는 안전한 자원활동 현장 지침을 적용 중이며 수시...  ['대외활동', '경영', '봉사']\n",
       "1  ★ 모집내용지원자격 : 대학교 재학 또는 휴학생 (블로그 및 SNS 활용자) (4학...        ['대외활동', '기타']\n",
       "2  ***전세게적 코로나 팬더믹으로 인해 2020년 모든 일정이 2021년 03월이후로...  ['대외활동', '사회', '봉사']\n",
       "3  고용노동부주관 기관평가 5년 인증 최우수 기관!국내 최고의 SW 전문인력 양성기관멀...        ['대외활동', 'IT']\n",
       "4  2020 중앙자살예방센터 자살유발정보 모니터링단 지켜줌인(人) 모집▷ 모집 기간  ...        ['대외활동', '봉사']"
      ]
     },
     "execution_count": 7,
     "metadata": {},
     "output_type": "execute_result"
    }
   ],
   "source": [
    "activity.head()\n",
    "# activity.info()"
   ]
  },
  {
   "cell_type": "code",
   "execution_count": 8,
   "metadata": {},
   "outputs": [
    {
     "data": {
      "text/html": [
       "<div>\n",
       "<style scoped>\n",
       "    .dataframe tbody tr th:only-of-type {\n",
       "        vertical-align: middle;\n",
       "    }\n",
       "\n",
       "    .dataframe tbody tr th {\n",
       "        vertical-align: top;\n",
       "    }\n",
       "\n",
       "    .dataframe thead th {\n",
       "        text-align: right;\n",
       "    }\n",
       "</style>\n",
       "<table border=\"1\" class=\"dataframe\">\n",
       "  <thead>\n",
       "    <tr style=\"text-align: right;\">\n",
       "      <th></th>\n",
       "      <th>description</th>\n",
       "      <th>tags</th>\n",
       "    </tr>\n",
       "  </thead>\n",
       "  <tbody>\n",
       "    <tr>\n",
       "      <th>0</th>\n",
       "      <td>\\n코로나19로 중단된 상시 자기소개서첨삭 서비스를 한시적으로 온라인으로 진행하고자...</td>\n",
       "      <td>취업</td>\n",
       "    </tr>\n",
       "    <tr>\n",
       "      <th>1</th>\n",
       "      <td>\\n코로나19로 중단된 상시 자기소개서첨삭 서비스를 한시적으로 온라인으로 진행하고자...</td>\n",
       "      <td>취업</td>\n",
       "    </tr>\n",
       "    <tr>\n",
       "      <th>2</th>\n",
       "      <td>\\n코로나19로 중단된 일대일커리어상담서비스를 한시적으로 온라인으로 진행하고자 합니...</td>\n",
       "      <td>취업</td>\n",
       "    </tr>\n",
       "    <tr>\n",
       "      <th>3</th>\n",
       "      <td>\\n본 페이지는 '2020년 상반기 기업면접리뷰 워크숍' 신청페이지입니다.\\n\\n1...</td>\n",
       "      <td>취업</td>\n",
       "    </tr>\n",
       "    <tr>\n",
       "      <th>4</th>\n",
       "      <td>\\n'2020년 상반기 취업수기 공모'를 안내드립니다.\\n\\n※ 신청절차(단계별 상...</td>\n",
       "      <td>취업</td>\n",
       "    </tr>\n",
       "  </tbody>\n",
       "</table>\n",
       "</div>"
      ],
      "text/plain": [
       "                                         description tags\n",
       "0  \\n코로나19로 중단된 상시 자기소개서첨삭 서비스를 한시적으로 온라인으로 진행하고자...   취업\n",
       "1  \\n코로나19로 중단된 상시 자기소개서첨삭 서비스를 한시적으로 온라인으로 진행하고자...   취업\n",
       "2  \\n코로나19로 중단된 일대일커리어상담서비스를 한시적으로 온라인으로 진행하고자 합니...   취업\n",
       "3  \\n본 페이지는 '2020년 상반기 기업면접리뷰 워크숍' 신청페이지입니다.\\n\\n1...   취업\n",
       "4  \\n'2020년 상반기 취업수기 공모'를 안내드립니다.\\n\\n※ 신청절차(단계별 상...   취업"
      ]
     },
     "execution_count": 8,
     "metadata": {},
     "output_type": "execute_result"
    }
   ],
   "source": [
    "jobs.head()\n",
    "# jobs.info()"
   ]
  },
  {
   "cell_type": "code",
   "execution_count": 9,
   "metadata": {},
   "outputs": [
    {
     "data": {
      "text/html": [
       "<div>\n",
       "<style scoped>\n",
       "    .dataframe tbody tr th:only-of-type {\n",
       "        vertical-align: middle;\n",
       "    }\n",
       "\n",
       "    .dataframe tbody tr th {\n",
       "        vertical-align: top;\n",
       "    }\n",
       "\n",
       "    .dataframe thead th {\n",
       "        text-align: right;\n",
       "    }\n",
       "</style>\n",
       "<table border=\"1\" class=\"dataframe\">\n",
       "  <thead>\n",
       "    <tr style=\"text-align: right;\">\n",
       "      <th></th>\n",
       "      <th>description</th>\n",
       "      <th>tags</th>\n",
       "    </tr>\n",
       "  </thead>\n",
       "  <tbody>\n",
       "    <tr>\n",
       "      <th>0</th>\n",
       "      <td>\\n코로나19로 중단된 상시 자기소개서첨삭 서비스를 한시적으로 온라인으로 진행하고자...</td>\n",
       "      <td>['취업']</td>\n",
       "    </tr>\n",
       "    <tr>\n",
       "      <th>1</th>\n",
       "      <td>\\n코로나19로 중단된 상시 자기소개서첨삭 서비스를 한시적으로 온라인으로 진행하고자...</td>\n",
       "      <td>['취업']</td>\n",
       "    </tr>\n",
       "    <tr>\n",
       "      <th>2</th>\n",
       "      <td>\\n코로나19로 중단된 일대일커리어상담서비스를 한시적으로 온라인으로 진행하고자 합니...</td>\n",
       "      <td>['취업']</td>\n",
       "    </tr>\n",
       "    <tr>\n",
       "      <th>3</th>\n",
       "      <td>\\n본 페이지는 '2020년 상반기 기업면접리뷰 워크숍' 신청페이지입니다.\\n\\n1...</td>\n",
       "      <td>['취업']</td>\n",
       "    </tr>\n",
       "    <tr>\n",
       "      <th>4</th>\n",
       "      <td>\\n'2020년 상반기 취업수기 공모'를 안내드립니다.\\n\\n※ 신청절차(단계별 상...</td>\n",
       "      <td>['취업']</td>\n",
       "    </tr>\n",
       "  </tbody>\n",
       "</table>\n",
       "</div>"
      ],
      "text/plain": [
       "                                         description    tags\n",
       "0  \\n코로나19로 중단된 상시 자기소개서첨삭 서비스를 한시적으로 온라인으로 진행하고자...  ['취업']\n",
       "1  \\n코로나19로 중단된 상시 자기소개서첨삭 서비스를 한시적으로 온라인으로 진행하고자...  ['취업']\n",
       "2  \\n코로나19로 중단된 일대일커리어상담서비스를 한시적으로 온라인으로 진행하고자 합니...  ['취업']\n",
       "3  \\n본 페이지는 '2020년 상반기 기업면접리뷰 워크숍' 신청페이지입니다.\\n\\n1...  ['취업']\n",
       "4  \\n'2020년 상반기 취업수기 공모'를 안내드립니다.\\n\\n※ 신청절차(단계별 상...  ['취업']"
      ]
     },
     "execution_count": 9,
     "metadata": {},
     "output_type": "execute_result"
    }
   ],
   "source": [
    "# jobs의 tag 수정하기\n",
    "def make_to_list(x):\n",
    "    x = '['+'\\''+x+'\\''+']'\n",
    "    return x\n",
    "\n",
    "jobs.tags = jobs.tags.apply(lambda x: make_to_list(x) )\n",
    "jobs.head()"
   ]
  },
  {
   "cell_type": "code",
   "execution_count": 10,
   "metadata": {},
   "outputs": [
    {
     "data": {
      "text/html": [
       "<div>\n",
       "<style scoped>\n",
       "    .dataframe tbody tr th:only-of-type {\n",
       "        vertical-align: middle;\n",
       "    }\n",
       "\n",
       "    .dataframe tbody tr th {\n",
       "        vertical-align: top;\n",
       "    }\n",
       "\n",
       "    .dataframe thead th {\n",
       "        text-align: right;\n",
       "    }\n",
       "</style>\n",
       "<table border=\"1\" class=\"dataframe\">\n",
       "  <thead>\n",
       "    <tr style=\"text-align: right;\">\n",
       "      <th></th>\n",
       "      <th>cleantxt</th>\n",
       "      <th>tags</th>\n",
       "    </tr>\n",
       "  </thead>\n",
       "  <tbody>\n",
       "    <tr>\n",
       "      <th>0</th>\n",
       "      <td>안녕하세요 한일문화연구회에서 함께할 동아리원을 모집합니다  일본문화에 관심이 있으신...</td>\n",
       "      <td>['한일문화연구회', '동아리', '언어', '사회']</td>\n",
       "    </tr>\n",
       "    <tr>\n",
       "      <th>1</th>\n",
       "      <td>2020학년도 2학기 KUISA 14기 벗 모집이 하루 남았습니다!!!!!! 202...</td>\n",
       "      <td>['KUISA', '언어', '친목']</td>\n",
       "    </tr>\n",
       "    <tr>\n",
       "      <th>2</th>\n",
       "      <td>1분 명상법!  안녕하세요! 원불교 학생회입니다.  이번에는 명상을 어떻게 하는 지...</td>\n",
       "      <td>['원불교', '동아리', '종교']</td>\n",
       "    </tr>\n",
       "    <tr>\n",
       "      <th>3</th>\n",
       "      <td>연합발표토론동아리 POP 22기 모집합니다 ! 22기 P.O.P 단원 모집!   스...</td>\n",
       "      <td>['POP', '동아리', '언어', '스터디', '연합']</td>\n",
       "    </tr>\n",
       "    <tr>\n",
       "      <th>4</th>\n",
       "      <td>D2!!!! 쿠이사 20202 벗 모집 2020년도 2학기 KUISA 14기 벗 모...</td>\n",
       "      <td>['KUISA', '언어', '친목']</td>\n",
       "    </tr>\n",
       "  </tbody>\n",
       "</table>\n",
       "</div>"
      ],
      "text/plain": [
       "                                            cleantxt  \\\n",
       "0  안녕하세요 한일문화연구회에서 함께할 동아리원을 모집합니다  일본문화에 관심이 있으신...   \n",
       "1  2020학년도 2학기 KUISA 14기 벗 모집이 하루 남았습니다!!!!!! 202...   \n",
       "2  1분 명상법!  안녕하세요! 원불교 학생회입니다.  이번에는 명상을 어떻게 하는 지...   \n",
       "3  연합발표토론동아리 POP 22기 모집합니다 ! 22기 P.O.P 단원 모집!   스...   \n",
       "4  D2!!!! 쿠이사 20202 벗 모집 2020년도 2학기 KUISA 14기 벗 모...   \n",
       "\n",
       "                                tags  \n",
       "0     ['한일문화연구회', '동아리', '언어', '사회']  \n",
       "1              ['KUISA', '언어', '친목']  \n",
       "2               ['원불교', '동아리', '종교']  \n",
       "3  ['POP', '동아리', '언어', '스터디', '연합']  \n",
       "4              ['KUISA', '언어', '친목']  "
      ]
     },
     "execution_count": 10,
     "metadata": {},
     "output_type": "execute_result"
    }
   ],
   "source": [
    "clubs.head()\n",
    "# clubs.info()"
   ]
  },
  {
   "cell_type": "code",
   "execution_count": 11,
   "metadata": {},
   "outputs": [
    {
     "data": {
      "text/html": [
       "<div>\n",
       "<style scoped>\n",
       "    .dataframe tbody tr th:only-of-type {\n",
       "        vertical-align: middle;\n",
       "    }\n",
       "\n",
       "    .dataframe tbody tr th {\n",
       "        vertical-align: top;\n",
       "    }\n",
       "\n",
       "    .dataframe thead th {\n",
       "        text-align: right;\n",
       "    }\n",
       "</style>\n",
       "<table border=\"1\" class=\"dataframe\">\n",
       "  <thead>\n",
       "    <tr style=\"text-align: right;\">\n",
       "      <th></th>\n",
       "      <th>description</th>\n",
       "      <th>tags</th>\n",
       "    </tr>\n",
       "  </thead>\n",
       "  <tbody>\n",
       "    <tr>\n",
       "      <th>0</th>\n",
       "      <td>안녕하세요 한일문화연구회에서 함께할 동아리원을 모집합니다  일본문화에 관심이 있으신...</td>\n",
       "      <td>['한일문화연구회', '동아리', '언어', '사회']</td>\n",
       "    </tr>\n",
       "    <tr>\n",
       "      <th>1</th>\n",
       "      <td>2020학년도 2학기 KUISA 14기 벗 모집이 하루 남았습니다!!!!!! 202...</td>\n",
       "      <td>['KUISA', '언어', '친목']</td>\n",
       "    </tr>\n",
       "    <tr>\n",
       "      <th>2</th>\n",
       "      <td>1분 명상법!  안녕하세요! 원불교 학생회입니다.  이번에는 명상을 어떻게 하는 지...</td>\n",
       "      <td>['원불교', '동아리', '종교']</td>\n",
       "    </tr>\n",
       "    <tr>\n",
       "      <th>3</th>\n",
       "      <td>연합발표토론동아리 POP 22기 모집합니다 ! 22기 P.O.P 단원 모집!   스...</td>\n",
       "      <td>['POP', '동아리', '언어', '스터디', '연합']</td>\n",
       "    </tr>\n",
       "    <tr>\n",
       "      <th>4</th>\n",
       "      <td>D2!!!! 쿠이사 20202 벗 모집 2020년도 2학기 KUISA 14기 벗 모...</td>\n",
       "      <td>['KUISA', '언어', '친목']</td>\n",
       "    </tr>\n",
       "  </tbody>\n",
       "</table>\n",
       "</div>"
      ],
      "text/plain": [
       "                                         description  \\\n",
       "0  안녕하세요 한일문화연구회에서 함께할 동아리원을 모집합니다  일본문화에 관심이 있으신...   \n",
       "1  2020학년도 2학기 KUISA 14기 벗 모집이 하루 남았습니다!!!!!! 202...   \n",
       "2  1분 명상법!  안녕하세요! 원불교 학생회입니다.  이번에는 명상을 어떻게 하는 지...   \n",
       "3  연합발표토론동아리 POP 22기 모집합니다 ! 22기 P.O.P 단원 모집!   스...   \n",
       "4  D2!!!! 쿠이사 20202 벗 모집 2020년도 2학기 KUISA 14기 벗 모...   \n",
       "\n",
       "                                tags  \n",
       "0     ['한일문화연구회', '동아리', '언어', '사회']  \n",
       "1              ['KUISA', '언어', '친목']  \n",
       "2               ['원불교', '동아리', '종교']  \n",
       "3  ['POP', '동아리', '언어', '스터디', '연합']  \n",
       "4              ['KUISA', '언어', '친목']  "
      ]
     },
     "execution_count": 11,
     "metadata": {},
     "output_type": "execute_result"
    }
   ],
   "source": [
    "# rename column name of clubs dataframe: cleantxt to description\n",
    "\n",
    "clubs.rename(columns = {'cleantxt': 'description'}, inplace = True)\n",
    "clubs.tags = clubs.tags.apply(lambda x: x.replace(', \\'\\'',''))\n",
    "clubs.head()"
   ]
  },
  {
   "cell_type": "code",
   "execution_count": 12,
   "metadata": {},
   "outputs": [],
   "source": [
    "# clubs의 first tag delete\n",
    "# 학회/동아리명 삭제\n",
    "# tags를 list 형식으로 변형\n",
    "import ast\n",
    "\n",
    "\n",
    "def tostring(x):\n",
    "    return ast.literal_eval(x)\n",
    "\n",
    "kuchive.tags = kuchive.tags.apply(lambda x: tostring(x))\n",
    "contest.tags = contest.tags.apply(lambda x: tostring(x))\n",
    "activity.tags = activity.tags.apply(lambda x: tostring(x))\n",
    "jobs.tags = jobs.tags.apply(lambda x: tostring(x))\n",
    "clubs.tags = clubs.tags.apply(lambda x: tostring(x)[1:])"
   ]
  },
  {
   "cell_type": "code",
   "execution_count": 13,
   "metadata": {},
   "outputs": [
    {
     "data": {
      "text/html": [
       "<div>\n",
       "<style scoped>\n",
       "    .dataframe tbody tr th:only-of-type {\n",
       "        vertical-align: middle;\n",
       "    }\n",
       "\n",
       "    .dataframe tbody tr th {\n",
       "        vertical-align: top;\n",
       "    }\n",
       "\n",
       "    .dataframe thead th {\n",
       "        text-align: right;\n",
       "    }\n",
       "</style>\n",
       "<table border=\"1\" class=\"dataframe\">\n",
       "  <thead>\n",
       "    <tr style=\"text-align: right;\">\n",
       "      <th></th>\n",
       "      <th>description</th>\n",
       "      <th>tags</th>\n",
       "    </tr>\n",
       "  </thead>\n",
       "  <tbody>\n",
       "    <tr>\n",
       "      <th>0</th>\n",
       "      <td>안녕하세요 한일문화연구회에서 함께할 동아리원을 모집합니다  일본문화에 관심이 있으신...</td>\n",
       "      <td>[동아리, 언어, 사회]</td>\n",
       "    </tr>\n",
       "    <tr>\n",
       "      <th>1</th>\n",
       "      <td>2020학년도 2학기 KUISA 14기 벗 모집이 하루 남았습니다!!!!!! 202...</td>\n",
       "      <td>[언어, 친목]</td>\n",
       "    </tr>\n",
       "    <tr>\n",
       "      <th>2</th>\n",
       "      <td>1분 명상법!  안녕하세요! 원불교 학생회입니다.  이번에는 명상을 어떻게 하는 지...</td>\n",
       "      <td>[동아리, 종교]</td>\n",
       "    </tr>\n",
       "    <tr>\n",
       "      <th>3</th>\n",
       "      <td>연합발표토론동아리 POP 22기 모집합니다 ! 22기 P.O.P 단원 모집!   스...</td>\n",
       "      <td>[동아리, 언어, 스터디, 연합]</td>\n",
       "    </tr>\n",
       "    <tr>\n",
       "      <th>4</th>\n",
       "      <td>D2!!!! 쿠이사 20202 벗 모집 2020년도 2학기 KUISA 14기 벗 모...</td>\n",
       "      <td>[언어, 친목]</td>\n",
       "    </tr>\n",
       "  </tbody>\n",
       "</table>\n",
       "</div>"
      ],
      "text/plain": [
       "                                         description                tags\n",
       "0  안녕하세요 한일문화연구회에서 함께할 동아리원을 모집합니다  일본문화에 관심이 있으신...       [동아리, 언어, 사회]\n",
       "1  2020학년도 2학기 KUISA 14기 벗 모집이 하루 남았습니다!!!!!! 202...            [언어, 친목]\n",
       "2  1분 명상법!  안녕하세요! 원불교 학생회입니다.  이번에는 명상을 어떻게 하는 지...           [동아리, 종교]\n",
       "3  연합발표토론동아리 POP 22기 모집합니다 ! 22기 P.O.P 단원 모집!   스...  [동아리, 언어, 스터디, 연합]\n",
       "4  D2!!!! 쿠이사 20202 벗 모집 2020년도 2학기 KUISA 14기 벗 모...            [언어, 친목]"
      ]
     },
     "execution_count": 13,
     "metadata": {},
     "output_type": "execute_result"
    }
   ],
   "source": [
    "clubs.head()"
   ]
  },
  {
   "cell_type": "markdown",
   "metadata": {},
   "source": [
    "## Concat all Dataframes together"
   ]
  },
  {
   "cell_type": "code",
   "execution_count": 14,
   "metadata": {},
   "outputs": [
    {
     "name": "stdout",
     "output_type": "stream",
     "text": [
      "<class 'pandas.core.frame.DataFrame'>\n",
      "Int64Index: 1012 entries, 0 to 576\n",
      "Data columns (total 2 columns):\n",
      " #   Column       Non-Null Count  Dtype \n",
      "---  ------       --------------  ----- \n",
      " 0   description  1005 non-null   object\n",
      " 1   tags         1012 non-null   object\n",
      "dtypes: object(2)\n",
      "memory usage: 23.7+ KB\n"
     ]
    }
   ],
   "source": [
    "df_all = pd.concat([kuchive, contest, activity, jobs, clubs])\n",
    "df_all.info()"
   ]
  },
  {
   "cell_type": "code",
   "execution_count": 15,
   "metadata": {},
   "outputs": [],
   "source": [
    "df_all = df_all.reset_index(drop=True)"
   ]
  },
  {
   "cell_type": "code",
   "execution_count": 16,
   "metadata": {},
   "outputs": [
    {
     "data": {
      "text/html": [
       "<div>\n",
       "<style scoped>\n",
       "    .dataframe tbody tr th:only-of-type {\n",
       "        vertical-align: middle;\n",
       "    }\n",
       "\n",
       "    .dataframe tbody tr th {\n",
       "        vertical-align: top;\n",
       "    }\n",
       "\n",
       "    .dataframe thead th {\n",
       "        text-align: right;\n",
       "    }\n",
       "</style>\n",
       "<table border=\"1\" class=\"dataframe\">\n",
       "  <thead>\n",
       "    <tr style=\"text-align: right;\">\n",
       "      <th></th>\n",
       "      <th>description</th>\n",
       "      <th>tags</th>\n",
       "    </tr>\n",
       "  </thead>\n",
       "  <tbody>\n",
       "    <tr>\n",
       "      <th>1007</th>\n",
       "      <td>고려대 유일 사격동아리 '명중사격부' 신입부원 모집 너의 마음을 명중 넌 이미 신청...</td>\n",
       "      <td>[운동, 동아리]</td>\n",
       "    </tr>\n",
       "    <tr>\n",
       "      <th>1008</th>\n",
       "      <td>중앙동아리 예술비평연구회에서 신입회원을 모집합니다!   2020년 1학기는 세미나...</td>\n",
       "      <td>[예술, 음악]</td>\n",
       "    </tr>\n",
       "    <tr>\n",
       "      <th>1009</th>\n",
       "      <td>오늘 8시 마감고려대학교 유일의 브랜드 컨설팅 학회 CREAKET에서 14기를 모집...</td>\n",
       "      <td>[사회, 학회]</td>\n",
       "    </tr>\n",
       "    <tr>\n",
       "      <th>1010</th>\n",
       "      <td>D1 Partyproviders 27th 2차 리크루팅 3.22 많은 문의와 요청에...</td>\n",
       "      <td>[동아리, 예술]</td>\n",
       "    </tr>\n",
       "    <tr>\n",
       "      <th>1011</th>\n",
       "      <td>KUHS 고려대학교 호스피스 봉사동아리 (KUHS)에서 신입부원을 모집합니다! (일...</td>\n",
       "      <td>[봉사, 동아리]</td>\n",
       "    </tr>\n",
       "  </tbody>\n",
       "</table>\n",
       "</div>"
      ],
      "text/plain": [
       "                                            description       tags\n",
       "1007  고려대 유일 사격동아리 '명중사격부' 신입부원 모집 너의 마음을 명중 넌 이미 신청...  [운동, 동아리]\n",
       "1008   중앙동아리 예술비평연구회에서 신입회원을 모집합니다!   2020년 1학기는 세미나...   [예술, 음악]\n",
       "1009  오늘 8시 마감고려대학교 유일의 브랜드 컨설팅 학회 CREAKET에서 14기를 모집...   [사회, 학회]\n",
       "1010  D1 Partyproviders 27th 2차 리크루팅 3.22 많은 문의와 요청에...  [동아리, 예술]\n",
       "1011  KUHS 고려대학교 호스피스 봉사동아리 (KUHS)에서 신입부원을 모집합니다! (일...  [봉사, 동아리]"
      ]
     },
     "execution_count": 16,
     "metadata": {},
     "output_type": "execute_result"
    }
   ],
   "source": [
    "df_all.tail()"
   ]
  },
  {
   "cell_type": "markdown",
   "metadata": {},
   "source": [
    "## DATA Preprocessing"
   ]
  },
  {
   "cell_type": "code",
   "execution_count": 17,
   "metadata": {},
   "outputs": [],
   "source": [
    "# save the data just in case if needed\n",
    "\n",
    "df_all.to_csv(\"lstm_data.csv\", index=False)"
   ]
  },
  {
   "cell_type": "code",
   "execution_count": 18,
   "metadata": {
    "scrolled": true
   },
   "outputs": [
    {
     "data": {
      "text/html": [
       "<div>\n",
       "<style scoped>\n",
       "    .dataframe tbody tr th:only-of-type {\n",
       "        vertical-align: middle;\n",
       "    }\n",
       "\n",
       "    .dataframe tbody tr th {\n",
       "        vertical-align: top;\n",
       "    }\n",
       "\n",
       "    .dataframe thead th {\n",
       "        text-align: right;\n",
       "    }\n",
       "</style>\n",
       "<table border=\"1\" class=\"dataframe\">\n",
       "  <thead>\n",
       "    <tr style=\"text-align: right;\">\n",
       "      <th></th>\n",
       "      <th>description</th>\n",
       "      <th>tags</th>\n",
       "    </tr>\n",
       "  </thead>\n",
       "  <tbody>\n",
       "    <tr>\n",
       "      <th>1007</th>\n",
       "      <td>고려대 유일 사격동아리 '명중사격부' 신입부원 모집 너의 마음을 명중 넌 이미 신청...</td>\n",
       "      <td>[운동, 동아리]</td>\n",
       "    </tr>\n",
       "    <tr>\n",
       "      <th>1008</th>\n",
       "      <td>중앙동아리 예술비평연구회에서 신입회원을 모집합니다!   2020년 1학기는 세미나...</td>\n",
       "      <td>[예술, 음악]</td>\n",
       "    </tr>\n",
       "    <tr>\n",
       "      <th>1009</th>\n",
       "      <td>오늘 8시 마감고려대학교 유일의 브랜드 컨설팅 학회 CREAKET에서 14기를 모집...</td>\n",
       "      <td>[사회, 학회]</td>\n",
       "    </tr>\n",
       "    <tr>\n",
       "      <th>1010</th>\n",
       "      <td>D1 Partyproviders 27th 2차 리크루팅 3.22 많은 문의와 요청에...</td>\n",
       "      <td>[동아리, 예술]</td>\n",
       "    </tr>\n",
       "    <tr>\n",
       "      <th>1011</th>\n",
       "      <td>KUHS 고려대학교 호스피스 봉사동아리 (KUHS)에서 신입부원을 모집합니다! (일...</td>\n",
       "      <td>[봉사, 동아리]</td>\n",
       "    </tr>\n",
       "  </tbody>\n",
       "</table>\n",
       "</div>"
      ],
      "text/plain": [
       "                                            description       tags\n",
       "1007  고려대 유일 사격동아리 '명중사격부' 신입부원 모집 너의 마음을 명중 넌 이미 신청...  [운동, 동아리]\n",
       "1008   중앙동아리 예술비평연구회에서 신입회원을 모집합니다!   2020년 1학기는 세미나...   [예술, 음악]\n",
       "1009  오늘 8시 마감고려대학교 유일의 브랜드 컨설팅 학회 CREAKET에서 14기를 모집...   [사회, 학회]\n",
       "1010  D1 Partyproviders 27th 2차 리크루팅 3.22 많은 문의와 요청에...  [동아리, 예술]\n",
       "1011  KUHS 고려대학교 호스피스 봉사동아리 (KUHS)에서 신입부원을 모집합니다! (일...  [봉사, 동아리]"
      ]
     },
     "execution_count": 18,
     "metadata": {},
     "output_type": "execute_result"
    }
   ],
   "source": [
    "# check if it is saved well\n",
    "import ast\n",
    "\n",
    "def tostring(x):\n",
    "    return ast.literal_eval(x)\n",
    "\n",
    "\n",
    "\n",
    "df_check = pd.read_csv(\"lstm_data.csv\")\n",
    "df_check.tail()\n",
    "df_all = df_check\n",
    "\n",
    "df_all.tags = df_all.tags.apply(lambda x: tostring(x))\n",
    "df_all.tail()"
   ]
  },
  {
   "cell_type": "code",
   "execution_count": 19,
   "metadata": {},
   "outputs": [
    {
     "name": "stdout",
     "output_type": "stream",
     "text": [
      "전처리 전 훈련용 샘플의 개수 : 1012\n",
      "전처리 후 훈련용 샘플의 개수 : 999\n"
     ]
    }
   ],
   "source": [
    "import numpy as np\n",
    "\n",
    "print('전처리 전 훈련용 샘플의 개수 :',len(df_all))\n",
    "df_all['description'] = df_all['description'].str.replace(\"[^ㄱ-ㅎㅏ-ㅣ가-힣0-9a-zA-Z ]\",\"\") # 한글, 영어, 숫자 제외 다 제거\n",
    "df_all['description'].replace('', np.nan, inplace=True) # 공백은 Null 값으로 변경\n",
    "df_all = df_all.dropna(how='any') # Null 값 제거\n",
    "\n",
    "print('전처리 후 훈련용 샘플의 개수 :',len(df_all))"
   ]
  },
  {
   "cell_type": "code",
   "execution_count": 20,
   "metadata": {},
   "outputs": [],
   "source": [
    "from konlpy.tag import Okt\n",
    "\n",
    "okt = Okt()"
   ]
  },
  {
   "cell_type": "code",
   "execution_count": 21,
   "metadata": {},
   "outputs": [],
   "source": [
    "import ssl\n",
    "from urllib.request import urlopen\n",
    "from bs4 import BeautifulSoup\n",
    "# konlpy 사용해서 전처리\n",
    "# stopwords 없애기, 어간/어미 등으로 나누기\n",
    "\n",
    "context = ssl._create_unverified_context()\n",
    "resp = urlopen('https://www.ranks.nl/stopwords/korean',context=context)\n",
    "dom = BeautifulSoup(resp.read().decode('utf8'),'html.parser')\n",
    "tds = dom.select('.panel-body > table > tbody > tr > td')"
   ]
  },
  {
   "cell_type": "code",
   "execution_count": 22,
   "metadata": {},
   "outputs": [],
   "source": [
    "import re\n",
    "\n",
    "stopwords=[]\n",
    "\n",
    "for _ in tds:\n",
    "    stopwords+=re.findall(r'([ \\w]+)<br/>',str(_))\n",
    "    \n",
    "stopwords.append('만큼')\n",
    "stopwords.append('만 못하다')\n",
    "stopwords.append('영')\n",
    "stopwords.append('의')\n",
    "stopwords.append('하다')\n",
    "stopwords.append('가')\n",
    "stopwords.append('이')\n",
    "stopwords.append('은')\n",
    "stopwords.append('좀')\n",
    "stopwords.append('를')\n",
    "stopwords.append('들')\n",
    "stopwords.append('는')\n",
    "stopwords.append('잘')\n",
    "stopwords.append('자')\n",
    "stopwords.append('에')\n",
    "stopwords.append('와')\n",
    "stopwords.append('한')\n",
    "stopwords.append('과')\n",
    "stopwords.append('도')"
   ]
  },
  {
   "cell_type": "markdown",
   "metadata": {},
   "source": [
    "## Train Test Split"
   ]
  },
  {
   "cell_type": "code",
   "execution_count": 23,
   "metadata": {},
   "outputs": [],
   "source": [
    "X = []\n",
    "\n",
    "for sentence in df_all['description']:\n",
    "    temp_X = []\n",
    "    temp_X = okt.morphs(sentence, stem=True) # 토큰화\n",
    "    temp_X = [word for word in temp_X if not word in stopwords] # 불용어 제거\n",
    "    X.append(temp_X)"
   ]
  },
  {
   "cell_type": "code",
   "execution_count": 24,
   "metadata": {},
   "outputs": [
    {
     "name": "stdout",
     "output_type": "stream",
     "text": [
      "999\n"
     ]
    }
   ],
   "source": [
    "print(len(X))\n",
    "y = df_all.tags"
   ]
  },
  {
   "cell_type": "code",
   "execution_count": 25,
   "metadata": {},
   "outputs": [],
   "source": [
    "## 추가기능 구현?\n",
    "## Delete Infrequent Words"
   ]
  },
  {
   "cell_type": "code",
   "execution_count": 26,
   "metadata": {},
   "outputs": [],
   "source": [
    "# counts_tokens = Counter()\n",
    "\n",
    "# for list_ in X:\n",
    "#     counts_tokens.update(list_)\n",
    "\n",
    "# # print(counts_tokens)"
   ]
  },
  {
   "cell_type": "code",
   "execution_count": 27,
   "metadata": {},
   "outputs": [],
   "source": [
    "# # deleting infrequent words\n",
    "# print(\"num_words before: \", len(counts_tokens.keys()))\n",
    "# for word in list(counts_tokens):\n",
    "#     if counts_tokens[word] < 4:\n",
    "#         del counts_tokens[word]\n",
    "# print(\"num_words after:\",len(counts_tokens.keys()))"
   ]
  },
  {
   "cell_type": "code",
   "execution_count": 28,
   "metadata": {},
   "outputs": [],
   "source": [
    "# turn tags to sequences\n",
    "from collections import Counter\n",
    "\n",
    "counts_tags = Counter()\n",
    "for list_ in y:\n",
    "    counts_tags.update(list_)"
   ]
  },
  {
   "cell_type": "code",
   "execution_count": 29,
   "metadata": {},
   "outputs": [],
   "source": [
    "tag2index = {}\n",
    "tagwords = []\n",
    "for tagword in counts_tags:\n",
    "    tag2index[tagword] = len(tagwords)\n",
    "    tagwords.append(tagword)"
   ]
  },
  {
   "cell_type": "code",
   "execution_count": 30,
   "metadata": {},
   "outputs": [
    {
     "data": {
      "text/plain": [
       "{'봉사': 0,\n",
       " '예술': 1,\n",
       " '사회': 2,\n",
       " 'IT': 3,\n",
       " '공모전': 4,\n",
       " '경영': 5,\n",
       " '과학': 6,\n",
       " '미술': 7,\n",
       " '대외활동': 8,\n",
       " '기타': 9,\n",
       " '운동': 10,\n",
       " '취업': 11,\n",
       " '동아리': 12,\n",
       " '언어': 13,\n",
       " '친목': 14,\n",
       " '종교': 15,\n",
       " '스터디': 16,\n",
       " '연합': 17,\n",
       " '학회': 18,\n",
       " '음악': 19}"
      ]
     },
     "execution_count": 30,
     "metadata": {},
     "output_type": "execute_result"
    }
   ],
   "source": [
    "tag2index"
   ]
  },
  {
   "cell_type": "code",
   "execution_count": 31,
   "metadata": {},
   "outputs": [],
   "source": [
    "# tokens(words) to sequences\n",
    "\n",
    "new_y = []\n",
    "\n",
    "for list_ in y:\n",
    "    list_ = [tag2index[item] for item in list_]\n",
    "    new_y.append(list_)\n",
    "    \n",
    "# new_y    "
   ]
  },
  {
   "cell_type": "code",
   "execution_count": 32,
   "metadata": {},
   "outputs": [
    {
     "data": {
      "text/plain": [
       "array([ 0,  1,  2,  3,  4,  5,  6,  7,  8,  9, 10, 11, 12, 13, 14, 15, 16,\n",
       "       17, 18, 19])"
      ]
     },
     "execution_count": 32,
     "metadata": {},
     "output_type": "execute_result"
    }
   ],
   "source": [
    "# Multi One-Hot Encode(?) y_train data\n",
    "# ex> 0 0 0 0 0 1 1 0 0 0 0 0 형식으로 (1은 해당하는 태그, 0은 해당하지 않는 태그)\n",
    "# 참고한 사이트: https://scikit-learn.org/stable/modules/generated/sklearn.preprocessing.MultiLabelBinarizer.html\n",
    "\n",
    "\n",
    "from sklearn.preprocessing import MultiLabelBinarizer\n",
    "\n",
    "mlb = MultiLabelBinarizer()\n",
    "y = mlb.fit_transform(new_y)\n",
    "\n",
    "\n",
    "mlb.classes_\n",
    "\n",
    "# 정확하게 20개의 class를 잡은 것을 확인"
   ]
  },
  {
   "cell_type": "code",
   "execution_count": 33,
   "metadata": {
    "scrolled": true
   },
   "outputs": [
    {
     "data": {
      "text/plain": [
       "list"
      ]
     },
     "execution_count": 33,
     "metadata": {},
     "output_type": "execute_result"
    }
   ],
   "source": [
    "type(new_y)"
   ]
  },
  {
   "cell_type": "code",
   "execution_count": 34,
   "metadata": {},
   "outputs": [
    {
     "data": {
      "text/plain": [
       "20"
      ]
     },
     "execution_count": 34,
     "metadata": {},
     "output_type": "execute_result"
    }
   ],
   "source": [
    "len(tagwords)\n",
    "\n",
    "# 총 20개의 tagword 존재"
   ]
  },
  {
   "cell_type": "code",
   "execution_count": 35,
   "metadata": {},
   "outputs": [],
   "source": [
    "from sklearn.model_selection import train_test_split\n",
    "X_train, X_test, y_train, y_test = train_test_split(X, y, test_size=0.2)"
   ]
  },
  {
   "cell_type": "code",
   "execution_count": 36,
   "metadata": {},
   "outputs": [],
   "source": [
    "X_test_tokens = X_test.copy()\n",
    "y_test_tmp = y_test.copy()\n",
    "y_test_tags = mlb.inverse_transform(y_test_tmp)\n",
    "\n",
    "# copy lists for saving after test"
   ]
  },
  {
   "cell_type": "markdown",
   "metadata": {},
   "source": [
    "## Tokenizing Words"
   ]
  },
  {
   "cell_type": "code",
   "execution_count": 37,
   "metadata": {},
   "outputs": [
    {
     "name": "stderr",
     "output_type": "stream",
     "text": [
      "Using TensorFlow backend.\n"
     ]
    }
   ],
   "source": [
    "from keras.preprocessing.text import one_hot\n",
    "from keras.preprocessing.sequence import pad_sequences\n",
    "from keras.models import Sequential\n",
    "from keras.layers.core import Activation, Dropout, Dense\n",
    "from keras.layers import Flatten, LSTM\n",
    "from keras.layers import GlobalMaxPooling1D\n",
    "from keras.models import Model\n",
    "from keras.layers.embeddings import Embedding\n",
    "from sklearn.model_selection import train_test_split\n",
    "from keras.preprocessing.text import Tokenizer\n",
    "from keras.layers import Input\n",
    "from keras.layers.merge import Concatenate\n",
    "\n",
    "\n",
    "tokenizer = Tokenizer()\n",
    "tokenizer.fit_on_texts(X_train)"
   ]
  },
  {
   "cell_type": "code",
   "execution_count": 38,
   "metadata": {},
   "outputs": [],
   "source": [
    "# texts_to_sequences: Transforms each text in texts to a sequence of integers.\n",
    "# Only top num_words-1 most frequent words will be taken into account. \n",
    "# Only words known by the tokenizer will be taken into account.\n",
    "# 참고: https://www.tensorflow.org/api_docs/python/tf/keras/preprocessing/text/Tokenizer#texts_to_sequences\n",
    "\n",
    "X_train = tokenizer.texts_to_sequences(X_train)\n",
    "X_test = tokenizer.texts_to_sequences(X_test)"
   ]
  },
  {
   "cell_type": "code",
   "execution_count": 39,
   "metadata": {},
   "outputs": [],
   "source": [
    "vocab_size = len(tokenizer.word_index) + 1\n",
    "\n",
    "maxlen = 150\n",
    "\n",
    "X_train = pad_sequences(X_train, padding='post', maxlen=maxlen)\n",
    "X_test = pad_sequences(X_test, padding='post', maxlen=maxlen)\n",
    "\n",
    "\n",
    "# about pad_sequences: https://stackoverflow.com/questions/42943291/what-does-keras-io-preprocessing-sequence-pad-sequences-do"
   ]
  },
  {
   "cell_type": "markdown",
   "metadata": {},
   "source": [
    "## LSTM Model"
   ]
  },
  {
   "cell_type": "code",
   "execution_count": 84,
   "metadata": {},
   "outputs": [],
   "source": [
    "deep_inputs = Input(shape=(maxlen,))\n",
    "embedding_layer = Embedding(vocab_size, 100)(deep_inputs)\n",
    "LSTM_Layer_1 = LSTM(64)(embedding_layer)\n",
    "dense_layer_1 = Dense(20, activation='relu')(LSTM_Layer_1)\n",
    "dense_layer_2 = Dense(20, activation='relu')(dense_layer_1)\n",
    "model = Model(inputs=deep_inputs, outputs=dense_layer_2)\n",
    "\n",
    "model.compile(loss='binary_crossentropy', optimizer='adam', metrics=['acc'])"
   ]
  },
  {
   "cell_type": "code",
   "execution_count": 85,
   "metadata": {},
   "outputs": [],
   "source": [
    "# deep_inputs = Input(shape=(maxlen,))\n",
    "# embedding_layer = Embedding(vocab_size, 100)(deep_inputs)\n",
    "# LSTM_Layer_1 = LSTM(64)(embedding_layer)\n",
    "# dense_layer_1 = Dense(20, activation='relu')(LSTM_Layer_1)\n",
    "# model = Model(inputs=deep_inputs, outputs=dense_layer_1)\n",
    "\n",
    "# model.compile(loss='binary_crossentropy', optimizer='adam', metrics=['acc'])"
   ]
  },
  {
   "cell_type": "code",
   "execution_count": 86,
   "metadata": {},
   "outputs": [
    {
     "name": "stdout",
     "output_type": "stream",
     "text": [
      "Model: \"model_3\"\n",
      "_________________________________________________________________\n",
      "Layer (type)                 Output Shape              Param #   \n",
      "=================================================================\n",
      "input_3 (InputLayer)         (None, 150)               0         \n",
      "_________________________________________________________________\n",
      "embedding_3 (Embedding)      (None, 150, 100)          1209200   \n",
      "_________________________________________________________________\n",
      "lstm_3 (LSTM)                (None, 64)                42240     \n",
      "_________________________________________________________________\n",
      "dense_3 (Dense)              (None, 20)                1300      \n",
      "_________________________________________________________________\n",
      "dense_4 (Dense)              (None, 20)                420       \n",
      "=================================================================\n",
      "Total params: 1,253,160\n",
      "Trainable params: 1,253,160\n",
      "Non-trainable params: 0\n",
      "_________________________________________________________________\n"
     ]
    }
   ],
   "source": [
    "model.summary()"
   ]
  },
  {
   "cell_type": "code",
   "execution_count": 87,
   "metadata": {},
   "outputs": [],
   "source": [
    "# We can see that the output layer only contains 1 dense layer with 20 neurons.\n",
    "# Let's now train our model"
   ]
  },
  {
   "cell_type": "markdown",
   "metadata": {},
   "source": [
    "## Model Train"
   ]
  },
  {
   "cell_type": "code",
   "execution_count": 88,
   "metadata": {
    "scrolled": true
   },
   "outputs": [
    {
     "name": "stderr",
     "output_type": "stream",
     "text": [
      "C:\\Users\\starl\\anaconda3\\envs\\tf\\lib\\site-packages\\tensorflow_core\\python\\framework\\indexed_slices.py:433: UserWarning: Converting sparse IndexedSlices to a dense Tensor of unknown shape. This may consume a large amount of memory.\n",
      "  \"Converting sparse IndexedSlices to a dense Tensor of unknown shape. \"\n"
     ]
    },
    {
     "name": "stdout",
     "output_type": "stream",
     "text": [
      "Train on 719 samples, validate on 80 samples\n",
      "Epoch 1/150\n",
      "719/719 [==============================] - 3s 4ms/step - loss: 0.7525 - acc: 0.8906 - val_loss: 0.6011 - val_acc: 0.8950\n",
      "Epoch 2/150\n",
      "719/719 [==============================] - 2s 3ms/step - loss: 0.5237 - acc: 0.8906 - val_loss: 0.4613 - val_acc: 0.8950\n",
      "Epoch 3/150\n",
      "719/719 [==============================] - 2s 3ms/step - loss: 0.3805 - acc: 0.8906 - val_loss: 0.3842 - val_acc: 0.8950\n",
      "Epoch 4/150\n",
      "719/719 [==============================] - 2s 3ms/step - loss: 0.3477 - acc: 0.8906 - val_loss: 0.3547 - val_acc: 0.8950\n",
      "Epoch 5/150\n",
      "719/719 [==============================] - 2s 3ms/step - loss: 0.3154 - acc: 0.8910 - val_loss: 0.3211 - val_acc: 0.8950\n",
      "Epoch 6/150\n",
      "719/719 [==============================] - 2s 3ms/step - loss: 0.2969 - acc: 0.8915 - val_loss: 0.3199 - val_acc: 0.9000\n",
      "Epoch 7/150\n",
      "719/719 [==============================] - 3s 3ms/step - loss: 0.2827 - acc: 0.8937 - val_loss: 0.3025 - val_acc: 0.8987\n",
      "Epoch 8/150\n",
      "719/719 [==============================] - 2s 3ms/step - loss: 0.2692 - acc: 0.9034 - val_loss: 0.3027 - val_acc: 0.9112\n",
      "Epoch 9/150\n",
      "719/719 [==============================] - 3s 4ms/step - loss: 0.2487 - acc: 0.9103 - val_loss: 0.2735 - val_acc: 0.9156\n",
      "Epoch 10/150\n",
      "719/719 [==============================] - 2s 3ms/step - loss: 0.2286 - acc: 0.9161 - val_loss: 0.2683 - val_acc: 0.9131\n",
      "Epoch 11/150\n",
      "719/719 [==============================] - 3s 4ms/step - loss: 0.2041 - acc: 0.9195 - val_loss: 0.2571 - val_acc: 0.9169\n",
      "Epoch 12/150\n",
      "719/719 [==============================] - 3s 4ms/step - loss: 0.1930 - acc: 0.9259 - val_loss: 0.2765 - val_acc: 0.9181\n",
      "Epoch 13/150\n",
      "719/719 [==============================] - 3s 4ms/step - loss: 0.1801 - acc: 0.9283 - val_loss: 0.2754 - val_acc: 0.9069\n",
      "Epoch 14/150\n",
      "719/719 [==============================] - 2s 3ms/step - loss: 0.2110 - acc: 0.9184 - val_loss: 0.2981 - val_acc: 0.9112\n",
      "Epoch 15/150\n",
      "719/719 [==============================] - 3s 4ms/step - loss: 0.2031 - acc: 0.9147 - val_loss: 0.2961 - val_acc: 0.9137\n",
      "Epoch 16/150\n",
      "719/719 [==============================] - 3s 4ms/step - loss: 0.1747 - acc: 0.9223 - val_loss: 0.2822 - val_acc: 0.9119\n",
      "Epoch 17/150\n",
      "719/719 [==============================] - 3s 4ms/step - loss: 0.1588 - acc: 0.9225 - val_loss: 0.2799 - val_acc: 0.9144\n",
      "Epoch 18/150\n",
      "719/719 [==============================] - 3s 4ms/step - loss: 0.1529 - acc: 0.9305 - val_loss: 0.2853 - val_acc: 0.9212\n",
      "Epoch 19/150\n",
      "719/719 [==============================] - 3s 4ms/step - loss: 0.1413 - acc: 0.9291 - val_loss: 0.3168 - val_acc: 0.9156\n",
      "Epoch 20/150\n",
      "719/719 [==============================] - 3s 4ms/step - loss: 0.1305 - acc: 0.9346 - val_loss: 0.3237 - val_acc: 0.9219\n",
      "Epoch 21/150\n",
      "719/719 [==============================] - 2s 3ms/step - loss: 0.1324 - acc: 0.9402 - val_loss: 0.3262 - val_acc: 0.9212\n",
      "Epoch 22/150\n",
      "719/719 [==============================] - 2s 3ms/step - loss: 0.1257 - acc: 0.9375 - val_loss: 0.3394 - val_acc: 0.9244\n",
      "Epoch 23/150\n",
      "719/719 [==============================] - 2s 3ms/step - loss: 0.1210 - acc: 0.9399 - val_loss: 0.3243 - val_acc: 0.9200\n",
      "Epoch 24/150\n",
      "719/719 [==============================] - 2s 3ms/step - loss: 0.2971 - acc: 0.9115 - val_loss: 0.3603 - val_acc: 0.9081\n",
      "Epoch 25/150\n",
      "719/719 [==============================] - 2s 3ms/step - loss: 0.2031 - acc: 0.9213 - val_loss: 0.3009 - val_acc: 0.9125\n",
      "Epoch 26/150\n",
      "719/719 [==============================] - 3s 4ms/step - loss: 0.1817 - acc: 0.9251 - val_loss: 0.2861 - val_acc: 0.9156\n",
      "Epoch 27/150\n",
      "719/719 [==============================] - 3s 4ms/step - loss: 0.1664 - acc: 0.9307 - val_loss: 0.2907 - val_acc: 0.9131\n",
      "Epoch 28/150\n",
      "719/719 [==============================] - 3s 5ms/step - loss: 0.1571 - acc: 0.9341 - val_loss: 0.3430 - val_acc: 0.9175\n",
      "Epoch 29/150\n",
      "719/719 [==============================] - 4s 6ms/step - loss: 0.1714 - acc: 0.9321 - val_loss: 0.3359 - val_acc: 0.9250\n",
      "Epoch 30/150\n",
      "719/719 [==============================] - 4s 5ms/step - loss: 0.1514 - acc: 0.9394 - val_loss: 0.3487 - val_acc: 0.9231\n",
      "Epoch 31/150\n",
      "719/719 [==============================] - 3s 4ms/step - loss: 0.1410 - acc: 0.9411 - val_loss: 0.3571 - val_acc: 0.9231\n",
      "Epoch 32/150\n",
      "719/719 [==============================] - 5s 6ms/step - loss: 0.2614 - acc: 0.9156 - val_loss: 0.4559 - val_acc: 0.9119\n",
      "Epoch 33/150\n",
      "719/719 [==============================] - 4s 5ms/step - loss: 0.2593 - acc: 0.9344 - val_loss: 0.4208 - val_acc: 0.9137\n",
      "Epoch 34/150\n",
      "719/719 [==============================] - 4s 5ms/step - loss: 0.2473 - acc: 0.9373 - val_loss: 0.4165 - val_acc: 0.9150\n",
      "Epoch 35/150\n",
      "719/719 [==============================] - 4s 6ms/step - loss: 0.2396 - acc: 0.9353 - val_loss: 0.4139 - val_acc: 0.9187\n",
      "Epoch 36/150\n",
      "719/719 [==============================] - 4s 6ms/step - loss: 0.2338 - acc: 0.9396 - val_loss: 0.4428 - val_acc: 0.9194\n",
      "Epoch 37/150\n",
      "719/719 [==============================] - 5s 6ms/step - loss: 0.2288 - acc: 0.9416 - val_loss: 0.4534 - val_acc: 0.9219\n",
      "Epoch 38/150\n",
      "719/719 [==============================] - 5s 8ms/step - loss: 0.2238 - acc: 0.9433 - val_loss: 0.4372 - val_acc: 0.9219\n",
      "Epoch 39/150\n",
      "719/719 [==============================] - 4s 6ms/step - loss: 0.2174 - acc: 0.9427 - val_loss: 0.4524 - val_acc: 0.9231\n",
      "Epoch 40/150\n",
      "719/719 [==============================] - 3s 4ms/step - loss: 0.2140 - acc: 0.9446 - val_loss: 0.4793 - val_acc: 0.9237\n",
      "Epoch 41/150\n",
      "719/719 [==============================] - 3s 4ms/step - loss: 0.2107 - acc: 0.9448 - val_loss: 0.4716 - val_acc: 0.9231\n",
      "Epoch 42/150\n",
      "719/719 [==============================] - 3s 4ms/step - loss: 0.2048 - acc: 0.9444 - val_loss: 0.4874 - val_acc: 0.9225\n",
      "Epoch 43/150\n",
      "719/719 [==============================] - 3s 4ms/step - loss: 0.1876 - acc: 0.9434 - val_loss: 0.5210 - val_acc: 0.9212\n",
      "Epoch 44/150\n",
      "719/719 [==============================] - 3s 5ms/step - loss: 0.1713 - acc: 0.9452 - val_loss: 0.5160 - val_acc: 0.9206\n",
      "Epoch 45/150\n",
      "719/719 [==============================] - 3s 4ms/step - loss: 0.1712 - acc: 0.9456 - val_loss: 0.5075 - val_acc: 0.9231\n",
      "Epoch 46/150\n",
      "719/719 [==============================] - 3s 4ms/step - loss: 0.1662 - acc: 0.9469 - val_loss: 0.5139 - val_acc: 0.9237\n",
      "Epoch 47/150\n",
      "719/719 [==============================] - 4s 5ms/step - loss: 0.1608 - acc: 0.9464 - val_loss: 0.5331 - val_acc: 0.9244\n",
      "Epoch 48/150\n",
      "719/719 [==============================] - 3s 4ms/step - loss: 0.1588 - acc: 0.9466 - val_loss: 0.5316 - val_acc: 0.9231\n",
      "Epoch 49/150\n",
      "719/719 [==============================] - 5s 7ms/step - loss: 0.1575 - acc: 0.9469 - val_loss: 0.5511 - val_acc: 0.9225\n",
      "Epoch 50/150\n",
      "719/719 [==============================] - 4s 5ms/step - loss: 0.1521 - acc: 0.9477 - val_loss: 0.5349 - val_acc: 0.9225\n",
      "Epoch 51/150\n",
      "719/719 [==============================] - 4s 5ms/step - loss: 0.1513 - acc: 0.9478 - val_loss: 0.5431 - val_acc: 0.9231\n",
      "Epoch 52/150\n",
      "719/719 [==============================] - 4s 5ms/step - loss: 0.1498 - acc: 0.9472 - val_loss: 0.5483 - val_acc: 0.9219\n",
      "Epoch 53/150\n",
      "719/719 [==============================] - 4s 5ms/step - loss: 0.1471 - acc: 0.9481 - val_loss: 0.5704 - val_acc: 0.9231\n",
      "Epoch 54/150\n",
      "719/719 [==============================] - 3s 5ms/step - loss: 0.1457 - acc: 0.9482 - val_loss: 0.5715 - val_acc: 0.9225\n",
      "Epoch 55/150\n",
      "719/719 [==============================] - 3s 4ms/step - loss: 0.1444 - acc: 0.9493 - val_loss: 0.5848 - val_acc: 0.9231\n",
      "Epoch 56/150\n",
      "719/719 [==============================] - 3s 4ms/step - loss: 0.1417 - acc: 0.9503 - val_loss: 0.5962 - val_acc: 0.9206\n",
      "Epoch 57/150\n",
      "719/719 [==============================] - 3s 4ms/step - loss: 0.1424 - acc: 0.9496 - val_loss: 0.5859 - val_acc: 0.9187\n",
      "Epoch 58/150\n",
      "719/719 [==============================] - 3s 4ms/step - loss: 0.1414 - acc: 0.9491 - val_loss: 0.5900 - val_acc: 0.9219\n",
      "Epoch 59/150\n",
      "719/719 [==============================] - 3s 4ms/step - loss: 0.1405 - acc: 0.9482 - val_loss: 0.5935 - val_acc: 0.9231\n",
      "Epoch 60/150\n",
      "719/719 [==============================] - 3s 5ms/step - loss: 0.1393 - acc: 0.9495 - val_loss: 0.6109 - val_acc: 0.9237\n",
      "Epoch 61/150\n",
      "719/719 [==============================] - 3s 5ms/step - loss: 0.1406 - acc: 0.9487 - val_loss: 0.6280 - val_acc: 0.9181\n"
     ]
    },
    {
     "name": "stdout",
     "output_type": "stream",
     "text": [
      "Epoch 62/150\n",
      "719/719 [==============================] - 4s 5ms/step - loss: 0.1470 - acc: 0.9492 - val_loss: 0.5899 - val_acc: 0.9231\n",
      "Epoch 63/150\n",
      "719/719 [==============================] - 4s 5ms/step - loss: 0.1461 - acc: 0.9485 - val_loss: 0.5776 - val_acc: 0.9250\n",
      "Epoch 64/150\n",
      "719/719 [==============================] - 3s 5ms/step - loss: 0.1481 - acc: 0.9462 - val_loss: 0.5765 - val_acc: 0.9225\n",
      "Epoch 65/150\n",
      "719/719 [==============================] - 4s 5ms/step - loss: 0.1445 - acc: 0.9478 - val_loss: 0.5875 - val_acc: 0.9194\n",
      "Epoch 66/150\n",
      "719/719 [==============================] - 3s 5ms/step - loss: 0.1416 - acc: 0.9481 - val_loss: 0.5770 - val_acc: 0.9237\n",
      "Epoch 67/150\n",
      "719/719 [==============================] - 3s 5ms/step - loss: 0.1432 - acc: 0.9489 - val_loss: 0.6014 - val_acc: 0.9219\n",
      "Epoch 68/150\n",
      "719/719 [==============================] - 3s 5ms/step - loss: 0.1403 - acc: 0.9501 - val_loss: 0.5826 - val_acc: 0.9250\n",
      "Epoch 69/150\n",
      "719/719 [==============================] - 3s 4ms/step - loss: 0.1437 - acc: 0.9506 - val_loss: 0.5912 - val_acc: 0.9212\n",
      "Epoch 70/150\n",
      "719/719 [==============================] - 3s 4ms/step - loss: 0.1368 - acc: 0.9497 - val_loss: 0.6018 - val_acc: 0.9219\n",
      "Epoch 71/150\n",
      "719/719 [==============================] - 3s 4ms/step - loss: 0.1350 - acc: 0.9506 - val_loss: 0.6203 - val_acc: 0.9206\n",
      "Epoch 72/150\n",
      "719/719 [==============================] - 3s 4ms/step - loss: 0.1332 - acc: 0.9510 - val_loss: 0.6210 - val_acc: 0.9212\n",
      "Epoch 73/150\n",
      "719/719 [==============================] - 3s 4ms/step - loss: 0.1318 - acc: 0.9524 - val_loss: 0.6040 - val_acc: 0.9231\n",
      "Epoch 74/150\n",
      "719/719 [==============================] - 3s 4ms/step - loss: 0.1300 - acc: 0.9548 - val_loss: 0.6136 - val_acc: 0.9212\n",
      "Epoch 75/150\n",
      "719/719 [==============================] - 3s 4ms/step - loss: 0.1298 - acc: 0.9555 - val_loss: 0.6246 - val_acc: 0.9206\n",
      "Epoch 76/150\n",
      "719/719 [==============================] - 3s 4ms/step - loss: 0.1300 - acc: 0.9542 - val_loss: 0.6370 - val_acc: 0.9206\n",
      "Epoch 77/150\n",
      "719/719 [==============================] - 4s 5ms/step - loss: 0.1288 - acc: 0.9542 - val_loss: 0.6476 - val_acc: 0.9231\n",
      "Epoch 78/150\n",
      "719/719 [==============================] - 3s 4ms/step - loss: 0.1291 - acc: 0.9546 - val_loss: 0.6554 - val_acc: 0.9219\n",
      "Epoch 79/150\n",
      "719/719 [==============================] - 4s 6ms/step - loss: 0.1289 - acc: 0.9557 - val_loss: 0.6418 - val_acc: 0.9200\n",
      "Epoch 80/150\n",
      "719/719 [==============================] - 5s 7ms/step - loss: 0.1278 - acc: 0.9551 - val_loss: 0.6327 - val_acc: 0.9225\n",
      "Epoch 81/150\n",
      "719/719 [==============================] - 4s 6ms/step - loss: 0.1301 - acc: 0.9556 - val_loss: 0.6188 - val_acc: 0.9200\n",
      "Epoch 82/150\n",
      "719/719 [==============================] - 4s 5ms/step - loss: 0.1357 - acc: 0.9549 - val_loss: 0.6283 - val_acc: 0.9219\n",
      "Epoch 83/150\n",
      "719/719 [==============================] - 4s 6ms/step - loss: 0.1417 - acc: 0.9575 - val_loss: 0.6574 - val_acc: 0.9237\n",
      "Epoch 84/150\n",
      "719/719 [==============================] - 4s 6ms/step - loss: 0.1334 - acc: 0.9540 - val_loss: 0.6532 - val_acc: 0.9244\n",
      "Epoch 85/150\n",
      "719/719 [==============================] - 4s 5ms/step - loss: 0.1474 - acc: 0.9537 - val_loss: 0.7257 - val_acc: 0.9106\n",
      "Epoch 86/150\n",
      "719/719 [==============================] - 3s 5ms/step - loss: 0.2136 - acc: 0.9483 - val_loss: 0.6003 - val_acc: 0.9219\n",
      "Epoch 87/150\n",
      "719/719 [==============================] - 3s 5ms/step - loss: 0.1940 - acc: 0.9446 - val_loss: 0.5638 - val_acc: 0.9200\n",
      "Epoch 88/150\n",
      "719/719 [==============================] - 3s 4ms/step - loss: 0.1781 - acc: 0.9520 - val_loss: 0.6376 - val_acc: 0.9112\n",
      "Epoch 89/150\n",
      "719/719 [==============================] - 3s 5ms/step - loss: 0.2025 - acc: 0.9490 - val_loss: 0.5953 - val_acc: 0.9138\n",
      "Epoch 90/150\n",
      "719/719 [==============================] - 3s 5ms/step - loss: 0.1769 - acc: 0.9506 - val_loss: 0.5976 - val_acc: 0.9081\n",
      "Epoch 91/150\n",
      "719/719 [==============================] - 3s 5ms/step - loss: 0.1528 - acc: 0.9516 - val_loss: 0.5714 - val_acc: 0.9156\n",
      "Epoch 92/150\n",
      "719/719 [==============================] - 3s 5ms/step - loss: 0.1456 - acc: 0.9526 - val_loss: 0.5983 - val_acc: 0.9163\n",
      "Epoch 93/150\n",
      "719/719 [==============================] - 3s 4ms/step - loss: 0.1392 - acc: 0.9553 - val_loss: 0.6036 - val_acc: 0.9187\n",
      "Epoch 94/150\n",
      "719/719 [==============================] - 3s 5ms/step - loss: 0.1302 - acc: 0.9568 - val_loss: 0.5837 - val_acc: 0.9206\n",
      "Epoch 95/150\n",
      "719/719 [==============================] - 3s 4ms/step - loss: 0.1313 - acc: 0.9582 - val_loss: 0.6013 - val_acc: 0.9206\n",
      "Epoch 96/150\n",
      "719/719 [==============================] - 3s 4ms/step - loss: 0.1258 - acc: 0.9581 - val_loss: 0.6013 - val_acc: 0.9200\n",
      "Epoch 97/150\n",
      "719/719 [==============================] - 3s 5ms/step - loss: 0.1226 - acc: 0.9588 - val_loss: 0.6003 - val_acc: 0.9206\n",
      "Epoch 98/150\n",
      "719/719 [==============================] - 3s 4ms/step - loss: 0.1205 - acc: 0.9579 - val_loss: 0.6140 - val_acc: 0.9175\n",
      "Epoch 99/150\n",
      "719/719 [==============================] - 4s 5ms/step - loss: 0.1193 - acc: 0.9598 - val_loss: 0.6133 - val_acc: 0.9212\n",
      "Epoch 100/150\n",
      "719/719 [==============================] - 3s 5ms/step - loss: 0.1161 - acc: 0.9610 - val_loss: 0.6068 - val_acc: 0.9219\n",
      "Epoch 101/150\n",
      "719/719 [==============================] - 4s 5ms/step - loss: 0.1148 - acc: 0.9608 - val_loss: 0.6223 - val_acc: 0.9206\n",
      "Epoch 102/150\n",
      "719/719 [==============================] - 5s 7ms/step - loss: 0.1295 - acc: 0.9576 - val_loss: 0.6191 - val_acc: 0.9181\n",
      "Epoch 103/150\n",
      "719/719 [==============================] - 4s 6ms/step - loss: 0.1215 - acc: 0.9565 - val_loss: 0.5855 - val_acc: 0.9194\n",
      "Epoch 104/150\n",
      "719/719 [==============================] - 4s 5ms/step - loss: 0.1179 - acc: 0.9565 - val_loss: 0.6053 - val_acc: 0.9225\n",
      "Epoch 105/150\n",
      "719/719 [==============================] - 4s 5ms/step - loss: 0.1108 - acc: 0.9601 - val_loss: 0.6535 - val_acc: 0.9212\n",
      "Epoch 106/150\n",
      "719/719 [==============================] - 3s 4ms/step - loss: 0.1405 - acc: 0.9568 - val_loss: 0.6380 - val_acc: 0.9206\n",
      "Epoch 107/150\n",
      "719/719 [==============================] - 3s 4ms/step - loss: 0.1161 - acc: 0.9557 - val_loss: 0.6527 - val_acc: 0.9112\n",
      "Epoch 108/150\n",
      "719/719 [==============================] - 3s 4ms/step - loss: 0.1776 - acc: 0.9505 - val_loss: 0.8803 - val_acc: 0.8962\n",
      "Epoch 109/150\n",
      "719/719 [==============================] - 3s 4ms/step - loss: 0.3334 - acc: 0.9332 - val_loss: 0.9087 - val_acc: 0.8794\n",
      "Epoch 110/150\n",
      "719/719 [==============================] - 3s 4ms/step - loss: 0.3177 - acc: 0.9373 - val_loss: 0.8571 - val_acc: 0.8944\n",
      "Epoch 111/150\n",
      "719/719 [==============================] - 3s 5ms/step - loss: 0.2936 - acc: 0.9453 - val_loss: 0.8531 - val_acc: 0.8938\n",
      "Epoch 112/150\n",
      "719/719 [==============================] - 3s 4ms/step - loss: 0.2874 - acc: 0.9445 - val_loss: 0.8568 - val_acc: 0.8944\n",
      "Epoch 113/150\n",
      "719/719 [==============================] - 3s 4ms/step - loss: 0.1723 - acc: 0.9466 - val_loss: 0.6639 - val_acc: 0.9069\n",
      "Epoch 114/150\n",
      "719/719 [==============================] - 3s 4ms/step - loss: 0.1249 - acc: 0.9545 - val_loss: 0.6607 - val_acc: 0.9144\n",
      "Epoch 115/150\n",
      "719/719 [==============================] - 3s 4ms/step - loss: 0.1214 - acc: 0.9562 - val_loss: 0.6758 - val_acc: 0.9100\n",
      "Epoch 116/150\n",
      "719/719 [==============================] - 3s 4ms/step - loss: 0.1191 - acc: 0.9549 - val_loss: 0.6786 - val_acc: 0.9100\n",
      "Epoch 117/150\n",
      "719/719 [==============================] - 3s 4ms/step - loss: 0.1174 - acc: 0.9557 - val_loss: 0.6824 - val_acc: 0.9131\n",
      "Epoch 118/150\n",
      "719/719 [==============================] - 3s 4ms/step - loss: 0.1165 - acc: 0.9556 - val_loss: 0.6916 - val_acc: 0.9087\n",
      "Epoch 119/150\n",
      "719/719 [==============================] - 3s 4ms/step - loss: 0.1159 - acc: 0.9544 - val_loss: 0.6693 - val_acc: 0.9119\n",
      "Epoch 120/150\n",
      "719/719 [==============================] - 3s 4ms/step - loss: 0.1193 - acc: 0.9549 - val_loss: 0.6940 - val_acc: 0.9081\n",
      "Epoch 121/150\n",
      "719/719 [==============================] - 3s 4ms/step - loss: 0.1160 - acc: 0.9542 - val_loss: 0.6951 - val_acc: 0.9100\n",
      "Epoch 122/150\n",
      "719/719 [==============================] - 3s 4ms/step - loss: 0.1112 - acc: 0.9546 - val_loss: 0.6710 - val_acc: 0.9162\n"
     ]
    },
    {
     "name": "stdout",
     "output_type": "stream",
     "text": [
      "Epoch 123/150\n",
      "719/719 [==============================] - 3s 5ms/step - loss: 0.1096 - acc: 0.9550 - val_loss: 0.6921 - val_acc: 0.9131\n",
      "Epoch 124/150\n",
      "719/719 [==============================] - 3s 4ms/step - loss: 0.1085 - acc: 0.9556 - val_loss: 0.6993 - val_acc: 0.9144\n",
      "Epoch 125/150\n",
      "719/719 [==============================] - 3s 4ms/step - loss: 0.1096 - acc: 0.9548 - val_loss: 0.6993 - val_acc: 0.9144\n",
      "Epoch 126/150\n",
      "719/719 [==============================] - 3s 5ms/step - loss: 0.1100 - acc: 0.9556 - val_loss: 0.6990 - val_acc: 0.9119\n",
      "Epoch 127/150\n",
      "719/719 [==============================] - 3s 5ms/step - loss: 0.1077 - acc: 0.9560 - val_loss: 0.6944 - val_acc: 0.9144\n",
      "Epoch 128/150\n",
      "719/719 [==============================] - 3s 4ms/step - loss: 0.1064 - acc: 0.9542 - val_loss: 0.7032 - val_acc: 0.9119\n",
      "Epoch 129/150\n",
      "719/719 [==============================] - 3s 5ms/step - loss: 0.1067 - acc: 0.9534 - val_loss: 0.6955 - val_acc: 0.9137\n",
      "Epoch 130/150\n",
      "719/719 [==============================] - 3s 5ms/step - loss: 0.1033 - acc: 0.9532 - val_loss: 0.7161 - val_acc: 0.9119\n",
      "Epoch 131/150\n",
      "719/719 [==============================] - 4s 5ms/step - loss: 0.1049 - acc: 0.9526 - val_loss: 0.6861 - val_acc: 0.9100\n",
      "Epoch 132/150\n",
      "719/719 [==============================] - 3s 5ms/step - loss: 0.1007 - acc: 0.9518 - val_loss: 0.6804 - val_acc: 0.9119\n",
      "Epoch 133/150\n",
      "719/719 [==============================] - 3s 4ms/step - loss: 0.1009 - acc: 0.9527 - val_loss: 0.7304 - val_acc: 0.9119\n",
      "Epoch 134/150\n",
      "719/719 [==============================] - 3s 4ms/step - loss: 0.0996 - acc: 0.9518 - val_loss: 0.7208 - val_acc: 0.9100\n",
      "Epoch 135/150\n",
      "719/719 [==============================] - 3s 4ms/step - loss: 0.1245 - acc: 0.9482 - val_loss: 0.7664 - val_acc: 0.9025\n",
      "Epoch 136/150\n",
      "719/719 [==============================] - 3s 5ms/step - loss: 0.1179 - acc: 0.9488 - val_loss: 0.7661 - val_acc: 0.9112\n",
      "Epoch 137/150\n",
      "719/719 [==============================] - 3s 5ms/step - loss: 0.1141 - acc: 0.9524 - val_loss: 0.7214 - val_acc: 0.9137\n",
      "Epoch 138/150\n",
      "719/719 [==============================] - 3s 4ms/step - loss: 0.1260 - acc: 0.9512 - val_loss: 0.6881 - val_acc: 0.9175\n",
      "Epoch 139/150\n",
      "719/719 [==============================] - 4s 5ms/step - loss: 0.1527 - acc: 0.9467 - val_loss: 0.6656 - val_acc: 0.9162\n",
      "Epoch 140/150\n",
      "719/719 [==============================] - 3s 5ms/step - loss: 0.4797 - acc: 0.9151 - val_loss: 0.8546 - val_acc: 0.8737\n",
      "Epoch 141/150\n",
      "719/719 [==============================] - 3s 5ms/step - loss: 0.6394 - acc: 0.8899 - val_loss: 0.6095 - val_acc: 0.8975\n",
      "Epoch 142/150\n",
      "719/719 [==============================] - 3s 5ms/step - loss: 0.4561 - acc: 0.9003 - val_loss: 0.5772 - val_acc: 0.9031\n",
      "Epoch 143/150\n",
      "719/719 [==============================] - 3s 4ms/step - loss: 0.4206 - acc: 0.9087 - val_loss: 0.5635 - val_acc: 0.9056\n",
      "Epoch 144/150\n",
      "719/719 [==============================] - 3s 4ms/step - loss: 0.3791 - acc: 0.9124 - val_loss: 0.4903 - val_acc: 0.9056\n",
      "Epoch 145/150\n",
      "719/719 [==============================] - 3s 4ms/step - loss: 0.3427 - acc: 0.9174 - val_loss: 0.4346 - val_acc: 0.9069\n",
      "Epoch 146/150\n",
      "719/719 [==============================] - 3s 4ms/step - loss: 0.2718 - acc: 0.9225 - val_loss: 0.3756 - val_acc: 0.9094\n",
      "Epoch 147/150\n",
      "719/719 [==============================] - 3s 4ms/step - loss: 0.2505 - acc: 0.9242 - val_loss: 0.3780 - val_acc: 0.9094\n",
      "Epoch 148/150\n",
      "719/719 [==============================] - 3s 5ms/step - loss: 0.2278 - acc: 0.9272 - val_loss: 0.3610 - val_acc: 0.9087\n",
      "Epoch 149/150\n",
      "719/719 [==============================] - 3s 5ms/step - loss: 0.2147 - acc: 0.9305 - val_loss: 0.3580 - val_acc: 0.9081\n",
      "Epoch 150/150\n",
      "719/719 [==============================] - 3s 5ms/step - loss: 0.2062 - acc: 0.9313 - val_loss: 0.3575 - val_acc: 0.9100\n"
     ]
    }
   ],
   "source": [
    "history = model.fit(X_train, y_train, batch_size=40, epochs=150, verbose=1, validation_split=0.1)\n",
    "\n",
    "# 150 이상은 오버피팅"
   ]
  },
  {
   "cell_type": "code",
   "execution_count": 89,
   "metadata": {},
   "outputs": [
    {
     "name": "stdout",
     "output_type": "stream",
     "text": [
      "200/200 [==============================] - 0s 1ms/step\n",
      "Test Score: 0.311986985206604\n",
      "Test Accuracy: 0.9185000061988831\n"
     ]
    }
   ],
   "source": [
    "score = model.evaluate(X_test, y_test, verbose=1)\n",
    "\n",
    "print(\"Test Score:\", score[0])\n",
    "print(\"Test Accuracy:\", score[1])"
   ]
  },
  {
   "cell_type": "markdown",
   "metadata": {},
   "source": [
    "## Visualize the results"
   ]
  },
  {
   "cell_type": "code",
   "execution_count": 90,
   "metadata": {},
   "outputs": [
    {
     "data": {
      "image/png": "[encoded data removed]",
      "text/plain": [
       "<Figure size 432x288 with 1 Axes>"
      ]
     },
     "metadata": {
      "needs_background": "light"
     },
     "output_type": "display_data"
    },
    {
     "data": {
      "image/png": "[encoded data removed]",
      "text/plain": [
       "<Figure size 432x288 with 1 Axes>"
      ]
     },
     "metadata": {
      "needs_background": "light"
     },
     "output_type": "display_data"
    }
   ],
   "source": [
    "import matplotlib.pyplot as plt\n",
    "\n",
    "plt.plot(history.history['acc'])\n",
    "plt.plot(history.history['val_acc'])\n",
    "\n",
    "plt.title('model accuracy')\n",
    "plt.ylabel('accuracy')\n",
    "plt.xlabel('epoch')\n",
    "plt.legend(['train','test'], loc='upper left')\n",
    "plt.show()\n",
    "\n",
    "plt.plot(history.history['loss'])\n",
    "plt.plot(history.history['val_loss'])\n",
    "\n",
    "plt.title('model loss')\n",
    "plt.ylabel('loss')\n",
    "plt.xlabel('epoch')\n",
    "plt.legend(['train','test'], loc='upper left')\n",
    "plt.show()"
   ]
  },
  {
   "cell_type": "markdown",
   "metadata": {},
   "source": [
    "## Results as TAGS (Words)"
   ]
  },
  {
   "cell_type": "code",
   "execution_count": 91,
   "metadata": {},
   "outputs": [
    {
     "name": "stdout",
     "output_type": "stream",
     "text": [
      "200/200 [==============================] - 0s 1ms/step\n"
     ]
    }
   ],
   "source": [
    "pred = model.predict(X_test, verbose=1)"
   ]
  },
  {
   "cell_type": "code",
   "execution_count": 92,
   "metadata": {},
   "outputs": [],
   "source": [
    "## 두 가지 경우로 나누자.\n",
    "## 1. threshold가 일정 값 이상인 경우\n",
    "# - 0.10: 12-14개 정도\n",
    "# - 0.20: 6-7개정도\n",
    "# - 0.30: 3개 (놀라울 정도로 모두 다 3개이다)\n",
    "# - 0.35: 1개 (이것 또한 놀라울 정도로 모두 1개이다)\n",
    "# - 0.31: 1-2개\n",
    "# - 0.305: 2-3개\n",
    "# --> 0.31이 적당한듯!\n",
    "\n",
    "\n",
    "## 2. 가장 확률 높은 2개 tag로?"
   ]
  },
  {
   "cell_type": "code",
   "execution_count": 93,
   "metadata": {},
   "outputs": [],
   "source": [
    "## 모델 트레이닝 시킬때마다 threshold가 변경된다.... 기준을 무엇으로 할지 애매하군.\n",
    "## 1. threshold 이상\n",
    "## 2. 가장 확률 높은 2개 tag로?"
   ]
  },
  {
   "cell_type": "code",
   "execution_count": 94,
   "metadata": {},
   "outputs": [],
   "source": [
    "# for _ in pred:\n",
    "#     num=0\n",
    "#     for elem in _:\n",
    "#         if elem>0.2:\n",
    "#             num+=1\n",
    "#     print(num)"
   ]
  },
  {
   "cell_type": "code",
   "execution_count": 95,
   "metadata": {},
   "outputs": [],
   "source": [
    "# # adjusting threshold in 2D numpy array\n",
    "# # 참고 사이트: https://stackoverflow.com/questions/36719997/threshold-in-2d-numpy-array/36720130\n",
    "# pred_ = (pred>0.2)*pred\n",
    "# pred_[pred_>0]=1"
   ]
  },
  {
   "cell_type": "code",
   "execution_count": 96,
   "metadata": {},
   "outputs": [],
   "source": [
    "idxs = []\n",
    "idxs2 = []\n",
    "\n",
    "# 참고사이트: https://stackoverflow.com/questions/6910641/how-do-i-get-indices-of-n-maximum-values-in-a-numpy-array/38884051\n",
    "\n",
    "for i in range(len(pred)):\n",
    "    # 1st largest idx\n",
    "    preds = pred[i]\n",
    "    preds = list(preds)\n",
    "    idx = np.argmax(preds)\n",
    "    idxs.append(idx)\n",
    "    \n",
    "    # 2nd largest idx\n",
    "    flat= preds.copy()\n",
    "    flat.sort()\n",
    "    for idx2 in range(len(preds)):\n",
    "        # print(type(flat))\n",
    "        if flat[-2] == preds[idx2]:\n",
    "            idxs2.append(idx2)\n",
    "            \n",
    "# idxs: 첫번째로 큰 값\n",
    "# idxs2: 두번째로 큰 값"
   ]
  },
  {
   "cell_type": "code",
   "execution_count": 97,
   "metadata": {},
   "outputs": [],
   "source": [
    "pred_1 = pred.copy()\n",
    "\n",
    "for i in range(len(pred_1)):\n",
    "    # print(pred[i][idxs[i]])\n",
    "    for j in range(len(pred_1[i])):\n",
    "        if j!=idxs[i]:\n",
    "            pred_1[i][j] = 0\n",
    "        else:\n",
    "            pred_1[i][j] = 1\n",
    "\n",
    "            \n",
    "pred_2 = pred.copy()\n",
    "\n",
    "for i in range(len(pred_2)):\n",
    "    # print(pred[i][idxs[i]])\n",
    "    for j in range(len(pred_2[i])):\n",
    "        if j!=idxs2[i]:\n",
    "            pred_2[i][j] = 0\n",
    "        else:\n",
    "            pred_2[i][j] = 1"
   ]
  },
  {
   "cell_type": "code",
   "execution_count": 98,
   "metadata": {},
   "outputs": [],
   "source": [
    "tags_1 = mlb.inverse_transform(pred_1)\n",
    "tags_2 = mlb.inverse_transform(pred_2)\n",
    "\n",
    "tags_1_series = pd.Series(tags_1) \n",
    "tags_2_series = pd.Series(tags_2) \n",
    "X_test_series = pd.Series(X_test_tokens)\n",
    "y_test_series = pd.Series(y_test_tags)"
   ]
  },
  {
   "cell_type": "code",
   "execution_count": 99,
   "metadata": {},
   "outputs": [],
   "source": [
    "check_df = pd.concat([X_test_series, y_test_series, tags_1_series, tags_2_series], axis=1, ignore_index=True)"
   ]
  },
  {
   "cell_type": "code",
   "execution_count": 100,
   "metadata": {},
   "outputs": [
    {
     "data": {
      "text/html": [
       "<div>\n",
       "<style scoped>\n",
       "    .dataframe tbody tr th:only-of-type {\n",
       "        vertical-align: middle;\n",
       "    }\n",
       "\n",
       "    .dataframe tbody tr th {\n",
       "        vertical-align: top;\n",
       "    }\n",
       "\n",
       "    .dataframe thead th {\n",
       "        text-align: right;\n",
       "    }\n",
       "</style>\n",
       "<table border=\"1\" class=\"dataframe\">\n",
       "  <thead>\n",
       "    <tr style=\"text-align: right;\">\n",
       "      <th></th>\n",
       "      <th>text</th>\n",
       "      <th>tags</th>\n",
       "      <th>tags_pred_1</th>\n",
       "      <th>tags_pred_2</th>\n",
       "    </tr>\n",
       "  </thead>\n",
       "  <tbody>\n",
       "    <tr>\n",
       "      <th>0</th>\n",
       "      <td>[보다, 페이, 지는, 2020, 학년, 상반기, 영문, 이력서, 영어, 면접, 클...</td>\n",
       "      <td>(11,)</td>\n",
       "      <td>(11,)</td>\n",
       "      <td>(12,)</td>\n",
       "    </tr>\n",
       "    <tr>\n",
       "      <th>1</th>\n",
       "      <td>[1, 기, 퍼플, 스, 대학생, 서포터즈, 지다, 플스, 2001년, 유학, 파,...</td>\n",
       "      <td>(5, 8)</td>\n",
       "      <td>(4,)</td>\n",
       "      <td>(12,)</td>\n",
       "    </tr>\n",
       "    <tr>\n",
       "      <th>2</th>\n",
       "      <td>[일정, 변경, 고려대학교, 형사, 판례, 연, 반, 201, 학기, 신입학, 회원...</td>\n",
       "      <td>(2, 11, 16, 18)</td>\n",
       "      <td>(18,)</td>\n",
       "      <td>(16,)</td>\n",
       "    </tr>\n",
       "    <tr>\n",
       "      <th>3</th>\n",
       "      <td>[활동, 정보, 대상, 일반인, 신청, 기간, 20200715, 수, 2020082...</td>\n",
       "      <td>(4, 7)</td>\n",
       "      <td>(8,)</td>\n",
       "      <td>(4,)</td>\n",
       "    </tr>\n",
       "    <tr>\n",
       "      <th>4</th>\n",
       "      <td>[고려대학교, 합창단, 신, 입단, 원, 모집, 합창, 덫, 화음, 올가미, 고려대...</td>\n",
       "      <td>(12, 14, 19)</td>\n",
       "      <td>(12,)</td>\n",
       "      <td>(11,)</td>\n",
       "    </tr>\n",
       "    <tr>\n",
       "      <th>5</th>\n",
       "      <td>[스쿼시, 고려대학교, 중앙, 스쿼시, 동아리, 엔더스, 신입, 부원, 모집, 고려...</td>\n",
       "      <td>(10, 12)</td>\n",
       "      <td>(10,)</td>\n",
       "      <td>(12,)</td>\n",
       "    </tr>\n",
       "    <tr>\n",
       "      <th>6</th>\n",
       "      <td>[지원, 마감, Dday, 고연, 서성, 연합, ELAND, 산학, 협력, 학회, ...</td>\n",
       "      <td>(5, 11, 16, 18)</td>\n",
       "      <td>(5,)</td>\n",
       "      <td>(12,)</td>\n",
       "    </tr>\n",
       "    <tr>\n",
       "      <th>7</th>\n",
       "      <td>[UNSA, 코로나, 19, 오다, 국경, 공개, 세미나, 진행, 고려대학교, 유엔...</td>\n",
       "      <td>(2, 12)</td>\n",
       "      <td>(11,)</td>\n",
       "      <td>(12,)</td>\n",
       "    </tr>\n",
       "    <tr>\n",
       "      <th>8</th>\n",
       "      <td>[고려대학교, 합창단, 신입, 단원, 모집, 합창, 덫, 화음, 올가미, 고려대학교...</td>\n",
       "      <td>(12, 14, 19)</td>\n",
       "      <td>(12,)</td>\n",
       "      <td>(11,)</td>\n",
       "    </tr>\n",
       "    <tr>\n",
       "      <th>9</th>\n",
       "      <td>[한국, 공, 항공사, 2020년, 대학원생, 논문, 공모전, 공모, 기간, 202...</td>\n",
       "      <td>(4,)</td>\n",
       "      <td>(4,)</td>\n",
       "      <td>(7,)</td>\n",
       "    </tr>\n",
       "    <tr>\n",
       "      <th>10</th>\n",
       "      <td>[대, 두통, 학회, 두통, 없다, 행복하다, 세상, 홈페이지, 모바일, 버전, 오...</td>\n",
       "      <td>(4, 5, 6)</td>\n",
       "      <td>(8,)</td>\n",
       "      <td>(0,)</td>\n",
       "    </tr>\n",
       "    <tr>\n",
       "      <th>11</th>\n",
       "      <td>[선착순, 마감, 중, 멀티, 캠퍼스, 인기, 과정, IT, 무료, 취업, 교육, ...</td>\n",
       "      <td>(3, 8)</td>\n",
       "      <td>(12,)</td>\n",
       "      <td>(11,)</td>\n",
       "    </tr>\n",
       "    <tr>\n",
       "      <th>12</th>\n",
       "      <td>[고집, 고려대학교, 해비타트, 건축, 봉사, CCYP, 동아리, 고집, 10, 기...</td>\n",
       "      <td>(0, 1, 12)</td>\n",
       "      <td>(0,)</td>\n",
       "      <td>(8,)</td>\n",
       "    </tr>\n",
       "    <tr>\n",
       "      <th>13</th>\n",
       "      <td>[2회, 서, 울, 국제, 공공, 광고, 공모, 부문, 주제, 평화, 환경, 인권,...</td>\n",
       "      <td>(4, 6)</td>\n",
       "      <td>(4,)</td>\n",
       "      <td>(8,)</td>\n",
       "    </tr>\n",
       "    <tr>\n",
       "      <th>14</th>\n",
       "      <td>[매다, 코리아, 비, 페스, 타, 대학생, 서포터즈, 뷰티, 스타, 3, 기, 모...</td>\n",
       "      <td>(7, 8)</td>\n",
       "      <td>(12,)</td>\n",
       "      <td>(5,)</td>\n",
       "    </tr>\n",
       "    <tr>\n",
       "      <th>15</th>\n",
       "      <td>[보다, 페이, 지는, 2020년, 5월, 온라인, 취업, 특강, 면접, 돌발상황,...</td>\n",
       "      <td>(11,)</td>\n",
       "      <td>(11,)</td>\n",
       "      <td>(12,)</td>\n",
       "    </tr>\n",
       "    <tr>\n",
       "      <th>16</th>\n",
       "      <td>[중앙, 아카펠라, 동아리, 로그, 스, 신입, 부원, 모집, 로그, 스, 14, ...</td>\n",
       "      <td>(12, 19)</td>\n",
       "      <td>(12,)</td>\n",
       "      <td>(10,)</td>\n",
       "    </tr>\n",
       "    <tr>\n",
       "      <th>17</th>\n",
       "      <td>[5회, 커피, 29초, 영화제, 응모, 자격, 제한, 없다, 응모, 주제, wit...</td>\n",
       "      <td>(4, 5, 7)</td>\n",
       "      <td>(11,)</td>\n",
       "      <td>(12,)</td>\n",
       "    </tr>\n",
       "    <tr>\n",
       "      <th>18</th>\n",
       "      <td>[2020, PIN, UP, DESIGN, AWARDS, 1, 대회, 개요, ㅇ, ...</td>\n",
       "      <td>(4, 7)</td>\n",
       "      <td>(4,)</td>\n",
       "      <td>(8,)</td>\n",
       "    </tr>\n",
       "    <tr>\n",
       "      <th>19</th>\n",
       "      <td>[가톨릭, 학생회, 젊다, 예수, 새, 식구, 모집, 고려대학교, 가톨릭, 학생회,...</td>\n",
       "      <td>(12, 15)</td>\n",
       "      <td>(12,)</td>\n",
       "      <td>(14,)</td>\n",
       "    </tr>\n",
       "  </tbody>\n",
       "</table>\n",
       "</div>"
      ],
      "text/plain": [
       "                                                 text             tags  \\\n",
       "0   [보다, 페이, 지는, 2020, 학년, 상반기, 영문, 이력서, 영어, 면접, 클...            (11,)   \n",
       "1   [1, 기, 퍼플, 스, 대학생, 서포터즈, 지다, 플스, 2001년, 유학, 파,...           (5, 8)   \n",
       "2   [일정, 변경, 고려대학교, 형사, 판례, 연, 반, 201, 학기, 신입학, 회원...  (2, 11, 16, 18)   \n",
       "3   [활동, 정보, 대상, 일반인, 신청, 기간, 20200715, 수, 2020082...           (4, 7)   \n",
       "4   [고려대학교, 합창단, 신, 입단, 원, 모집, 합창, 덫, 화음, 올가미, 고려대...     (12, 14, 19)   \n",
       "5   [스쿼시, 고려대학교, 중앙, 스쿼시, 동아리, 엔더스, 신입, 부원, 모집, 고려...         (10, 12)   \n",
       "6   [지원, 마감, Dday, 고연, 서성, 연합, ELAND, 산학, 협력, 학회, ...  (5, 11, 16, 18)   \n",
       "7   [UNSA, 코로나, 19, 오다, 국경, 공개, 세미나, 진행, 고려대학교, 유엔...          (2, 12)   \n",
       "8   [고려대학교, 합창단, 신입, 단원, 모집, 합창, 덫, 화음, 올가미, 고려대학교...     (12, 14, 19)   \n",
       "9   [한국, 공, 항공사, 2020년, 대학원생, 논문, 공모전, 공모, 기간, 202...             (4,)   \n",
       "10  [대, 두통, 학회, 두통, 없다, 행복하다, 세상, 홈페이지, 모바일, 버전, 오...        (4, 5, 6)   \n",
       "11  [선착순, 마감, 중, 멀티, 캠퍼스, 인기, 과정, IT, 무료, 취업, 교육, ...           (3, 8)   \n",
       "12  [고집, 고려대학교, 해비타트, 건축, 봉사, CCYP, 동아리, 고집, 10, 기...       (0, 1, 12)   \n",
       "13  [2회, 서, 울, 국제, 공공, 광고, 공모, 부문, 주제, 평화, 환경, 인권,...           (4, 6)   \n",
       "14  [매다, 코리아, 비, 페스, 타, 대학생, 서포터즈, 뷰티, 스타, 3, 기, 모...           (7, 8)   \n",
       "15  [보다, 페이, 지는, 2020년, 5월, 온라인, 취업, 특강, 면접, 돌발상황,...            (11,)   \n",
       "16  [중앙, 아카펠라, 동아리, 로그, 스, 신입, 부원, 모집, 로그, 스, 14, ...         (12, 19)   \n",
       "17  [5회, 커피, 29초, 영화제, 응모, 자격, 제한, 없다, 응모, 주제, wit...        (4, 5, 7)   \n",
       "18  [2020, PIN, UP, DESIGN, AWARDS, 1, 대회, 개요, ㅇ, ...           (4, 7)   \n",
       "19  [가톨릭, 학생회, 젊다, 예수, 새, 식구, 모집, 고려대학교, 가톨릭, 학생회,...         (12, 15)   \n",
       "\n",
       "   tags_pred_1 tags_pred_2  \n",
       "0        (11,)       (12,)  \n",
       "1         (4,)       (12,)  \n",
       "2        (18,)       (16,)  \n",
       "3         (8,)        (4,)  \n",
       "4        (12,)       (11,)  \n",
       "5        (10,)       (12,)  \n",
       "6         (5,)       (12,)  \n",
       "7        (11,)       (12,)  \n",
       "8        (12,)       (11,)  \n",
       "9         (4,)        (7,)  \n",
       "10        (8,)        (0,)  \n",
       "11       (12,)       (11,)  \n",
       "12        (0,)        (8,)  \n",
       "13        (4,)        (8,)  \n",
       "14       (12,)        (5,)  \n",
       "15       (11,)       (12,)  \n",
       "16       (12,)       (10,)  \n",
       "17       (11,)       (12,)  \n",
       "18        (4,)        (8,)  \n",
       "19       (12,)       (14,)  "
      ]
     },
     "execution_count": 100,
     "metadata": {},
     "output_type": "execute_result"
    }
   ],
   "source": [
    "check_df.columns = ['text', 'tags', 'tags_pred_1', 'tags_pred_2']\n",
    "check_df.head(20)"
   ]
  },
  {
   "cell_type": "code",
   "execution_count": 101,
   "metadata": {},
   "outputs": [
    {
     "data": {
      "text/plain": [
       "{'봉사': 0,\n",
       " '예술': 1,\n",
       " '사회': 2,\n",
       " 'IT': 3,\n",
       " '공모전': 4,\n",
       " '경영': 5,\n",
       " '과학': 6,\n",
       " '미술': 7,\n",
       " '대외활동': 8,\n",
       " '기타': 9,\n",
       " '운동': 10,\n",
       " '취업': 11,\n",
       " '동아리': 12,\n",
       " '언어': 13,\n",
       " '친목': 14,\n",
       " '종교': 15,\n",
       " '스터디': 16,\n",
       " '연합': 17,\n",
       " '학회': 18,\n",
       " '음악': 19}"
      ]
     },
     "execution_count": 101,
     "metadata": {},
     "output_type": "execute_result"
    }
   ],
   "source": [
    "tag2index"
   ]
  },
  {
   "cell_type": "code",
   "execution_count": 102,
   "metadata": {},
   "outputs": [],
   "source": [
    "df_words = check_df.copy()"
   ]
  },
  {
   "cell_type": "code",
   "execution_count": 103,
   "metadata": {},
   "outputs": [],
   "source": [
    "def to_words(y):\n",
    "    new_list = []\n",
    "    for list_ in y:\n",
    "        list_ = list_.tolist()\n",
    "        list_ = [tag2index[value] for value in list_]\n",
    "        new_list.append(list_)\n",
    "    return new_list"
   ]
  },
  {
   "cell_type": "code",
   "execution_count": 104,
   "metadata": {},
   "outputs": [],
   "source": [
    "# df_words.tags = df_words.tags.apply(lambda x: x.tolist())\n",
    "# df_words.tags = df_words.tags.apply(lambda x: to_words(x))"
   ]
  },
  {
   "cell_type": "code",
   "execution_count": null,
   "metadata": {},
   "outputs": [],
   "source": []
  }
 ],
 "metadata": {
  "kernelspec": {
   "display_name": "tf",
   "language": "python",
   "name": "tf"
  },
  "language_info": {
   "codemirror_mode": {
    "name": "ipython",
    "version": 3
   },
   "file_extension": ".py",
   "mimetype": "text/x-python",
   "name": "python",
   "nbconvert_exporter": "python",
   "pygments_lexer": "ipython3",
   "version": "3.7.7"
  }
 },
 "nbformat": 4,
 "nbformat_minor": 4
}
