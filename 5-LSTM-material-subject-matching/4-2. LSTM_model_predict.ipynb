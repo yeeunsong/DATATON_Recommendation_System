{
 "cells": [
  {
   "cell_type": "code",
   "execution_count": 44,
   "metadata": {},
   "outputs": [],
   "source": [
    "import pandas as pd\n",
    "import re\n",
    "import pickle"
   ]
  },
  {
   "cell_type": "code",
   "execution_count": 14,
   "metadata": {},
   "outputs": [],
   "source": [
    "from konlpy.tag import Okt\n",
    "\n",
    "okt = Okt()"
   ]
  },
  {
   "cell_type": "markdown",
   "metadata": {},
   "source": [
    "### Read Stopwords"
   ]
  },
  {
   "cell_type": "code",
   "execution_count": 20,
   "metadata": {},
   "outputs": [
    {
     "data": {
      "text/plain": [
       "0          아\n",
       "1          휴\n",
       "2        아이구\n",
       "3        아이쿠\n",
       "4        아이고\n",
       "       ...  \n",
       "672       아홉\n",
       "673        령\n",
       "674       만큼\n",
       "675    만 못하다\n",
       "676        영\n",
       "Length: 677, dtype: object"
      ]
     },
     "execution_count": 20,
     "metadata": {},
     "output_type": "execute_result"
    }
   ],
   "source": [
    "stopwords = pd.read_pickle('stopwords.pkl')\n",
    "stopwords"
   ]
  },
  {
   "cell_type": "code",
   "execution_count": 104,
   "metadata": {},
   "outputs": [],
   "source": [
    "input_txt=\"‘국제경영 최고의 권위자 김익수 교수님과 함께 1996년 시작된  가장 오래된 경영학회’\\\n",
    "‘금융, 컨설팅 펌, 대기업 등 다양한 분야에서 종사하고 계신 400여명의 알럼나이’\\\n",
    "고려대학교 최고(最古)경영전략학회 SBC에서 43기 학회원을 모집합니다!\\\n",
    "SBC는 동아시아 지역전문가, 더 나아가 글로벌 리더를 목표로 합니다.\\\n",
    "국제 시장을 이해함에 있어서 중국 시장에 대한 이해는 필수입니다. 중국이란 거대한 시장은 다른 시장과 구별되는 이질성과 예측 불가능성을 가진 특수한 시장입니다. 알리바바, 텐센트 등 중국 거대기업은 단순히 중국 뿐 아니라 세계시장에서도 새로운 바람을 제시하고 있습니다. SBC는 동아시아 시장에 대한 면밀한 인식을 바탕으로 세계를 보는 글로벌리더 육성을 목표로 합니다.\""
   ]
  },
  {
   "cell_type": "markdown",
   "metadata": {},
   "source": [
    "### Data Cleansing"
   ]
  },
  {
   "cell_type": "code",
   "execution_count": 105,
   "metadata": {},
   "outputs": [
    {
     "data": {
      "text/plain": [
       "'국제경영 최고의 권위자 김익수 교수님과 함께 년 시작된 가장 오래된 경영학회금융 컨설팅 펌 대기업 등 다양한 분야에서 종사하고 계신 여명의 알럼나이고려대학교 최고 경영전략학회 SBC에서 기 학회원을 모집합니다!SBC는 동아시아 지역전문가 더 나아가 글로벌 리더를 목표로 합니다.국제 시장을 이해함에 있어서 중국 시장에 대한 이해는 필수입니다. 중국이란 거대한 시장은 다른 시장과 구별되는 이질성과 예측 불가능성을 가진 특수한 시장입니다. 알리바바 텐센트 등 중국 거대기업은 단순히 중국 뿐 아니라 세계시장에서도 새로운 바람을 제시하고 있습니다. SBC는 동아시아 시장에 대한 면밀한 인식을 바탕으로 세계를 보는 글로벌리더 육성을 목표로 합니다.'"
      ]
     },
     "execution_count": 105,
     "metadata": {},
     "output_type": "execute_result"
    }
   ],
   "source": [
    "def cleantxt(txt):\n",
    "    if not pd.isnull(txt):\n",
    "        txt = txt.replace('\\n',' ')\n",
    "        txt = txt.replace('\\r','')\n",
    "        txt = txt.replace('(',' ')\n",
    "        txt = txt.replace(')',' ')\n",
    "        p = re.compile(r'[A-Za-z가-힣?.!\\'\\ ]+')\n",
    "        txt = ''.join(re.findall(p,txt))\n",
    "        txt = re.sub(' +', ' ', txt).strip()\n",
    "    return txt\n",
    "input_txt = cleantxt(input_txt)\n",
    "input_txt"
   ]
  },
  {
   "cell_type": "markdown",
   "metadata": {},
   "source": [
    "### Tokenize"
   ]
  },
  {
   "cell_type": "code",
   "execution_count": 68,
   "metadata": {},
   "outputs": [],
   "source": [
    "X = []\n",
    "\n",
    "temp_X = []\n",
    "temp_X = okt.morphs(input_txt, stem=True) # 토큰화\n",
    "temp_X = [word for word in temp_X if not word in stopwords] # 불용어 제거\n",
    "X.append(temp_X)"
   ]
  },
  {
   "cell_type": "markdown",
   "metadata": {},
   "source": [
    "### Get Trained Tokenizer"
   ]
  },
  {
   "cell_type": "code",
   "execution_count": 74,
   "metadata": {},
   "outputs": [],
   "source": [
    "with open('tokenizer.pickle','rb') as f:\n",
    "    tokenizer = pickle.load(f)"
   ]
  },
  {
   "cell_type": "code",
   "execution_count": 75,
   "metadata": {},
   "outputs": [
    {
     "data": {
      "text/plain": [
       "<keras_preprocessing.text.Tokenizer at 0x25300b14a20>"
      ]
     },
     "execution_count": 75,
     "metadata": {},
     "output_type": "execute_result"
    }
   ],
   "source": [
    "tokenizer"
   ]
  },
  {
   "cell_type": "code",
   "execution_count": 77,
   "metadata": {},
   "outputs": [],
   "source": [
    "X  = tokenizer.texts_to_sequences(X)"
   ]
  },
  {
   "cell_type": "code",
   "execution_count": 78,
   "metadata": {},
   "outputs": [],
   "source": [
    "from keras.preprocessing.sequence import pad_sequences\n",
    "maxlen = 150\n",
    "\n",
    "X = pad_sequences(X, padding='post', maxlen=maxlen)"
   ]
  },
  {
   "cell_type": "markdown",
   "metadata": {},
   "source": [
    "### Predict Through trained model"
   ]
  },
  {
   "cell_type": "markdown",
   "metadata": {},
   "source": [
    "### Load Saved LSTM Model"
   ]
  },
  {
   "cell_type": "code",
   "execution_count": 29,
   "metadata": {},
   "outputs": [],
   "source": [
    "import tensorflow as tf\n",
    "new_model = tf.keras.models.load_model('./model/model_3')"
   ]
  },
  {
   "cell_type": "code",
   "execution_count": 79,
   "metadata": {},
   "outputs": [
    {
     "name": "stdout",
     "output_type": "stream",
     "text": [
      "Model: \"model_4\"\n",
      "_________________________________________________________________\n",
      "Layer (type)                 Output Shape              Param #   \n",
      "=================================================================\n",
      "input_4 (InputLayer)         [(None, 150)]             0         \n",
      "_________________________________________________________________\n",
      "embedding_4 (Embedding)      (None, 150, 100)          1204400   \n",
      "_________________________________________________________________\n",
      "lstm_4 (LSTM)                (None, 64)                42240     \n",
      "_________________________________________________________________\n",
      "dense_5 (Dense)              (None, 20)                1300      \n",
      "=================================================================\n",
      "Total params: 1,247,940\n",
      "Trainable params: 1,247,940\n",
      "Non-trainable params: 0\n",
      "_________________________________________________________________\n"
     ]
    }
   ],
   "source": [
    "new_model.summary()"
   ]
  },
  {
   "cell_type": "markdown",
   "metadata": {},
   "source": [
    "### Predict"
   ]
  },
  {
   "cell_type": "code",
   "execution_count": 81,
   "metadata": {},
   "outputs": [
    {
     "data": {
      "text/plain": [
       "array([[0.        , 0.        , 0.        , 0.20244864, 0.27783078,\n",
       "        0.6853198 , 0.22318052, 0.26533335, 0.95503205, 0.        ,\n",
       "        0.        , 0.09494039, 0.        , 0.        , 0.        ,\n",
       "        0.        , 0.        , 0.        , 0.08616064, 0.        ]],\n",
       "      dtype=float32)"
      ]
     },
     "execution_count": 81,
     "metadata": {},
     "output_type": "execute_result"
    }
   ],
   "source": [
    "pred = new_model.predict(X)\n",
    "pred"
   ]
  },
  {
   "cell_type": "code",
   "execution_count": 87,
   "metadata": {},
   "outputs": [],
   "source": [
    "result=dict()\n",
    "for p in pred:\n",
    "    for n, _ in enumerate(p):\n",
    "        result[n]=_"
   ]
  },
  {
   "cell_type": "code",
   "execution_count": 88,
   "metadata": {},
   "outputs": [
    {
     "data": {
      "text/plain": [
       "{0: 0.0,\n",
       " 1: 0.0,\n",
       " 2: 0.0,\n",
       " 3: 0.20244864,\n",
       " 4: 0.27783078,\n",
       " 5: 0.6853198,\n",
       " 6: 0.22318052,\n",
       " 7: 0.26533335,\n",
       " 8: 0.95503205,\n",
       " 9: 0.0,\n",
       " 10: 0.0,\n",
       " 11: 0.094940394,\n",
       " 12: 0.0,\n",
       " 13: 0.0,\n",
       " 14: 0.0,\n",
       " 15: 0.0,\n",
       " 16: 0.0,\n",
       " 17: 0.0,\n",
       " 18: 0.086160645,\n",
       " 19: 0.0}"
      ]
     },
     "execution_count": 88,
     "metadata": {},
     "output_type": "execute_result"
    }
   ],
   "source": [
    "result"
   ]
  },
  {
   "cell_type": "code",
   "execution_count": 95,
   "metadata": {},
   "outputs": [
    {
     "data": {
      "text/plain": [
       "[(8, 0.95503205), (5, 0.6853198), (4, 0.27783078), (7, 0.26533335)]"
      ]
     },
     "execution_count": 95,
     "metadata": {},
     "output_type": "execute_result"
    }
   ],
   "source": [
    "#상위4개\n",
    "gettopfour = sorted(result.items(), key = lambda x: x[1], reverse=True)[:4]\n",
    "gettopfour"
   ]
  },
  {
   "cell_type": "code",
   "execution_count": 96,
   "metadata": {},
   "outputs": [],
   "source": [
    "thres = []\n",
    "for a, b in gettopfour:\n",
    "    if b>0.5:\n",
    "        thres.append(a)"
   ]
  },
  {
   "cell_type": "markdown",
   "metadata": {},
   "source": [
    "### map with taget index"
   ]
  },
  {
   "cell_type": "code",
   "execution_count": 98,
   "metadata": {},
   "outputs": [],
   "source": [
    "tagindex = {'봉사': 0,\n",
    " '예술': 1,\n",
    " '사회': 2,\n",
    " 'IT': 3,\n",
    " '공모전': 4,\n",
    " '경영': 5,\n",
    " '과학': 6,\n",
    " '미술': 7,\n",
    " '대외활동': 8,\n",
    " '기타': 9,\n",
    " '운동': 10,\n",
    " '취업': 11,\n",
    " '동아리': 12,\n",
    " '언어': 13,\n",
    " '친목': 14,\n",
    " '종교': 15,\n",
    " '스터디': 16,\n",
    " '연합': 17,\n",
    " '학회': 18,\n",
    " '음악': 19}"
   ]
  },
  {
   "cell_type": "code",
   "execution_count": 102,
   "metadata": {},
   "outputs": [],
   "source": [
    "final = []\n",
    "for _ in thres:\n",
    "    final.append(list(tagindex.keys())[_])"
   ]
  },
  {
   "cell_type": "code",
   "execution_count": 103,
   "metadata": {},
   "outputs": [
    {
     "data": {
      "text/plain": [
       "['대외활동', '경영']"
      ]
     },
     "execution_count": 103,
     "metadata": {},
     "output_type": "execute_result"
    }
   ],
   "source": [
    "final"
   ]
  }
 ],
 "metadata": {
  "kernelspec": {
   "display_name": "Python 3",
   "language": "python",
   "name": "python3"
  },
  "language_info": {
   "codemirror_mode": {
    "name": "ipython",
    "version": 3
   },
   "file_extension": ".py",
   "mimetype": "text/x-python",
   "name": "python",
   "nbconvert_exporter": "python",
   "pygments_lexer": "ipython3",
   "version": "3.7.1"
  }
 },
 "nbformat": 4,
 "nbformat_minor": 2
}
