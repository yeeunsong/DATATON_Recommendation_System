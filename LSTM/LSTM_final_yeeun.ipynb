{
 "cells": [
  {
   "cell_type": "code",
   "execution_count": 1,
   "metadata": {},
   "outputs": [],
   "source": [
    "import pandas as pd"
   ]
  },
  {
   "cell_type": "markdown",
   "metadata": {},
   "source": [
    "## Load 5 CSV files"
   ]
  },
  {
   "cell_type": "code",
   "execution_count": 2,
   "metadata": {},
   "outputs": [],
   "source": [
    "# load 5 csv files for LSTM\n",
    "\n",
    "kuchive = pd.read_csv('kuchive.csv')\n",
    "contest = pd.read_csv('contest_tagfixed.csv')\n",
    "activity = pd.read_csv('activity_tagfixed.csv')\n",
    "jobs = pd.read_csv('jobs.csv')\n",
    "clubs = pd.read_csv('clubs_tagfixed.csv')"
   ]
  },
  {
   "cell_type": "code",
   "execution_count": 3,
   "metadata": {},
   "outputs": [],
   "source": [
    "## 추가할 기능??\n",
    "## Add TITLE and DESCRIPTION to a new column --> FULLTXT"
   ]
  },
  {
   "cell_type": "code",
   "execution_count": 4,
   "metadata": {},
   "outputs": [],
   "source": [
    "# leave only the description and tags\n",
    "\n",
    "kuchive = kuchive.iloc[:, [6, 7]]\n",
    "contest = contest.iloc[:, [7, 8]]\n",
    "activity = activity.iloc[:, [7, 8]]\n",
    "jobs = jobs.iloc[:, [3, 6]]\n",
    "clubs = clubs.iloc[:, [3, 4]]"
   ]
  },
  {
   "cell_type": "code",
   "execution_count": 5,
   "metadata": {},
   "outputs": [
    {
     "data": {
      "text/html": [
       "<div>\n",
       "<style scoped>\n",
       "    .dataframe tbody tr th:only-of-type {\n",
       "        vertical-align: middle;\n",
       "    }\n",
       "\n",
       "    .dataframe tbody tr th {\n",
       "        vertical-align: top;\n",
       "    }\n",
       "\n",
       "    .dataframe thead th {\n",
       "        text-align: right;\n",
       "    }\n",
       "</style>\n",
       "<table border=\"1\" class=\"dataframe\">\n",
       "  <thead>\n",
       "    <tr style=\"text-align: right;\">\n",
       "      <th></th>\n",
       "      <th>description</th>\n",
       "      <th>tags</th>\n",
       "    </tr>\n",
       "  </thead>\n",
       "  <tbody>\n",
       "    <tr>\n",
       "      <th>0</th>\n",
       "      <td>장애학생지원센터 서포터즈 모해 10기</td>\n",
       "      <td>['봉사']</td>\n",
       "    </tr>\n",
       "    <tr>\n",
       "      <th>1</th>\n",
       "      <td>장애학생지원센터에서는 다음과 같이 2020학년도 1학기 장애학생 도우미를 모집합니다...</td>\n",
       "      <td>['봉사']</td>\n",
       "    </tr>\n",
       "    <tr>\n",
       "      <th>2</th>\n",
       "      <td>고대인들을 다학제적융합인재로 성장시키기위한 인문학 교육 특강- 강연 제목 : 당신이...</td>\n",
       "      <td>['예술','사회']</td>\n",
       "    </tr>\n",
       "    <tr>\n",
       "      <th>3</th>\n",
       "      <td>고대인들을 다학제적융합인재로 성장시키기위한 인문학 교육 특강- 강연 제목 : 미국의...</td>\n",
       "      <td>['예술','IT']</td>\n",
       "    </tr>\n",
       "    <tr>\n",
       "      <th>4</th>\n",
       "      <td>고대인들을 다학제적융합인재로 성장시키기위한 인문학 교육 특강- 강연 제목 : 영화를...</td>\n",
       "      <td>['예술']</td>\n",
       "    </tr>\n",
       "  </tbody>\n",
       "</table>\n",
       "</div>"
      ],
      "text/plain": [
       "                                         description         tags\n",
       "0                               장애학생지원센터 서포터즈 모해 10기       ['봉사']\n",
       "1  장애학생지원센터에서는 다음과 같이 2020학년도 1학기 장애학생 도우미를 모집합니다...       ['봉사']\n",
       "2  고대인들을 다학제적융합인재로 성장시키기위한 인문학 교육 특강- 강연 제목 : 당신이...  ['예술','사회']\n",
       "3  고대인들을 다학제적융합인재로 성장시키기위한 인문학 교육 특강- 강연 제목 : 미국의...  ['예술','IT']\n",
       "4  고대인들을 다학제적융합인재로 성장시키기위한 인문학 교육 특강- 강연 제목 : 영화를...       ['예술']"
      ]
     },
     "execution_count": 5,
     "metadata": {},
     "output_type": "execute_result"
    }
   ],
   "source": [
    "kuchive.head()\n",
    "# kuchive.info()"
   ]
  },
  {
   "cell_type": "code",
   "execution_count": 6,
   "metadata": {},
   "outputs": [
    {
     "data": {
      "text/html": [
       "<div>\n",
       "<style scoped>\n",
       "    .dataframe tbody tr th:only-of-type {\n",
       "        vertical-align: middle;\n",
       "    }\n",
       "\n",
       "    .dataframe tbody tr th {\n",
       "        vertical-align: top;\n",
       "    }\n",
       "\n",
       "    .dataframe thead th {\n",
       "        text-align: right;\n",
       "    }\n",
       "</style>\n",
       "<table border=\"1\" class=\"dataframe\">\n",
       "  <thead>\n",
       "    <tr style=\"text-align: right;\">\n",
       "      <th></th>\n",
       "      <th>description</th>\n",
       "      <th>tags</th>\n",
       "    </tr>\n",
       "  </thead>\n",
       "  <tbody>\n",
       "    <tr>\n",
       "      <th>0</th>\n",
       "      <td>2020년 한국야쿠르트 마케팅 공모전   ■ 공모주제 · 언택트 시대에 걸맞은 차별...</td>\n",
       "      <td>['공모전', '경영']</td>\n",
       "    </tr>\n",
       "    <tr>\n",
       "      <th>1</th>\n",
       "      <td>제1회 도전.한국 대국민 아이디어 공모전▷  지원자격 : 관심 있는 국민‧기업‧단체...</td>\n",
       "      <td>['공모전', '봉사']</td>\n",
       "    </tr>\n",
       "    <tr>\n",
       "      <th>2</th>\n",
       "      <td>2020년 K-water 대국민 환경 빅데이터 공모전▷ 담당자 전화번호 :042-6...</td>\n",
       "      <td>['공모전', 'IT', '과학']</td>\n",
       "    </tr>\n",
       "    <tr>\n",
       "      <th>3</th>\n",
       "      <td>[기획재정부] 국민참여예산 대학생 공모전 (~8/31)■ 신청기간2020년 6월 2...</td>\n",
       "      <td>['공모전', '사회']</td>\n",
       "    </tr>\n",
       "    <tr>\n",
       "      <th>4</th>\n",
       "      <td>2020 제26회 문학동네 소설상 공모▷ 응모마감 : 2020년 8월 30일 (마감...</td>\n",
       "      <td>['공모전']</td>\n",
       "    </tr>\n",
       "  </tbody>\n",
       "</table>\n",
       "</div>"
      ],
      "text/plain": [
       "                                         description                 tags\n",
       "0  2020년 한국야쿠르트 마케팅 공모전   ■ 공모주제 · 언택트 시대에 걸맞은 차별...        ['공모전', '경영']\n",
       "1  제1회 도전.한국 대국민 아이디어 공모전▷  지원자격 : 관심 있는 국민‧기업‧단체...        ['공모전', '봉사']\n",
       "2  2020년 K-water 대국민 환경 빅데이터 공모전▷ 담당자 전화번호 :042-6...  ['공모전', 'IT', '과학']\n",
       "3  [기획재정부] 국민참여예산 대학생 공모전 (~8/31)■ 신청기간2020년 6월 2...        ['공모전', '사회']\n",
       "4  2020 제26회 문학동네 소설상 공모▷ 응모마감 : 2020년 8월 30일 (마감...              ['공모전']"
      ]
     },
     "execution_count": 6,
     "metadata": {},
     "output_type": "execute_result"
    }
   ],
   "source": [
    "contest.head()\n",
    "# contest.info()"
   ]
  },
  {
   "cell_type": "code",
   "execution_count": 7,
   "metadata": {},
   "outputs": [
    {
     "data": {
      "text/html": [
       "<div>\n",
       "<style scoped>\n",
       "    .dataframe tbody tr th:only-of-type {\n",
       "        vertical-align: middle;\n",
       "    }\n",
       "\n",
       "    .dataframe tbody tr th {\n",
       "        vertical-align: top;\n",
       "    }\n",
       "\n",
       "    .dataframe thead th {\n",
       "        text-align: right;\n",
       "    }\n",
       "</style>\n",
       "<table border=\"1\" class=\"dataframe\">\n",
       "  <thead>\n",
       "    <tr style=\"text-align: right;\">\n",
       "      <th></th>\n",
       "      <th>description</th>\n",
       "      <th>tags</th>\n",
       "    </tr>\n",
       "  </thead>\n",
       "  <tbody>\n",
       "    <tr>\n",
       "      <th>0</th>\n",
       "      <td>[코로나 관련 안내]- 아름다운가게는 안전한 자원활동 현장 지침을 적용 중이며 수시...</td>\n",
       "      <td>['대외활동', '경영', '봉사']</td>\n",
       "    </tr>\n",
       "    <tr>\n",
       "      <th>1</th>\n",
       "      <td>★ 모집내용지원자격 : 대학교 재학 또는 휴학생 (블로그 및 SNS 활용자) (4학...</td>\n",
       "      <td>['대외활동', '기타']</td>\n",
       "    </tr>\n",
       "    <tr>\n",
       "      <th>2</th>\n",
       "      <td>***전세게적 코로나 팬더믹으로 인해 2020년 모든 일정이 2021년 03월이후로...</td>\n",
       "      <td>['대외활동', '사회', '봉사']</td>\n",
       "    </tr>\n",
       "    <tr>\n",
       "      <th>3</th>\n",
       "      <td>고용노동부주관 기관평가 5년 인증 최우수 기관!국내 최고의 SW 전문인력 양성기관멀...</td>\n",
       "      <td>['대외활동', 'IT']</td>\n",
       "    </tr>\n",
       "    <tr>\n",
       "      <th>4</th>\n",
       "      <td>2020 중앙자살예방센터 자살유발정보 모니터링단 지켜줌인(人) 모집▷ 모집 기간  ...</td>\n",
       "      <td>['대외활동', '봉사']</td>\n",
       "    </tr>\n",
       "  </tbody>\n",
       "</table>\n",
       "</div>"
      ],
      "text/plain": [
       "                                         description                  tags\n",
       "0  [코로나 관련 안내]- 아름다운가게는 안전한 자원활동 현장 지침을 적용 중이며 수시...  ['대외활동', '경영', '봉사']\n",
       "1  ★ 모집내용지원자격 : 대학교 재학 또는 휴학생 (블로그 및 SNS 활용자) (4학...        ['대외활동', '기타']\n",
       "2  ***전세게적 코로나 팬더믹으로 인해 2020년 모든 일정이 2021년 03월이후로...  ['대외활동', '사회', '봉사']\n",
       "3  고용노동부주관 기관평가 5년 인증 최우수 기관!국내 최고의 SW 전문인력 양성기관멀...        ['대외활동', 'IT']\n",
       "4  2020 중앙자살예방센터 자살유발정보 모니터링단 지켜줌인(人) 모집▷ 모집 기간  ...        ['대외활동', '봉사']"
      ]
     },
     "execution_count": 7,
     "metadata": {},
     "output_type": "execute_result"
    }
   ],
   "source": [
    "activity.head()\n",
    "# activity.info()"
   ]
  },
  {
   "cell_type": "code",
   "execution_count": 8,
   "metadata": {},
   "outputs": [
    {
     "data": {
      "text/html": [
       "<div>\n",
       "<style scoped>\n",
       "    .dataframe tbody tr th:only-of-type {\n",
       "        vertical-align: middle;\n",
       "    }\n",
       "\n",
       "    .dataframe tbody tr th {\n",
       "        vertical-align: top;\n",
       "    }\n",
       "\n",
       "    .dataframe thead th {\n",
       "        text-align: right;\n",
       "    }\n",
       "</style>\n",
       "<table border=\"1\" class=\"dataframe\">\n",
       "  <thead>\n",
       "    <tr style=\"text-align: right;\">\n",
       "      <th></th>\n",
       "      <th>description</th>\n",
       "      <th>tags</th>\n",
       "    </tr>\n",
       "  </thead>\n",
       "  <tbody>\n",
       "    <tr>\n",
       "      <th>0</th>\n",
       "      <td>\\n코로나19로 중단된 상시 자기소개서첨삭 서비스를 한시적으로 온라인으로 진행하고자...</td>\n",
       "      <td>취업</td>\n",
       "    </tr>\n",
       "    <tr>\n",
       "      <th>1</th>\n",
       "      <td>\\n코로나19로 중단된 상시 자기소개서첨삭 서비스를 한시적으로 온라인으로 진행하고자...</td>\n",
       "      <td>취업</td>\n",
       "    </tr>\n",
       "    <tr>\n",
       "      <th>2</th>\n",
       "      <td>\\n코로나19로 중단된 일대일커리어상담서비스를 한시적으로 온라인으로 진행하고자 합니...</td>\n",
       "      <td>취업</td>\n",
       "    </tr>\n",
       "    <tr>\n",
       "      <th>3</th>\n",
       "      <td>\\n본 페이지는 '2020년 상반기 기업면접리뷰 워크숍' 신청페이지입니다.\\n\\n1...</td>\n",
       "      <td>취업</td>\n",
       "    </tr>\n",
       "    <tr>\n",
       "      <th>4</th>\n",
       "      <td>\\n'2020년 상반기 취업수기 공모'를 안내드립니다.\\n\\n※ 신청절차(단계별 상...</td>\n",
       "      <td>취업</td>\n",
       "    </tr>\n",
       "  </tbody>\n",
       "</table>\n",
       "</div>"
      ],
      "text/plain": [
       "                                         description tags\n",
       "0  \\n코로나19로 중단된 상시 자기소개서첨삭 서비스를 한시적으로 온라인으로 진행하고자...   취업\n",
       "1  \\n코로나19로 중단된 상시 자기소개서첨삭 서비스를 한시적으로 온라인으로 진행하고자...   취업\n",
       "2  \\n코로나19로 중단된 일대일커리어상담서비스를 한시적으로 온라인으로 진행하고자 합니...   취업\n",
       "3  \\n본 페이지는 '2020년 상반기 기업면접리뷰 워크숍' 신청페이지입니다.\\n\\n1...   취업\n",
       "4  \\n'2020년 상반기 취업수기 공모'를 안내드립니다.\\n\\n※ 신청절차(단계별 상...   취업"
      ]
     },
     "execution_count": 8,
     "metadata": {},
     "output_type": "execute_result"
    }
   ],
   "source": [
    "jobs.head()\n",
    "# jobs.info()"
   ]
  },
  {
   "cell_type": "code",
   "execution_count": 9,
   "metadata": {},
   "outputs": [
    {
     "data": {
      "text/html": [
       "<div>\n",
       "<style scoped>\n",
       "    .dataframe tbody tr th:only-of-type {\n",
       "        vertical-align: middle;\n",
       "    }\n",
       "\n",
       "    .dataframe tbody tr th {\n",
       "        vertical-align: top;\n",
       "    }\n",
       "\n",
       "    .dataframe thead th {\n",
       "        text-align: right;\n",
       "    }\n",
       "</style>\n",
       "<table border=\"1\" class=\"dataframe\">\n",
       "  <thead>\n",
       "    <tr style=\"text-align: right;\">\n",
       "      <th></th>\n",
       "      <th>description</th>\n",
       "      <th>tags</th>\n",
       "    </tr>\n",
       "  </thead>\n",
       "  <tbody>\n",
       "    <tr>\n",
       "      <th>0</th>\n",
       "      <td>\\n코로나19로 중단된 상시 자기소개서첨삭 서비스를 한시적으로 온라인으로 진행하고자...</td>\n",
       "      <td>['취업']</td>\n",
       "    </tr>\n",
       "    <tr>\n",
       "      <th>1</th>\n",
       "      <td>\\n코로나19로 중단된 상시 자기소개서첨삭 서비스를 한시적으로 온라인으로 진행하고자...</td>\n",
       "      <td>['취업']</td>\n",
       "    </tr>\n",
       "    <tr>\n",
       "      <th>2</th>\n",
       "      <td>\\n코로나19로 중단된 일대일커리어상담서비스를 한시적으로 온라인으로 진행하고자 합니...</td>\n",
       "      <td>['취업']</td>\n",
       "    </tr>\n",
       "    <tr>\n",
       "      <th>3</th>\n",
       "      <td>\\n본 페이지는 '2020년 상반기 기업면접리뷰 워크숍' 신청페이지입니다.\\n\\n1...</td>\n",
       "      <td>['취업']</td>\n",
       "    </tr>\n",
       "    <tr>\n",
       "      <th>4</th>\n",
       "      <td>\\n'2020년 상반기 취업수기 공모'를 안내드립니다.\\n\\n※ 신청절차(단계별 상...</td>\n",
       "      <td>['취업']</td>\n",
       "    </tr>\n",
       "  </tbody>\n",
       "</table>\n",
       "</div>"
      ],
      "text/plain": [
       "                                         description    tags\n",
       "0  \\n코로나19로 중단된 상시 자기소개서첨삭 서비스를 한시적으로 온라인으로 진행하고자...  ['취업']\n",
       "1  \\n코로나19로 중단된 상시 자기소개서첨삭 서비스를 한시적으로 온라인으로 진행하고자...  ['취업']\n",
       "2  \\n코로나19로 중단된 일대일커리어상담서비스를 한시적으로 온라인으로 진행하고자 합니...  ['취업']\n",
       "3  \\n본 페이지는 '2020년 상반기 기업면접리뷰 워크숍' 신청페이지입니다.\\n\\n1...  ['취업']\n",
       "4  \\n'2020년 상반기 취업수기 공모'를 안내드립니다.\\n\\n※ 신청절차(단계별 상...  ['취업']"
      ]
     },
     "execution_count": 9,
     "metadata": {},
     "output_type": "execute_result"
    }
   ],
   "source": [
    "# jobs의 tag 수정하기\n",
    "def make_to_list(x):\n",
    "    x = '['+'\\''+x+'\\''+']'\n",
    "    return x\n",
    "\n",
    "jobs.tags = jobs.tags.apply(lambda x: make_to_list(x) )\n",
    "jobs.head()"
   ]
  },
  {
   "cell_type": "code",
   "execution_count": 10,
   "metadata": {},
   "outputs": [
    {
     "data": {
      "text/html": [
       "<div>\n",
       "<style scoped>\n",
       "    .dataframe tbody tr th:only-of-type {\n",
       "        vertical-align: middle;\n",
       "    }\n",
       "\n",
       "    .dataframe tbody tr th {\n",
       "        vertical-align: top;\n",
       "    }\n",
       "\n",
       "    .dataframe thead th {\n",
       "        text-align: right;\n",
       "    }\n",
       "</style>\n",
       "<table border=\"1\" class=\"dataframe\">\n",
       "  <thead>\n",
       "    <tr style=\"text-align: right;\">\n",
       "      <th></th>\n",
       "      <th>cleantxt</th>\n",
       "      <th>tags</th>\n",
       "    </tr>\n",
       "  </thead>\n",
       "  <tbody>\n",
       "    <tr>\n",
       "      <th>0</th>\n",
       "      <td>안녕하세요 한일문화연구회에서 함께할 동아리원을 모집합니다  일본문화에 관심이 있으신...</td>\n",
       "      <td>['한일문화연구회', '동아리', '언어', '사회']</td>\n",
       "    </tr>\n",
       "    <tr>\n",
       "      <th>1</th>\n",
       "      <td>2020학년도 2학기 KUISA 14기 벗 모집이 하루 남았습니다!!!!!! 202...</td>\n",
       "      <td>['KUISA', '언어', '친목']</td>\n",
       "    </tr>\n",
       "    <tr>\n",
       "      <th>2</th>\n",
       "      <td>1분 명상법!  안녕하세요! 원불교 학생회입니다.  이번에는 명상을 어떻게 하는 지...</td>\n",
       "      <td>['원불교', '동아리', '종교']</td>\n",
       "    </tr>\n",
       "    <tr>\n",
       "      <th>3</th>\n",
       "      <td>연합발표토론동아리 POP 22기 모집합니다 ! 22기 P.O.P 단원 모집!   스...</td>\n",
       "      <td>['POP', '동아리', '언어', '스터디', '연합']</td>\n",
       "    </tr>\n",
       "    <tr>\n",
       "      <th>4</th>\n",
       "      <td>D2!!!! 쿠이사 20202 벗 모집 2020년도 2학기 KUISA 14기 벗 모...</td>\n",
       "      <td>['KUISA', '언어', '친목']</td>\n",
       "    </tr>\n",
       "  </tbody>\n",
       "</table>\n",
       "</div>"
      ],
      "text/plain": [
       "                                            cleantxt  \\\n",
       "0  안녕하세요 한일문화연구회에서 함께할 동아리원을 모집합니다  일본문화에 관심이 있으신...   \n",
       "1  2020학년도 2학기 KUISA 14기 벗 모집이 하루 남았습니다!!!!!! 202...   \n",
       "2  1분 명상법!  안녕하세요! 원불교 학생회입니다.  이번에는 명상을 어떻게 하는 지...   \n",
       "3  연합발표토론동아리 POP 22기 모집합니다 ! 22기 P.O.P 단원 모집!   스...   \n",
       "4  D2!!!! 쿠이사 20202 벗 모집 2020년도 2학기 KUISA 14기 벗 모...   \n",
       "\n",
       "                                tags  \n",
       "0     ['한일문화연구회', '동아리', '언어', '사회']  \n",
       "1              ['KUISA', '언어', '친목']  \n",
       "2               ['원불교', '동아리', '종교']  \n",
       "3  ['POP', '동아리', '언어', '스터디', '연합']  \n",
       "4              ['KUISA', '언어', '친목']  "
      ]
     },
     "execution_count": 10,
     "metadata": {},
     "output_type": "execute_result"
    }
   ],
   "source": [
    "clubs.head()\n",
    "# clubs.info()"
   ]
  },
  {
   "cell_type": "code",
   "execution_count": 11,
   "metadata": {},
   "outputs": [
    {
     "data": {
      "text/html": [
       "<div>\n",
       "<style scoped>\n",
       "    .dataframe tbody tr th:only-of-type {\n",
       "        vertical-align: middle;\n",
       "    }\n",
       "\n",
       "    .dataframe tbody tr th {\n",
       "        vertical-align: top;\n",
       "    }\n",
       "\n",
       "    .dataframe thead th {\n",
       "        text-align: right;\n",
       "    }\n",
       "</style>\n",
       "<table border=\"1\" class=\"dataframe\">\n",
       "  <thead>\n",
       "    <tr style=\"text-align: right;\">\n",
       "      <th></th>\n",
       "      <th>description</th>\n",
       "      <th>tags</th>\n",
       "    </tr>\n",
       "  </thead>\n",
       "  <tbody>\n",
       "    <tr>\n",
       "      <th>0</th>\n",
       "      <td>안녕하세요 한일문화연구회에서 함께할 동아리원을 모집합니다  일본문화에 관심이 있으신...</td>\n",
       "      <td>['한일문화연구회', '동아리', '언어', '사회']</td>\n",
       "    </tr>\n",
       "    <tr>\n",
       "      <th>1</th>\n",
       "      <td>2020학년도 2학기 KUISA 14기 벗 모집이 하루 남았습니다!!!!!! 202...</td>\n",
       "      <td>['KUISA', '언어', '친목']</td>\n",
       "    </tr>\n",
       "    <tr>\n",
       "      <th>2</th>\n",
       "      <td>1분 명상법!  안녕하세요! 원불교 학생회입니다.  이번에는 명상을 어떻게 하는 지...</td>\n",
       "      <td>['원불교', '동아리', '종교']</td>\n",
       "    </tr>\n",
       "    <tr>\n",
       "      <th>3</th>\n",
       "      <td>연합발표토론동아리 POP 22기 모집합니다 ! 22기 P.O.P 단원 모집!   스...</td>\n",
       "      <td>['POP', '동아리', '언어', '스터디', '연합']</td>\n",
       "    </tr>\n",
       "    <tr>\n",
       "      <th>4</th>\n",
       "      <td>D2!!!! 쿠이사 20202 벗 모집 2020년도 2학기 KUISA 14기 벗 모...</td>\n",
       "      <td>['KUISA', '언어', '친목']</td>\n",
       "    </tr>\n",
       "  </tbody>\n",
       "</table>\n",
       "</div>"
      ],
      "text/plain": [
       "                                         description  \\\n",
       "0  안녕하세요 한일문화연구회에서 함께할 동아리원을 모집합니다  일본문화에 관심이 있으신...   \n",
       "1  2020학년도 2학기 KUISA 14기 벗 모집이 하루 남았습니다!!!!!! 202...   \n",
       "2  1분 명상법!  안녕하세요! 원불교 학생회입니다.  이번에는 명상을 어떻게 하는 지...   \n",
       "3  연합발표토론동아리 POP 22기 모집합니다 ! 22기 P.O.P 단원 모집!   스...   \n",
       "4  D2!!!! 쿠이사 20202 벗 모집 2020년도 2학기 KUISA 14기 벗 모...   \n",
       "\n",
       "                                tags  \n",
       "0     ['한일문화연구회', '동아리', '언어', '사회']  \n",
       "1              ['KUISA', '언어', '친목']  \n",
       "2               ['원불교', '동아리', '종교']  \n",
       "3  ['POP', '동아리', '언어', '스터디', '연합']  \n",
       "4              ['KUISA', '언어', '친목']  "
      ]
     },
     "execution_count": 11,
     "metadata": {},
     "output_type": "execute_result"
    }
   ],
   "source": [
    "# rename column name of clubs dataframe: cleantxt to description\n",
    "\n",
    "clubs.rename(columns = {'cleantxt': 'description'}, inplace = True)\n",
    "clubs.tags = clubs.tags.apply(lambda x: x.replace(', \\'\\'',''))\n",
    "clubs.head()"
   ]
  },
  {
   "cell_type": "code",
   "execution_count": 12,
   "metadata": {},
   "outputs": [],
   "source": [
    "# clubs의 first tag delete\n",
    "# 학회/동아리명 삭제\n",
    "# tags를 list 형식으로 변형\n",
    "import ast\n",
    "\n",
    "\n",
    "def tostring(x):\n",
    "    return ast.literal_eval(x)\n",
    "\n",
    "kuchive.tags = kuchive.tags.apply(lambda x: tostring(x))\n",
    "contest.tags = contest.tags.apply(lambda x: tostring(x))\n",
    "activity.tags = activity.tags.apply(lambda x: tostring(x))\n",
    "jobs.tags = jobs.tags.apply(lambda x: tostring(x))\n",
    "clubs.tags = clubs.tags.apply(lambda x: tostring(x)[1:])"
   ]
  },
  {
   "cell_type": "code",
   "execution_count": 13,
   "metadata": {},
   "outputs": [
    {
     "data": {
      "text/html": [
       "<div>\n",
       "<style scoped>\n",
       "    .dataframe tbody tr th:only-of-type {\n",
       "        vertical-align: middle;\n",
       "    }\n",
       "\n",
       "    .dataframe tbody tr th {\n",
       "        vertical-align: top;\n",
       "    }\n",
       "\n",
       "    .dataframe thead th {\n",
       "        text-align: right;\n",
       "    }\n",
       "</style>\n",
       "<table border=\"1\" class=\"dataframe\">\n",
       "  <thead>\n",
       "    <tr style=\"text-align: right;\">\n",
       "      <th></th>\n",
       "      <th>description</th>\n",
       "      <th>tags</th>\n",
       "    </tr>\n",
       "  </thead>\n",
       "  <tbody>\n",
       "    <tr>\n",
       "      <th>0</th>\n",
       "      <td>안녕하세요 한일문화연구회에서 함께할 동아리원을 모집합니다  일본문화에 관심이 있으신...</td>\n",
       "      <td>[동아리, 언어, 사회]</td>\n",
       "    </tr>\n",
       "    <tr>\n",
       "      <th>1</th>\n",
       "      <td>2020학년도 2학기 KUISA 14기 벗 모집이 하루 남았습니다!!!!!! 202...</td>\n",
       "      <td>[언어, 친목]</td>\n",
       "    </tr>\n",
       "    <tr>\n",
       "      <th>2</th>\n",
       "      <td>1분 명상법!  안녕하세요! 원불교 학생회입니다.  이번에는 명상을 어떻게 하는 지...</td>\n",
       "      <td>[동아리, 종교]</td>\n",
       "    </tr>\n",
       "    <tr>\n",
       "      <th>3</th>\n",
       "      <td>연합발표토론동아리 POP 22기 모집합니다 ! 22기 P.O.P 단원 모집!   스...</td>\n",
       "      <td>[동아리, 언어, 스터디, 연합]</td>\n",
       "    </tr>\n",
       "    <tr>\n",
       "      <th>4</th>\n",
       "      <td>D2!!!! 쿠이사 20202 벗 모집 2020년도 2학기 KUISA 14기 벗 모...</td>\n",
       "      <td>[언어, 친목]</td>\n",
       "    </tr>\n",
       "  </tbody>\n",
       "</table>\n",
       "</div>"
      ],
      "text/plain": [
       "                                         description                tags\n",
       "0  안녕하세요 한일문화연구회에서 함께할 동아리원을 모집합니다  일본문화에 관심이 있으신...       [동아리, 언어, 사회]\n",
       "1  2020학년도 2학기 KUISA 14기 벗 모집이 하루 남았습니다!!!!!! 202...            [언어, 친목]\n",
       "2  1분 명상법!  안녕하세요! 원불교 학생회입니다.  이번에는 명상을 어떻게 하는 지...           [동아리, 종교]\n",
       "3  연합발표토론동아리 POP 22기 모집합니다 ! 22기 P.O.P 단원 모집!   스...  [동아리, 언어, 스터디, 연합]\n",
       "4  D2!!!! 쿠이사 20202 벗 모집 2020년도 2학기 KUISA 14기 벗 모...            [언어, 친목]"
      ]
     },
     "execution_count": 13,
     "metadata": {},
     "output_type": "execute_result"
    }
   ],
   "source": [
    "clubs.head()"
   ]
  },
  {
   "cell_type": "markdown",
   "metadata": {},
   "source": [
    "## Concat all Dataframes together"
   ]
  },
  {
   "cell_type": "code",
   "execution_count": 14,
   "metadata": {},
   "outputs": [
    {
     "name": "stdout",
     "output_type": "stream",
     "text": [
      "<class 'pandas.core.frame.DataFrame'>\n",
      "Int64Index: 1012 entries, 0 to 576\n",
      "Data columns (total 2 columns):\n",
      " #   Column       Non-Null Count  Dtype \n",
      "---  ------       --------------  ----- \n",
      " 0   description  1005 non-null   object\n",
      " 1   tags         1012 non-null   object\n",
      "dtypes: object(2)\n",
      "memory usage: 23.7+ KB\n"
     ]
    }
   ],
   "source": [
    "df_all = pd.concat([kuchive, contest, activity, jobs, clubs])\n",
    "df_all.info()"
   ]
  },
  {
   "cell_type": "code",
   "execution_count": 15,
   "metadata": {},
   "outputs": [],
   "source": [
    "df_all = df_all.reset_index(drop=True)"
   ]
  },
  {
   "cell_type": "code",
   "execution_count": 16,
   "metadata": {},
   "outputs": [
    {
     "data": {
      "text/html": [
       "<div>\n",
       "<style scoped>\n",
       "    .dataframe tbody tr th:only-of-type {\n",
       "        vertical-align: middle;\n",
       "    }\n",
       "\n",
       "    .dataframe tbody tr th {\n",
       "        vertical-align: top;\n",
       "    }\n",
       "\n",
       "    .dataframe thead th {\n",
       "        text-align: right;\n",
       "    }\n",
       "</style>\n",
       "<table border=\"1\" class=\"dataframe\">\n",
       "  <thead>\n",
       "    <tr style=\"text-align: right;\">\n",
       "      <th></th>\n",
       "      <th>description</th>\n",
       "      <th>tags</th>\n",
       "    </tr>\n",
       "  </thead>\n",
       "  <tbody>\n",
       "    <tr>\n",
       "      <th>1007</th>\n",
       "      <td>고려대 유일 사격동아리 '명중사격부' 신입부원 모집 너의 마음을 명중 넌 이미 신청...</td>\n",
       "      <td>[운동, 동아리]</td>\n",
       "    </tr>\n",
       "    <tr>\n",
       "      <th>1008</th>\n",
       "      <td>중앙동아리 예술비평연구회에서 신입회원을 모집합니다!   2020년 1학기는 세미나...</td>\n",
       "      <td>[예술, 음악]</td>\n",
       "    </tr>\n",
       "    <tr>\n",
       "      <th>1009</th>\n",
       "      <td>오늘 8시 마감고려대학교 유일의 브랜드 컨설팅 학회 CREAKET에서 14기를 모집...</td>\n",
       "      <td>[사회, 학회]</td>\n",
       "    </tr>\n",
       "    <tr>\n",
       "      <th>1010</th>\n",
       "      <td>D1 Partyproviders 27th 2차 리크루팅 3.22 많은 문의와 요청에...</td>\n",
       "      <td>[동아리, 예술]</td>\n",
       "    </tr>\n",
       "    <tr>\n",
       "      <th>1011</th>\n",
       "      <td>KUHS 고려대학교 호스피스 봉사동아리 (KUHS)에서 신입부원을 모집합니다! (일...</td>\n",
       "      <td>[봉사, 동아리]</td>\n",
       "    </tr>\n",
       "  </tbody>\n",
       "</table>\n",
       "</div>"
      ],
      "text/plain": [
       "                                            description       tags\n",
       "1007  고려대 유일 사격동아리 '명중사격부' 신입부원 모집 너의 마음을 명중 넌 이미 신청...  [운동, 동아리]\n",
       "1008   중앙동아리 예술비평연구회에서 신입회원을 모집합니다!   2020년 1학기는 세미나...   [예술, 음악]\n",
       "1009  오늘 8시 마감고려대학교 유일의 브랜드 컨설팅 학회 CREAKET에서 14기를 모집...   [사회, 학회]\n",
       "1010  D1 Partyproviders 27th 2차 리크루팅 3.22 많은 문의와 요청에...  [동아리, 예술]\n",
       "1011  KUHS 고려대학교 호스피스 봉사동아리 (KUHS)에서 신입부원을 모집합니다! (일...  [봉사, 동아리]"
      ]
     },
     "execution_count": 16,
     "metadata": {},
     "output_type": "execute_result"
    }
   ],
   "source": [
    "df_all.tail()"
   ]
  },
  {
   "cell_type": "markdown",
   "metadata": {},
   "source": [
    "## DATA Preprocessing"
   ]
  },
  {
   "cell_type": "code",
   "execution_count": 17,
   "metadata": {},
   "outputs": [],
   "source": [
    "# save the data just in case if needed\n",
    "\n",
    "df_all.to_csv(\"lstm_data.csv\", index=False)"
   ]
  },
  {
   "cell_type": "code",
   "execution_count": 18,
   "metadata": {
    "scrolled": true
   },
   "outputs": [
    {
     "data": {
      "text/html": [
       "<div>\n",
       "<style scoped>\n",
       "    .dataframe tbody tr th:only-of-type {\n",
       "        vertical-align: middle;\n",
       "    }\n",
       "\n",
       "    .dataframe tbody tr th {\n",
       "        vertical-align: top;\n",
       "    }\n",
       "\n",
       "    .dataframe thead th {\n",
       "        text-align: right;\n",
       "    }\n",
       "</style>\n",
       "<table border=\"1\" class=\"dataframe\">\n",
       "  <thead>\n",
       "    <tr style=\"text-align: right;\">\n",
       "      <th></th>\n",
       "      <th>description</th>\n",
       "      <th>tags</th>\n",
       "    </tr>\n",
       "  </thead>\n",
       "  <tbody>\n",
       "    <tr>\n",
       "      <th>1007</th>\n",
       "      <td>고려대 유일 사격동아리 '명중사격부' 신입부원 모집 너의 마음을 명중 넌 이미 신청...</td>\n",
       "      <td>[운동, 동아리]</td>\n",
       "    </tr>\n",
       "    <tr>\n",
       "      <th>1008</th>\n",
       "      <td>중앙동아리 예술비평연구회에서 신입회원을 모집합니다!   2020년 1학기는 세미나...</td>\n",
       "      <td>[예술, 음악]</td>\n",
       "    </tr>\n",
       "    <tr>\n",
       "      <th>1009</th>\n",
       "      <td>오늘 8시 마감고려대학교 유일의 브랜드 컨설팅 학회 CREAKET에서 14기를 모집...</td>\n",
       "      <td>[사회, 학회]</td>\n",
       "    </tr>\n",
       "    <tr>\n",
       "      <th>1010</th>\n",
       "      <td>D1 Partyproviders 27th 2차 리크루팅 3.22 많은 문의와 요청에...</td>\n",
       "      <td>[동아리, 예술]</td>\n",
       "    </tr>\n",
       "    <tr>\n",
       "      <th>1011</th>\n",
       "      <td>KUHS 고려대학교 호스피스 봉사동아리 (KUHS)에서 신입부원을 모집합니다! (일...</td>\n",
       "      <td>[봉사, 동아리]</td>\n",
       "    </tr>\n",
       "  </tbody>\n",
       "</table>\n",
       "</div>"
      ],
      "text/plain": [
       "                                            description       tags\n",
       "1007  고려대 유일 사격동아리 '명중사격부' 신입부원 모집 너의 마음을 명중 넌 이미 신청...  [운동, 동아리]\n",
       "1008   중앙동아리 예술비평연구회에서 신입회원을 모집합니다!   2020년 1학기는 세미나...   [예술, 음악]\n",
       "1009  오늘 8시 마감고려대학교 유일의 브랜드 컨설팅 학회 CREAKET에서 14기를 모집...   [사회, 학회]\n",
       "1010  D1 Partyproviders 27th 2차 리크루팅 3.22 많은 문의와 요청에...  [동아리, 예술]\n",
       "1011  KUHS 고려대학교 호스피스 봉사동아리 (KUHS)에서 신입부원을 모집합니다! (일...  [봉사, 동아리]"
      ]
     },
     "execution_count": 18,
     "metadata": {},
     "output_type": "execute_result"
    }
   ],
   "source": [
    "# check if it is saved well\n",
    "import ast\n",
    "\n",
    "def tostring(x):\n",
    "    return ast.literal_eval(x)\n",
    "\n",
    "\n",
    "\n",
    "df_check = pd.read_csv(\"lstm_data.csv\")\n",
    "df_check.tail()\n",
    "df_all = df_check\n",
    "\n",
    "df_all.tags = df_all.tags.apply(lambda x: tostring(x))\n",
    "df_all.tail()"
   ]
  },
  {
   "cell_type": "code",
   "execution_count": 19,
   "metadata": {},
   "outputs": [
    {
     "name": "stdout",
     "output_type": "stream",
     "text": [
      "전처리 전 훈련용 샘플의 개수 : 1012\n",
      "전처리 후 훈련용 샘플의 개수 : 999\n"
     ]
    }
   ],
   "source": [
    "import numpy as np\n",
    "\n",
    "print('전처리 전 훈련용 샘플의 개수 :',len(df_all))\n",
    "df_all['description'] = df_all['description'].str.replace(\"[^ㄱ-ㅎㅏ-ㅣ가-힣0-9a-zA-Z ]\",\"\") # 한글, 영어, 숫자 제외 다 제거\n",
    "df_all['description'].replace('', np.nan, inplace=True) # 공백은 Null 값으로 변경\n",
    "df_all = df_all.dropna(how='any') # Null 값 제거\n",
    "\n",
    "print('전처리 후 훈련용 샘플의 개수 :',len(df_all))"
   ]
  },
  {
   "cell_type": "code",
   "execution_count": 20,
   "metadata": {},
   "outputs": [],
   "source": [
    "from konlpy.tag import Okt\n",
    "\n",
    "okt = Okt()"
   ]
  },
  {
   "cell_type": "code",
   "execution_count": 21,
   "metadata": {},
   "outputs": [],
   "source": [
    "import ssl\n",
    "from urllib.request import urlopen\n",
    "from bs4 import BeautifulSoup\n",
    "# konlpy 사용해서 전처리\n",
    "# stopwords 없애기, 어간/어미 등으로 나누기\n",
    "\n",
    "context = ssl._create_unverified_context()\n",
    "resp = urlopen('https://www.ranks.nl/stopwords/korean',context=context)\n",
    "dom = BeautifulSoup(resp.read().decode('utf8'),'html.parser')\n",
    "tds = dom.select('.panel-body > table > tbody > tr > td')"
   ]
  },
  {
   "cell_type": "code",
   "execution_count": 22,
   "metadata": {},
   "outputs": [],
   "source": [
    "import re\n",
    "\n",
    "stopwords=[]\n",
    "\n",
    "for _ in tds:\n",
    "    stopwords+=re.findall(r'([ \\w]+)<br/>',str(_))\n",
    "    \n",
    "stopwords.append('만큼')\n",
    "stopwords.append('만 못하다')\n",
    "stopwords.append('영')\n",
    "stopwords.append('의')\n",
    "stopwords.append('하다')\n",
    "stopwords.append('가')\n",
    "stopwords.append('이')\n",
    "stopwords.append('은')\n",
    "stopwords.append('좀')\n",
    "stopwords.append('를')\n",
    "stopwords.append('들')\n",
    "stopwords.append('는')\n",
    "stopwords.append('잘')\n",
    "stopwords.append('자')\n",
    "stopwords.append('에')\n",
    "stopwords.append('와')\n",
    "stopwords.append('한')\n",
    "stopwords.append('과')\n",
    "stopwords.append('도')"
   ]
  },
  {
   "cell_type": "markdown",
   "metadata": {},
   "source": [
    "## Train Test Split"
   ]
  },
  {
   "cell_type": "code",
   "execution_count": 23,
   "metadata": {},
   "outputs": [],
   "source": [
    "X = []\n",
    "\n",
    "for sentence in df_all['description']:\n",
    "    temp_X = []\n",
    "    temp_X = okt.morphs(sentence, stem=True) # 토큰화\n",
    "    temp_X = [word for word in temp_X if not word in stopwords] # 불용어 제거\n",
    "    X.append(temp_X)"
   ]
  },
  {
   "cell_type": "code",
   "execution_count": 24,
   "metadata": {},
   "outputs": [
    {
     "name": "stdout",
     "output_type": "stream",
     "text": [
      "999\n"
     ]
    }
   ],
   "source": [
    "print(len(X))\n",
    "y = df_all.tags"
   ]
  },
  {
   "cell_type": "code",
   "execution_count": 25,
   "metadata": {},
   "outputs": [],
   "source": [
    "## 추가기능 구현?\n",
    "## Delete Infrequent Words"
   ]
  },
  {
   "cell_type": "code",
   "execution_count": 26,
   "metadata": {},
   "outputs": [],
   "source": [
    "# counts_tokens = Counter()\n",
    "\n",
    "# for list_ in X:\n",
    "#     counts_tokens.update(list_)\n",
    "\n",
    "# # print(counts_tokens)"
   ]
  },
  {
   "cell_type": "code",
   "execution_count": 27,
   "metadata": {},
   "outputs": [],
   "source": [
    "# # deleting infrequent words\n",
    "# print(\"num_words before: \", len(counts_tokens.keys()))\n",
    "# for word in list(counts_tokens):\n",
    "#     if counts_tokens[word] < 4:\n",
    "#         del counts_tokens[word]\n",
    "# print(\"num_words after:\",len(counts_tokens.keys()))"
   ]
  },
  {
   "cell_type": "code",
   "execution_count": 28,
   "metadata": {},
   "outputs": [],
   "source": [
    "# turn tags to sequences\n",
    "from collections import Counter\n",
    "\n",
    "counts_tags = Counter()\n",
    "for list_ in y:\n",
    "    counts_tags.update(list_)"
   ]
  },
  {
   "cell_type": "code",
   "execution_count": 29,
   "metadata": {},
   "outputs": [],
   "source": [
    "tag2index = {}\n",
    "tagwords = []\n",
    "for tagword in counts_tags:\n",
    "    tag2index[tagword] = len(tagwords)\n",
    "    tagwords.append(tagword)"
   ]
  },
  {
   "cell_type": "code",
   "execution_count": 30,
   "metadata": {},
   "outputs": [
    {
     "data": {
      "text/plain": [
       "{'봉사': 0,\n",
       " '예술': 1,\n",
       " '사회': 2,\n",
       " 'IT': 3,\n",
       " '공모전': 4,\n",
       " '경영': 5,\n",
       " '과학': 6,\n",
       " '미술': 7,\n",
       " '대외활동': 8,\n",
       " '기타': 9,\n",
       " '운동': 10,\n",
       " '취업': 11,\n",
       " '동아리': 12,\n",
       " '언어': 13,\n",
       " '친목': 14,\n",
       " '종교': 15,\n",
       " '스터디': 16,\n",
       " '연합': 17,\n",
       " '학회': 18,\n",
       " '음악': 19}"
      ]
     },
     "execution_count": 30,
     "metadata": {},
     "output_type": "execute_result"
    }
   ],
   "source": [
    "tag2index"
   ]
  },
  {
   "cell_type": "code",
   "execution_count": 31,
   "metadata": {},
   "outputs": [],
   "source": [
    "# tokens(words) to sequences\n",
    "\n",
    "new_y = []\n",
    "\n",
    "for list_ in y:\n",
    "    list_ = [tag2index[item] for item in list_]\n",
    "    new_y.append(list_)\n",
    "    \n",
    "# new_y    "
   ]
  },
  {
   "cell_type": "code",
   "execution_count": 32,
   "metadata": {},
   "outputs": [
    {
     "data": {
      "text/plain": [
       "array([ 0,  1,  2,  3,  4,  5,  6,  7,  8,  9, 10, 11, 12, 13, 14, 15, 16,\n",
       "       17, 18, 19])"
      ]
     },
     "execution_count": 32,
     "metadata": {},
     "output_type": "execute_result"
    }
   ],
   "source": [
    "# Multi One-Hot Encode(?) y_train data\n",
    "# ex> 0 0 0 0 0 1 1 0 0 0 0 0 형식으로 (1은 해당하는 태그, 0은 해당하지 않는 태그)\n",
    "# 참고한 사이트: https://scikit-learn.org/stable/modules/generated/sklearn.preprocessing.MultiLabelBinarizer.html\n",
    "\n",
    "\n",
    "from sklearn.preprocessing import MultiLabelBinarizer\n",
    "\n",
    "mlb = MultiLabelBinarizer()\n",
    "y = mlb.fit_transform(new_y)\n",
    "\n",
    "\n",
    "mlb.classes_\n",
    "\n",
    "# 정확하게 20개의 class를 잡은 것을 확인"
   ]
  },
  {
   "cell_type": "code",
   "execution_count": 33,
   "metadata": {},
   "outputs": [
    {
     "data": {
      "text/plain": [
       "20"
      ]
     },
     "execution_count": 33,
     "metadata": {},
     "output_type": "execute_result"
    }
   ],
   "source": [
    "len(tagwords)\n",
    "\n",
    "# 총 20개의 tagword 존재"
   ]
  },
  {
   "cell_type": "code",
   "execution_count": 34,
   "metadata": {},
   "outputs": [],
   "source": [
    "from sklearn.model_selection import train_test_split\n",
    "X_train, X_test, y_train, y_test = train_test_split(X, y, test_size=0.2)"
   ]
  },
  {
   "cell_type": "markdown",
   "metadata": {},
   "source": [
    "## Tokenizing Words"
   ]
  },
  {
   "cell_type": "code",
   "execution_count": 35,
   "metadata": {},
   "outputs": [
    {
     "name": "stderr",
     "output_type": "stream",
     "text": [
      "Using TensorFlow backend.\n"
     ]
    }
   ],
   "source": [
    "from keras.preprocessing.text import one_hot\n",
    "from keras.preprocessing.sequence import pad_sequences\n",
    "from keras.models import Sequential\n",
    "from keras.layers.core import Activation, Dropout, Dense\n",
    "from keras.layers import Flatten, LSTM\n",
    "from keras.layers import GlobalMaxPooling1D\n",
    "from keras.models import Model\n",
    "from keras.layers.embeddings import Embedding\n",
    "from sklearn.model_selection import train_test_split\n",
    "from keras.preprocessing.text import Tokenizer\n",
    "from keras.layers import Input\n",
    "from keras.layers.merge import Concatenate\n",
    "\n",
    "\n",
    "tokenizer = Tokenizer()\n",
    "tokenizer.fit_on_texts(X_train)"
   ]
  },
  {
   "cell_type": "code",
   "execution_count": 36,
   "metadata": {},
   "outputs": [],
   "source": [
    "# texts_to_sequences: Transforms each text in texts to a sequence of integers.\n",
    "# Only top num_words-1 most frequent words will be taken into account. \n",
    "# Only words known by the tokenizer will be taken into account.\n",
    "# 참고: https://www.tensorflow.org/api_docs/python/tf/keras/preprocessing/text/Tokenizer#texts_to_sequences\n",
    "\n",
    "X_train = tokenizer.texts_to_sequences(X_train)\n",
    "X_test = tokenizer.texts_to_sequences(X_test)"
   ]
  },
  {
   "cell_type": "code",
   "execution_count": 37,
   "metadata": {},
   "outputs": [],
   "source": [
    "vocab_size = len(tokenizer.word_index) + 1\n",
    "\n",
    "maxlen = 150\n",
    "\n",
    "X_train = pad_sequences(X_train, padding='post', maxlen=maxlen)\n",
    "X_test = pad_sequences(X_test, padding='post', maxlen=maxlen)\n",
    "\n",
    "\n",
    "# about pad_sequences: https://stackoverflow.com/questions/42943291/what-does-keras-io-preprocessing-sequence-pad-sequences-do"
   ]
  },
  {
   "cell_type": "markdown",
   "metadata": {},
   "source": [
    "## LSTM Model"
   ]
  },
  {
   "cell_type": "code",
   "execution_count": 130,
   "metadata": {},
   "outputs": [],
   "source": [
    "deep_inputs = Input(shape=(maxlen,))\n",
    "embedding_layer = Embedding(vocab_size, 50)(deep_inputs)\n",
    "LSTM_Layer_1 = LSTM(64)(embedding_layer)\n",
    "dense_layer_1 = Dense(20, activation='sigmoid')(LSTM_Layer_1)\n",
    "dense_layer_2 = Dense(20, activation='sigmoid')(dense_layer_1)\n",
    "model = Model(inputs=deep_inputs, outputs=dense_layer_2)\n",
    "\n",
    "model.compile(loss='binary_crossentropy', optimizer='adam', metrics=['acc'])"
   ]
  },
  {
   "cell_type": "code",
   "execution_count": 131,
   "metadata": {},
   "outputs": [
    {
     "name": "stdout",
     "output_type": "stream",
     "text": [
      "Model: \"model_6\"\n",
      "_________________________________________________________________\n",
      "Layer (type)                 Output Shape              Param #   \n",
      "=================================================================\n",
      "input_6 (InputLayer)         (None, 150)               0         \n",
      "_________________________________________________________________\n",
      "embedding_6 (Embedding)      (None, 150, 50)           615550    \n",
      "_________________________________________________________________\n",
      "lstm_6 (LSTM)                (None, 64)                29440     \n",
      "_________________________________________________________________\n",
      "dense_6 (Dense)              (None, 20)                1300      \n",
      "_________________________________________________________________\n",
      "dense_7 (Dense)              (None, 20)                420       \n",
      "=================================================================\n",
      "Total params: 646,710\n",
      "Trainable params: 646,710\n",
      "Non-trainable params: 0\n",
      "_________________________________________________________________\n"
     ]
    }
   ],
   "source": [
    "model.summary()"
   ]
  },
  {
   "cell_type": "code",
   "execution_count": 132,
   "metadata": {},
   "outputs": [],
   "source": [
    "# We can see that the output layer only contains 1 dense layer with 20 neurons.\n",
    "# Let's now train our model"
   ]
  },
  {
   "cell_type": "markdown",
   "metadata": {},
   "source": [
    "## Model Train"
   ]
  },
  {
   "cell_type": "code",
   "execution_count": 133,
   "metadata": {
    "scrolled": true
   },
   "outputs": [
    {
     "name": "stderr",
     "output_type": "stream",
     "text": [
      "C:\\Users\\starl\\anaconda3\\envs\\tf\\lib\\site-packages\\tensorflow_core\\python\\framework\\indexed_slices.py:433: UserWarning: Converting sparse IndexedSlices to a dense Tensor of unknown shape. This may consume a large amount of memory.\n",
      "  \"Converting sparse IndexedSlices to a dense Tensor of unknown shape. \"\n"
     ]
    },
    {
     "name": "stdout",
     "output_type": "stream",
     "text": [
      "Train on 639 samples, validate on 160 samples\n",
      "Epoch 1/5\n",
      "639/639 [==============================] - 2s 3ms/step - loss: 0.7901 - acc: 0.3549 - val_loss: 0.7729 - val_acc: 0.4737\n",
      "Epoch 2/5\n",
      "639/639 [==============================] - 2s 2ms/step - loss: 0.7613 - acc: 0.4800 - val_loss: 0.7421 - val_acc: 0.5159\n",
      "Epoch 3/5\n",
      "639/639 [==============================] - 1s 2ms/step - loss: 0.7236 - acc: 0.5178 - val_loss: 0.6847 - val_acc: 0.6044\n",
      "Epoch 4/5\n",
      "639/639 [==============================] - 2s 2ms/step - loss: 0.6489 - acc: 0.6397 - val_loss: 0.6109 - val_acc: 0.6994\n",
      "Epoch 5/5\n",
      "639/639 [==============================] - 2s 2ms/step - loss: 0.5978 - acc: 0.7290 - val_loss: 0.5763 - val_acc: 0.7472\n"
     ]
    }
   ],
   "source": [
    "history = model.fit(X_train, y_train, batch_size=128, epochs=5, verbose=1, validation_split=0.2)"
   ]
  },
  {
   "cell_type": "code",
   "execution_count": 134,
   "metadata": {},
   "outputs": [
    {
     "name": "stdout",
     "output_type": "stream",
     "text": [
      "200/200 [==============================] - 0s 1ms/step\n",
      "Test Score: 0.5778208661079407\n",
      "Test Accuracy: 0.7417500019073486\n"
     ]
    }
   ],
   "source": [
    "score = model.evaluate(X_test, y_test, verbose=1)\n",
    "\n",
    "print(\"Test Score:\", score[0])\n",
    "print(\"Test Accuracy:\", score[1])"
   ]
  },
  {
   "cell_type": "markdown",
   "metadata": {},
   "source": [
    "## Visualize the results"
   ]
  },
  {
   "cell_type": "code",
   "execution_count": 135,
   "metadata": {},
   "outputs": [
    {
     "data": {
      "image/png": "[encoded data removed]",
      "text/plain": [
       "<Figure size 432x288 with 1 Axes>"
      ]
     },
     "metadata": {
      "needs_background": "light"
     },
     "output_type": "display_data"
    },
    {
     "data": {
      "image/png": "[encoded data removed]",
      "text/plain": [
       "<Figure size 432x288 with 1 Axes>"
      ]
     },
     "metadata": {
      "needs_background": "light"
     },
     "output_type": "display_data"
    }
   ],
   "source": [
    "import matplotlib.pyplot as plt\n",
    "\n",
    "plt.plot(history.history['acc'])\n",
    "plt.plot(history.history['val_acc'])\n",
    "\n",
    "plt.title('model accuracy')\n",
    "plt.ylabel('accuracy')\n",
    "plt.xlabel('epoch')\n",
    "plt.legend(['train','test'], loc='upper left')\n",
    "plt.show()\n",
    "\n",
    "plt.plot(history.history['loss'])\n",
    "plt.plot(history.history['val_loss'])\n",
    "\n",
    "plt.title('model loss')\n",
    "plt.ylabel('loss')\n",
    "plt.xlabel('epoch')\n",
    "plt.legend(['train','test'], loc='upper left')\n",
    "plt.show()"
   ]
  },
  {
   "cell_type": "markdown",
   "metadata": {},
   "source": [
    "## Results as TAGS (Words)"
   ]
  },
  {
   "cell_type": "code",
   "execution_count": 136,
   "metadata": {},
   "outputs": [
    {
     "name": "stdout",
     "output_type": "stream",
     "text": [
      "200/200 [==============================] - 0s 1ms/step\n"
     ]
    }
   ],
   "source": [
    "pred = model.predict(X_test, verbose=1)"
   ]
  },
  {
   "cell_type": "code",
   "execution_count": 137,
   "metadata": {},
   "outputs": [],
   "source": [
    "## 두 가지 경우로 나누자.\n",
    "## 1. threshold가 일정 값 이상인 경우\n",
    "# - 0.10: 12-14개 정도\n",
    "# - 0.20: 6-7개정도\n",
    "# - 0.30: 3개 (놀라울 정도로 모두 다 3개이다)\n",
    "# - 0.35: 1개 (이것 또한 놀라울 정도로 모두 1개이다)\n",
    "# - 0.31: 1-2개\n",
    "# - 0.305: 2-3개\n",
    "# --> 0.31이 적당한듯!\n",
    "\n",
    "\n",
    "## 2. 가장 확률 높은 2개 tag로?"
   ]
  },
  {
   "cell_type": "code",
   "execution_count": 138,
   "metadata": {},
   "outputs": [],
   "source": [
    "## 모델 트레이닝 시킬때마다 threshold가 변경된다.... 기준을 무엇으로 할지 애매하군.\n",
    "## 1. threshold 이상\n",
    "## 2. 가장 확률 높은 2개 tag로?"
   ]
  },
  {
   "cell_type": "code",
   "execution_count": 147,
   "metadata": {},
   "outputs": [
    {
     "name": "stdout",
     "output_type": "stream",
     "text": [
      "2\n",
      "2\n",
      "2\n",
      "2\n",
      "2\n",
      "2\n",
      "2\n",
      "2\n",
      "2\n",
      "2\n",
      "2\n",
      "2\n",
      "2\n",
      "2\n",
      "2\n",
      "2\n",
      "2\n",
      "2\n",
      "2\n",
      "2\n",
      "2\n",
      "2\n",
      "2\n",
      "2\n",
      "2\n",
      "2\n",
      "2\n",
      "2\n",
      "2\n",
      "2\n",
      "2\n",
      "2\n",
      "2\n",
      "2\n",
      "2\n",
      "2\n",
      "2\n",
      "2\n",
      "2\n",
      "2\n",
      "2\n",
      "2\n",
      "2\n",
      "2\n",
      "2\n",
      "2\n",
      "2\n",
      "2\n",
      "2\n",
      "2\n",
      "2\n",
      "2\n",
      "2\n",
      "2\n",
      "2\n",
      "2\n",
      "2\n",
      "2\n",
      "2\n",
      "2\n",
      "2\n",
      "2\n",
      "2\n",
      "2\n",
      "2\n",
      "2\n",
      "2\n",
      "2\n",
      "2\n",
      "2\n",
      "2\n",
      "2\n",
      "2\n",
      "2\n",
      "2\n",
      "2\n",
      "2\n",
      "2\n",
      "2\n",
      "2\n",
      "2\n",
      "2\n",
      "2\n",
      "2\n",
      "2\n",
      "2\n",
      "2\n",
      "2\n",
      "2\n",
      "2\n",
      "2\n",
      "2\n",
      "2\n",
      "2\n",
      "2\n",
      "2\n",
      "2\n",
      "2\n",
      "2\n",
      "2\n",
      "2\n",
      "2\n",
      "2\n",
      "2\n",
      "2\n",
      "2\n",
      "2\n",
      "2\n",
      "2\n",
      "2\n",
      "2\n",
      "2\n",
      "2\n",
      "2\n",
      "2\n",
      "2\n",
      "2\n",
      "2\n",
      "2\n",
      "2\n",
      "2\n",
      "2\n",
      "2\n",
      "2\n",
      "2\n",
      "2\n",
      "2\n",
      "2\n",
      "2\n",
      "2\n",
      "2\n",
      "2\n",
      "2\n",
      "2\n",
      "2\n",
      "2\n",
      "2\n",
      "2\n",
      "2\n",
      "2\n",
      "2\n",
      "2\n",
      "2\n",
      "2\n",
      "2\n",
      "2\n",
      "2\n",
      "2\n",
      "2\n",
      "2\n",
      "2\n",
      "2\n",
      "2\n",
      "2\n",
      "2\n",
      "2\n",
      "2\n",
      "2\n",
      "2\n",
      "2\n",
      "2\n",
      "2\n",
      "2\n",
      "2\n",
      "2\n",
      "2\n",
      "2\n",
      "2\n",
      "2\n",
      "2\n",
      "2\n",
      "2\n",
      "2\n",
      "2\n",
      "2\n",
      "2\n",
      "2\n",
      "2\n",
      "2\n",
      "2\n",
      "2\n",
      "2\n",
      "2\n",
      "2\n",
      "2\n",
      "2\n",
      "2\n",
      "2\n",
      "2\n",
      "2\n",
      "2\n",
      "2\n",
      "2\n",
      "2\n",
      "2\n",
      "2\n",
      "2\n",
      "2\n",
      "2\n",
      "2\n"
     ]
    }
   ],
   "source": [
    "for _ in pred:\n",
    "    num=0\n",
    "    for elem in _:\n",
    "        if elem>0.54:\n",
    "            num+=1\n",
    "    print(num)"
   ]
  },
  {
   "cell_type": "code",
   "execution_count": 148,
   "metadata": {},
   "outputs": [],
   "source": [
    "# adjusting threshold in 2D numpy array\n",
    "# 참고 사이트: https://stackoverflow.com/questions/36719997/threshold-in-2d-numpy-array/36720130\n",
    "pred_ = (pred>0.54)*pred\n",
    "pred_[pred_>0]=1"
   ]
  },
  {
   "cell_type": "code",
   "execution_count": 149,
   "metadata": {},
   "outputs": [
    {
     "data": {
      "text/plain": [
       "array([0., 0., 1., 0., 1., 0., 0., 0., 0., 0., 0., 0., 0., 0., 0., 0., 0.,\n",
       "       0., 0., 0.], dtype=float32)"
      ]
     },
     "execution_count": 149,
     "metadata": {},
     "output_type": "execute_result"
    }
   ],
   "source": [
    "pred_[3]"
   ]
  },
  {
   "cell_type": "code",
   "execution_count": 150,
   "metadata": {},
   "outputs": [
    {
     "data": {
      "text/plain": [
       "array([[0., 0., 1., ..., 0., 0., 0.],\n",
       "       [0., 0., 1., ..., 0., 0., 0.],\n",
       "       [0., 0., 1., ..., 0., 0., 0.],\n",
       "       ...,\n",
       "       [0., 0., 1., ..., 0., 0., 0.],\n",
       "       [0., 0., 1., ..., 0., 0., 0.],\n",
       "       [0., 0., 1., ..., 0., 0., 0.]], dtype=float32)"
      ]
     },
     "execution_count": 150,
     "metadata": {},
     "output_type": "execute_result"
    }
   ],
   "source": [
    "pred_"
   ]
  },
  {
   "cell_type": "code",
   "execution_count": 151,
   "metadata": {},
   "outputs": [
    {
     "data": {
      "text/plain": [
       "array([0., 0., 1., 0., 1., 0., 0., 0., 0., 0., 0., 0., 0., 0., 0., 0., 0.,\n",
       "       0., 0., 0.], dtype=float32)"
      ]
     },
     "execution_count": 151,
     "metadata": {},
     "output_type": "execute_result"
    }
   ],
   "source": [
    "pred_[2]"
   ]
  },
  {
   "cell_type": "code",
   "execution_count": 152,
   "metadata": {},
   "outputs": [],
   "source": [
    "tags = mlb.inverse_transform(pred_)"
   ]
  },
  {
   "cell_type": "code",
   "execution_count": 153,
   "metadata": {},
   "outputs": [
    {
     "data": {
      "text/plain": [
       "[(2, 4),\n",
       " (2, 4),\n",
       " (2, 4),\n",
       " (2, 4),\n",
       " (2, 4),\n",
       " (2, 4),\n",
       " (2, 4),\n",
       " (2, 4),\n",
       " (2, 4),\n",
       " (2, 4),\n",
       " (2, 4),\n",
       " (2, 4),\n",
       " (2, 4),\n",
       " (2, 4),\n",
       " (2, 4),\n",
       " (2, 4),\n",
       " (2, 4),\n",
       " (2, 4),\n",
       " (2, 4),\n",
       " (2, 4),\n",
       " (2, 4),\n",
       " (2, 4),\n",
       " (2, 4),\n",
       " (2, 4),\n",
       " (2, 4),\n",
       " (2, 4),\n",
       " (2, 4),\n",
       " (2, 4),\n",
       " (2, 4),\n",
       " (2, 4),\n",
       " (2, 4),\n",
       " (2, 4),\n",
       " (2, 4),\n",
       " (2, 4),\n",
       " (2, 4),\n",
       " (2, 4),\n",
       " (2, 4),\n",
       " (2, 4),\n",
       " (2, 4),\n",
       " (2, 4),\n",
       " (2, 4),\n",
       " (2, 4),\n",
       " (2, 4),\n",
       " (2, 4),\n",
       " (2, 4),\n",
       " (2, 4),\n",
       " (2, 4),\n",
       " (2, 4),\n",
       " (2, 4),\n",
       " (2, 4),\n",
       " (2, 4),\n",
       " (2, 4),\n",
       " (2, 4),\n",
       " (2, 4),\n",
       " (2, 4),\n",
       " (2, 4),\n",
       " (2, 4),\n",
       " (2, 4),\n",
       " (2, 4),\n",
       " (2, 4),\n",
       " (2, 4),\n",
       " (2, 4),\n",
       " (2, 4),\n",
       " (2, 4),\n",
       " (2, 4),\n",
       " (2, 4),\n",
       " (2, 4),\n",
       " (2, 4),\n",
       " (2, 4),\n",
       " (2, 4),\n",
       " (2, 4),\n",
       " (2, 4),\n",
       " (2, 4),\n",
       " (2, 4),\n",
       " (2, 4),\n",
       " (2, 4),\n",
       " (2, 4),\n",
       " (2, 4),\n",
       " (2, 4),\n",
       " (2, 4),\n",
       " (2, 4),\n",
       " (2, 4),\n",
       " (2, 4),\n",
       " (2, 4),\n",
       " (2, 4),\n",
       " (2, 4),\n",
       " (2, 4),\n",
       " (2, 4),\n",
       " (2, 4),\n",
       " (2, 4),\n",
       " (2, 4),\n",
       " (2, 4),\n",
       " (2, 4),\n",
       " (2, 4),\n",
       " (2, 4),\n",
       " (2, 4),\n",
       " (2, 4),\n",
       " (2, 4),\n",
       " (2, 4),\n",
       " (2, 4),\n",
       " (2, 4),\n",
       " (2, 4),\n",
       " (2, 4),\n",
       " (2, 4),\n",
       " (2, 4),\n",
       " (2, 4),\n",
       " (2, 4),\n",
       " (2, 4),\n",
       " (2, 4),\n",
       " (2, 4),\n",
       " (2, 4),\n",
       " (2, 4),\n",
       " (2, 4),\n",
       " (2, 4),\n",
       " (2, 4),\n",
       " (2, 4),\n",
       " (2, 4),\n",
       " (2, 4),\n",
       " (2, 4),\n",
       " (2, 4),\n",
       " (2, 4),\n",
       " (2, 4),\n",
       " (2, 4),\n",
       " (2, 4),\n",
       " (2, 4),\n",
       " (2, 4),\n",
       " (2, 4),\n",
       " (2, 4),\n",
       " (2, 4),\n",
       " (2, 4),\n",
       " (2, 4),\n",
       " (2, 4),\n",
       " (2, 4),\n",
       " (2, 4),\n",
       " (2, 4),\n",
       " (2, 4),\n",
       " (2, 4),\n",
       " (2, 4),\n",
       " (2, 4),\n",
       " (2, 4),\n",
       " (2, 4),\n",
       " (2, 4),\n",
       " (2, 4),\n",
       " (2, 4),\n",
       " (2, 4),\n",
       " (2, 4),\n",
       " (2, 4),\n",
       " (2, 4),\n",
       " (2, 4),\n",
       " (2, 4),\n",
       " (2, 4),\n",
       " (2, 4),\n",
       " (2, 4),\n",
       " (2, 4),\n",
       " (2, 4),\n",
       " (2, 4),\n",
       " (2, 4),\n",
       " (2, 4),\n",
       " (2, 4),\n",
       " (2, 4),\n",
       " (2, 4),\n",
       " (2, 4),\n",
       " (2, 4),\n",
       " (2, 4),\n",
       " (2, 4),\n",
       " (2, 4),\n",
       " (2, 4),\n",
       " (2, 4),\n",
       " (2, 4),\n",
       " (2, 4),\n",
       " (2, 4),\n",
       " (2, 4),\n",
       " (2, 4),\n",
       " (2, 4),\n",
       " (2, 4),\n",
       " (2, 4),\n",
       " (2, 4),\n",
       " (2, 4),\n",
       " (2, 4),\n",
       " (2, 4),\n",
       " (2, 4),\n",
       " (2, 4),\n",
       " (2, 4),\n",
       " (2, 4),\n",
       " (2, 4),\n",
       " (2, 4),\n",
       " (2, 4),\n",
       " (2, 4),\n",
       " (2, 4),\n",
       " (2, 4),\n",
       " (2, 4),\n",
       " (2, 4),\n",
       " (2, 4),\n",
       " (2, 4),\n",
       " (2, 4),\n",
       " (2, 4),\n",
       " (2, 4),\n",
       " (2, 4),\n",
       " (2, 4),\n",
       " (2, 4)]"
      ]
     },
     "execution_count": 153,
     "metadata": {},
     "output_type": "execute_result"
    }
   ],
   "source": [
    "# overfitting이 된다.\n",
    "\n",
    "tags"
   ]
  },
  {
   "cell_type": "code",
   "execution_count": null,
   "metadata": {},
   "outputs": [],
   "source": [
    "## overfitting이 되는 경향성\n"
   ]
  }
 ],
 "metadata": {
  "kernelspec": {
   "display_name": "tf",
   "language": "python",
   "name": "tf"
  },
  "language_info": {
   "codemirror_mode": {
    "name": "ipython",
    "version": 3
   },
   "file_extension": ".py",
   "mimetype": "text/x-python",
   "name": "python",
   "nbconvert_exporter": "python",
   "pygments_lexer": "ipython3",
   "version": "3.7.7"
  }
 },
 "nbformat": 4,
 "nbformat_minor": 4
}
