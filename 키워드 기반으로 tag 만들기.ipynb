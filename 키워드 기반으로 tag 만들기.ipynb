{
 "cells": [
  {
   "cell_type": "code",
   "execution_count": 1,
   "metadata": {},
   "outputs": [
    {
     "data": {
      "text/html": [
       "<div>\n",
       "<style scoped>\n",
       "    .dataframe tbody tr th:only-of-type {\n",
       "        vertical-align: middle;\n",
       "    }\n",
       "\n",
       "    .dataframe tbody tr th {\n",
       "        vertical-align: top;\n",
       "    }\n",
       "\n",
       "    .dataframe thead th {\n",
       "        text-align: right;\n",
       "    }\n",
       "</style>\n",
       "<table border=\"1\" class=\"dataframe\">\n",
       "  <thead>\n",
       "    <tr style=\"text-align: right;\">\n",
       "      <th></th>\n",
       "      <th>id</th>\n",
       "      <th>title</th>\n",
       "      <th>link</th>\n",
       "      <th>image</th>\n",
       "      <th>description</th>\n",
       "    </tr>\n",
       "  </thead>\n",
       "  <tbody>\n",
       "    <tr>\n",
       "      <th>0</th>\n",
       "      <td>1</td>\n",
       "      <td>서울권 운동(스포츠) 연합 커뮤니티 STREET BOND</td>\n",
       "      <td>https://www.koreapas.com/bbs/view.php?id=circl...</td>\n",
       "      <td>['https://img.koreapas.com/i/d5e4e89/resize']</td>\n",
       "      <td>📌 STREET BOND 소개\\r\\n운동은 하고 싶은데, 몇 달 회비 끊고 하자니,...</td>\n",
       "    </tr>\n",
       "    <tr>\n",
       "      <th>1</th>\n",
       "      <td>2</td>\n",
       "      <td>안녕하세요 한일문화연구회에서 함께할 동아리원을 모집합니다</td>\n",
       "      <td>https://www.koreapas.com/bbs/view.php?id=circl...</td>\n",
       "      <td>['https://img.koreapas.com/i/d3e4ae1/resize']</td>\n",
       "      <td>일본문화에 관심이 있으신가요? 심심한데 마땅한 동아리가 없으신가요? 중앙동아리 한일...</td>\n",
       "    </tr>\n",
       "    <tr>\n",
       "      <th>2</th>\n",
       "      <td>3</td>\n",
       "      <td>2020학년도 2학기 KUISA 14기 벗 모집이 하루 남았습니다!!!!!!</td>\n",
       "      <td>https://www.koreapas.com/bbs/view.php?id=circl...</td>\n",
       "      <td>['https://img.koreapas.com/i/2b9355e/resize']</td>\n",
       "      <td>👉2020년도 2학기 KUISA 14기 벗 모집 안내👈\\n\\r\\nKUISA란, Ko...</td>\n",
       "    </tr>\n",
       "    <tr>\n",
       "      <th>3</th>\n",
       "      <td>4</td>\n",
       "      <td>1분 명상법~! </td>\n",
       "      <td>https://www.koreapas.com/bbs/view.php?id=circl...</td>\n",
       "      <td>['https://img.koreapas.com/i/484c9e2/resize', ...</td>\n",
       "      <td>안녕하세요! 원불교 학생회입니다. ㅎㅎ\\r\\n이번에는 명상을 어떻게 하는 지에 대한...</td>\n",
       "    </tr>\n",
       "    <tr>\n",
       "      <th>4</th>\n",
       "      <td>5</td>\n",
       "      <td>연합발표토론동아리 POP 22기 모집합니다 !</td>\n",
       "      <td>https://www.koreapas.com/bbs/view.php?id=circl...</td>\n",
       "      <td>['https://img.koreapas.com/i/607084d/resize', ...</td>\n",
       "      <td>[22기 P.O.P 단원 모집!]\\n\\r\\n📢 스펙업 대표동아리 Top30\\r\\n📢...</td>\n",
       "    </tr>\n",
       "  </tbody>\n",
       "</table>\n",
       "</div>"
      ],
      "text/plain": [
       "   id                                        title  \\\n",
       "0   1           서울권 운동(스포츠) 연합 커뮤니티 STREET BOND      \n",
       "1   2           안녕하세요 한일문화연구회에서 함께할 동아리원을 모집합니다      \n",
       "2   3  2020학년도 2학기 KUISA 14기 벗 모집이 하루 남았습니다!!!!!!    \n",
       "3   4                                  1분 명상법~!     \n",
       "4   5                   연합발표토론동아리 POP 22기 모집합니다 !    \n",
       "\n",
       "                                                link  \\\n",
       "0  https://www.koreapas.com/bbs/view.php?id=circl...   \n",
       "1  https://www.koreapas.com/bbs/view.php?id=circl...   \n",
       "2  https://www.koreapas.com/bbs/view.php?id=circl...   \n",
       "3  https://www.koreapas.com/bbs/view.php?id=circl...   \n",
       "4  https://www.koreapas.com/bbs/view.php?id=circl...   \n",
       "\n",
       "                                               image  \\\n",
       "0      ['https://img.koreapas.com/i/d5e4e89/resize']   \n",
       "1      ['https://img.koreapas.com/i/d3e4ae1/resize']   \n",
       "2      ['https://img.koreapas.com/i/2b9355e/resize']   \n",
       "3  ['https://img.koreapas.com/i/484c9e2/resize', ...   \n",
       "4  ['https://img.koreapas.com/i/607084d/resize', ...   \n",
       "\n",
       "                                         description  \n",
       "0  📌 STREET BOND 소개\\r\\n운동은 하고 싶은데, 몇 달 회비 끊고 하자니,...  \n",
       "1  일본문화에 관심이 있으신가요? 심심한데 마땅한 동아리가 없으신가요? 중앙동아리 한일...  \n",
       "2  👉2020년도 2학기 KUISA 14기 벗 모집 안내👈\\n\\r\\nKUISA란, Ko...  \n",
       "3  안녕하세요! 원불교 학생회입니다. ㅎㅎ\\r\\n이번에는 명상을 어떻게 하는 지에 대한...  \n",
       "4  [22기 P.O.P 단원 모집!]\\n\\r\\n📢 스펙업 대표동아리 Top30\\r\\n📢...  "
      ]
     },
     "execution_count": 1,
     "metadata": {},
     "output_type": "execute_result"
    }
   ],
   "source": [
    "import pandas as pd\n",
    "import re\n",
    "\n",
    "clubs = pd.read_csv('clubs.csv')\n",
    "clubs.head()"
   ]
  },
  {
   "cell_type": "code",
   "execution_count": 2,
   "metadata": {},
   "outputs": [
    {
     "data": {
      "text/html": [
       "<div>\n",
       "<style scoped>\n",
       "    .dataframe tbody tr th:only-of-type {\n",
       "        vertical-align: middle;\n",
       "    }\n",
       "\n",
       "    .dataframe tbody tr th {\n",
       "        vertical-align: top;\n",
       "    }\n",
       "\n",
       "    .dataframe thead th {\n",
       "        text-align: right;\n",
       "    }\n",
       "</style>\n",
       "<table border=\"1\" class=\"dataframe\">\n",
       "  <thead>\n",
       "    <tr style=\"text-align: right;\">\n",
       "      <th></th>\n",
       "      <th>id</th>\n",
       "      <th>title</th>\n",
       "      <th>link</th>\n",
       "      <th>image</th>\n",
       "      <th>description</th>\n",
       "      <th>txt</th>\n",
       "    </tr>\n",
       "  </thead>\n",
       "  <tbody>\n",
       "    <tr>\n",
       "      <th>0</th>\n",
       "      <td>1</td>\n",
       "      <td>서울권 운동(스포츠) 연합 커뮤니티 STREET BOND</td>\n",
       "      <td>https://www.koreapas.com/bbs/view.php?id=circl...</td>\n",
       "      <td>['https://img.koreapas.com/i/d5e4e89/resize']</td>\n",
       "      <td>📌 STREET BOND 소개\\r\\n운동은 하고 싶은데, 몇 달 회비 끊고 하자니,...</td>\n",
       "      <td>서울권 운동(스포츠) 연합 커뮤니티 STREET BOND   📌 STREET BON...</td>\n",
       "    </tr>\n",
       "    <tr>\n",
       "      <th>1</th>\n",
       "      <td>2</td>\n",
       "      <td>안녕하세요 한일문화연구회에서 함께할 동아리원을 모집합니다</td>\n",
       "      <td>https://www.koreapas.com/bbs/view.php?id=circl...</td>\n",
       "      <td>['https://img.koreapas.com/i/d3e4ae1/resize']</td>\n",
       "      <td>일본문화에 관심이 있으신가요? 심심한데 마땅한 동아리가 없으신가요? 중앙동아리 한일...</td>\n",
       "      <td>안녕하세요 한일문화연구회에서 함께할 동아리원을 모집합니다   일본문화에 관심이 있으...</td>\n",
       "    </tr>\n",
       "    <tr>\n",
       "      <th>2</th>\n",
       "      <td>3</td>\n",
       "      <td>2020학년도 2학기 KUISA 14기 벗 모집이 하루 남았습니다!!!!!!</td>\n",
       "      <td>https://www.koreapas.com/bbs/view.php?id=circl...</td>\n",
       "      <td>['https://img.koreapas.com/i/2b9355e/resize']</td>\n",
       "      <td>👉2020년도 2학기 KUISA 14기 벗 모집 안내👈\\n\\r\\nKUISA란, Ko...</td>\n",
       "      <td>2020학년도 2학기 KUISA 14기 벗 모집이 하루 남았습니다!!!!!! 👉20...</td>\n",
       "    </tr>\n",
       "    <tr>\n",
       "      <th>3</th>\n",
       "      <td>4</td>\n",
       "      <td>1분 명상법~! </td>\n",
       "      <td>https://www.koreapas.com/bbs/view.php?id=circl...</td>\n",
       "      <td>['https://img.koreapas.com/i/484c9e2/resize', ...</td>\n",
       "      <td>안녕하세요! 원불교 학생회입니다. ㅎㅎ\\r\\n이번에는 명상을 어떻게 하는 지에 대한...</td>\n",
       "      <td>1분 명상법~!  안녕하세요! 원불교 학생회입니다. ㅎㅎ\\r\\n이번에는 명상을 어...</td>\n",
       "    </tr>\n",
       "    <tr>\n",
       "      <th>4</th>\n",
       "      <td>5</td>\n",
       "      <td>연합발표토론동아리 POP 22기 모집합니다 !</td>\n",
       "      <td>https://www.koreapas.com/bbs/view.php?id=circl...</td>\n",
       "      <td>['https://img.koreapas.com/i/607084d/resize', ...</td>\n",
       "      <td>[22기 P.O.P 단원 모집!]\\n\\r\\n📢 스펙업 대표동아리 Top30\\r\\n📢...</td>\n",
       "      <td>연합발표토론동아리 POP 22기 모집합니다 ! [22기 P.O.P 단원 모집!]\\n...</td>\n",
       "    </tr>\n",
       "  </tbody>\n",
       "</table>\n",
       "</div>"
      ],
      "text/plain": [
       "   id                                        title  \\\n",
       "0   1           서울권 운동(스포츠) 연합 커뮤니티 STREET BOND      \n",
       "1   2           안녕하세요 한일문화연구회에서 함께할 동아리원을 모집합니다      \n",
       "2   3  2020학년도 2학기 KUISA 14기 벗 모집이 하루 남았습니다!!!!!!    \n",
       "3   4                                  1분 명상법~!     \n",
       "4   5                   연합발표토론동아리 POP 22기 모집합니다 !    \n",
       "\n",
       "                                                link  \\\n",
       "0  https://www.koreapas.com/bbs/view.php?id=circl...   \n",
       "1  https://www.koreapas.com/bbs/view.php?id=circl...   \n",
       "2  https://www.koreapas.com/bbs/view.php?id=circl...   \n",
       "3  https://www.koreapas.com/bbs/view.php?id=circl...   \n",
       "4  https://www.koreapas.com/bbs/view.php?id=circl...   \n",
       "\n",
       "                                               image  \\\n",
       "0      ['https://img.koreapas.com/i/d5e4e89/resize']   \n",
       "1      ['https://img.koreapas.com/i/d3e4ae1/resize']   \n",
       "2      ['https://img.koreapas.com/i/2b9355e/resize']   \n",
       "3  ['https://img.koreapas.com/i/484c9e2/resize', ...   \n",
       "4  ['https://img.koreapas.com/i/607084d/resize', ...   \n",
       "\n",
       "                                         description  \\\n",
       "0  📌 STREET BOND 소개\\r\\n운동은 하고 싶은데, 몇 달 회비 끊고 하자니,...   \n",
       "1  일본문화에 관심이 있으신가요? 심심한데 마땅한 동아리가 없으신가요? 중앙동아리 한일...   \n",
       "2  👉2020년도 2학기 KUISA 14기 벗 모집 안내👈\\n\\r\\nKUISA란, Ko...   \n",
       "3  안녕하세요! 원불교 학생회입니다. ㅎㅎ\\r\\n이번에는 명상을 어떻게 하는 지에 대한...   \n",
       "4  [22기 P.O.P 단원 모집!]\\n\\r\\n📢 스펙업 대표동아리 Top30\\r\\n📢...   \n",
       "\n",
       "                                                 txt  \n",
       "0  서울권 운동(스포츠) 연합 커뮤니티 STREET BOND   📌 STREET BON...  \n",
       "1  안녕하세요 한일문화연구회에서 함께할 동아리원을 모집합니다   일본문화에 관심이 있으...  \n",
       "2  2020학년도 2학기 KUISA 14기 벗 모집이 하루 남았습니다!!!!!! 👉20...  \n",
       "3  1분 명상법~!  안녕하세요! 원불교 학생회입니다. ㅎㅎ\\r\\n이번에는 명상을 어...  \n",
       "4  연합발표토론동아리 POP 22기 모집합니다 ! [22기 P.O.P 단원 모집!]\\n...  "
      ]
     },
     "execution_count": 2,
     "metadata": {},
     "output_type": "execute_result"
    }
   ],
   "source": [
    "clubs['txt'] = clubs['title']+clubs['description']\n",
    "clubs.head()"
   ]
  },
  {
   "cell_type": "code",
   "execution_count": 3,
   "metadata": {},
   "outputs": [],
   "source": [
    "def cleantxt(txt):\n",
    "    txt = txt[:-35]\n",
    "    txt = txt.replace('\\n',' ')\n",
    "    txt = txt.replace('\\r','')\n",
    "    p = re.compile(r'[0-9A-Za-z가-힣?.!\\'\\(\\) ]+')\n",
    "    return ''.join(re.findall(p,txt))"
   ]
  },
  {
   "cell_type": "code",
   "execution_count": 4,
   "metadata": {},
   "outputs": [],
   "source": [
    "clubs['txt'] = clubs['txt'].apply(cleantxt)"
   ]
  },
  {
   "cell_type": "code",
   "execution_count": 5,
   "metadata": {},
   "outputs": [],
   "source": [
    "stopwords = ['의', '가', '이', '은', '들', '는', '좀', '잘', '걍', '과', '도', '를', '으로', '자', '에', '와', '한', '하다']"
   ]
  },
  {
   "cell_type": "code",
   "execution_count": 7,
   "metadata": {},
   "outputs": [
    {
     "data": {
      "text/html": [
       "<div>\n",
       "<style scoped>\n",
       "    .dataframe tbody tr th:only-of-type {\n",
       "        vertical-align: middle;\n",
       "    }\n",
       "\n",
       "    .dataframe tbody tr th {\n",
       "        vertical-align: top;\n",
       "    }\n",
       "\n",
       "    .dataframe thead th {\n",
       "        text-align: right;\n",
       "    }\n",
       "</style>\n",
       "<table border=\"1\" class=\"dataframe\">\n",
       "  <thead>\n",
       "    <tr style=\"text-align: right;\">\n",
       "      <th></th>\n",
       "      <th>id</th>\n",
       "      <th>title</th>\n",
       "      <th>link</th>\n",
       "      <th>image</th>\n",
       "      <th>description</th>\n",
       "      <th>txt</th>\n",
       "    </tr>\n",
       "  </thead>\n",
       "  <tbody>\n",
       "    <tr>\n",
       "      <th>0</th>\n",
       "      <td>1</td>\n",
       "      <td>서울권 운동(스포츠) 연합 커뮤니티 STREET BOND</td>\n",
       "      <td>https://www.koreapas.com/bbs/view.php?id=circl...</td>\n",
       "      <td>['https://img.koreapas.com/i/d5e4e89/resize']</td>\n",
       "      <td>📌 STREET BOND 소개\\r\\n운동은 하고 싶은데, 몇 달 회비 끊고 하자니,...</td>\n",
       "      <td>서울권 운동(스포츠) 연합 커뮤니티 STREET BOND   STREET BOND ...</td>\n",
       "    </tr>\n",
       "    <tr>\n",
       "      <th>1</th>\n",
       "      <td>2</td>\n",
       "      <td>안녕하세요 한일문화연구회에서 함께할 동아리원을 모집합니다</td>\n",
       "      <td>https://www.koreapas.com/bbs/view.php?id=circl...</td>\n",
       "      <td>['https://img.koreapas.com/i/d3e4ae1/resize']</td>\n",
       "      <td>일본문화에 관심이 있으신가요? 심심한데 마땅한 동아리가 없으신가요? 중앙동아리 한일...</td>\n",
       "      <td>안녕하세요 한일문화연구회에서 함께할 동아리원을 모집합니다  일본문화에 관심이 있으신...</td>\n",
       "    </tr>\n",
       "    <tr>\n",
       "      <th>2</th>\n",
       "      <td>3</td>\n",
       "      <td>2020학년도 2학기 KUISA 14기 벗 모집이 하루 남았습니다!!!!!!</td>\n",
       "      <td>https://www.koreapas.com/bbs/view.php?id=circl...</td>\n",
       "      <td>['https://img.koreapas.com/i/2b9355e/resize']</td>\n",
       "      <td>👉2020년도 2학기 KUISA 14기 벗 모집 안내👈\\n\\r\\nKUISA란, Ko...</td>\n",
       "      <td>2020학년도 2학기 KUISA 14기 벗 모집이 하루 남았습니다!!!!!! 202...</td>\n",
       "    </tr>\n",
       "  </tbody>\n",
       "</table>\n",
       "</div>"
      ],
      "text/plain": [
       "   id                                        title  \\\n",
       "0   1           서울권 운동(스포츠) 연합 커뮤니티 STREET BOND      \n",
       "1   2           안녕하세요 한일문화연구회에서 함께할 동아리원을 모집합니다      \n",
       "2   3  2020학년도 2학기 KUISA 14기 벗 모집이 하루 남았습니다!!!!!!    \n",
       "\n",
       "                                                link  \\\n",
       "0  https://www.koreapas.com/bbs/view.php?id=circl...   \n",
       "1  https://www.koreapas.com/bbs/view.php?id=circl...   \n",
       "2  https://www.koreapas.com/bbs/view.php?id=circl...   \n",
       "\n",
       "                                           image  \\\n",
       "0  ['https://img.koreapas.com/i/d5e4e89/resize']   \n",
       "1  ['https://img.koreapas.com/i/d3e4ae1/resize']   \n",
       "2  ['https://img.koreapas.com/i/2b9355e/resize']   \n",
       "\n",
       "                                         description  \\\n",
       "0  📌 STREET BOND 소개\\r\\n운동은 하고 싶은데, 몇 달 회비 끊고 하자니,...   \n",
       "1  일본문화에 관심이 있으신가요? 심심한데 마땅한 동아리가 없으신가요? 중앙동아리 한일...   \n",
       "2  👉2020년도 2학기 KUISA 14기 벗 모집 안내👈\\n\\r\\nKUISA란, Ko...   \n",
       "\n",
       "                                                 txt  \n",
       "0  서울권 운동(스포츠) 연합 커뮤니티 STREET BOND   STREET BOND ...  \n",
       "1  안녕하세요 한일문화연구회에서 함께할 동아리원을 모집합니다  일본문화에 관심이 있으신...  \n",
       "2  2020학년도 2학기 KUISA 14기 벗 모집이 하루 남았습니다!!!!!! 202...  "
      ]
     },
     "execution_count": 7,
     "metadata": {},
     "output_type": "execute_result"
    }
   ],
   "source": [
    "clubs.head(3)"
   ]
  },
  {
   "cell_type": "code",
   "execution_count": 9,
   "metadata": {},
   "outputs": [],
   "source": [
    "from konlpy.tag import Okt\n",
    "from collections import Counter"
   ]
  },
  {
   "cell_type": "code",
   "execution_count": 14,
   "metadata": {},
   "outputs": [],
   "source": [
    "okt = Okt()\n",
    "noun = okt.nouns(clubs['txt'][0])\n",
    "count = Counter(noun)"
   ]
  },
  {
   "cell_type": "code",
   "execution_count": 15,
   "metadata": {},
   "outputs": [
    {
     "data": {
      "text/plain": [
       "Counter({'서울': 1,\n",
       "         '운동': 15,\n",
       "         '스포츠': 4,\n",
       "         '연합': 1,\n",
       "         '커뮤니티': 2,\n",
       "         '소개': 1,\n",
       "         '몇': 1,\n",
       "         '달': 1,\n",
       "         '회비': 1,\n",
       "         '하자': 1,\n",
       "         '돈': 1,\n",
       "         '혼자': 1,\n",
       "         '건': 1,\n",
       "         '재미': 1,\n",
       "         '우리': 1,\n",
       "         '동네': 1,\n",
       "         '하루': 1,\n",
       "         '비용': 1,\n",
       "         '수': 6,\n",
       "         '센터': 1,\n",
       "         '중심': 1,\n",
       "         '호스트': 3,\n",
       "         '개성': 1,\n",
       "         '프로그램': 2,\n",
       "         '임원': 1,\n",
       "         '소통': 1,\n",
       "         '강제': 2,\n",
       "         '모임': 5,\n",
       "         '풀이': 1,\n",
       "         '전혀': 1,\n",
       "         '참여': 1,\n",
       "         '이제': 1,\n",
       "         '내': 1,\n",
       "         '시간': 1,\n",
       "         '장소': 1,\n",
       "         '나': 2,\n",
       "         '대상': 1,\n",
       "         '성별': 2,\n",
       "         '직업': 2,\n",
       "         '종교': 1,\n",
       "         '등': 4,\n",
       "         '상관': 1,\n",
       "         '단': 1,\n",
       "         '운영': 1,\n",
       "         '불편': 1,\n",
       "         '주시': 1,\n",
       "         '분': 2,\n",
       "         '참여자': 1,\n",
       "         '강퇴': 1,\n",
       "         '활동': 4,\n",
       "         '내용': 1,\n",
       "         '도': 1,\n",
       "         '체험': 1,\n",
       "         '자신': 1,\n",
       "         '추후': 1,\n",
       "         '오픈': 1,\n",
       "         '공통': 1,\n",
       "         '목표': 1,\n",
       "         '멤버': 1,\n",
       "         '해당': 1,\n",
       "         '분야': 2,\n",
       "         '관련': 1,\n",
       "         '지식': 1,\n",
       "         '경험': 1,\n",
       "         '지원': 1,\n",
       "         '좀': 1,\n",
       "         '더': 1,\n",
       "         '전문': 1,\n",
       "         '동대문구': 1,\n",
       "         '성동구': 1,\n",
       "         '광진구': 1,\n",
       "         '건대': 1,\n",
       "         '주변': 1,\n",
       "         '강남구': 1,\n",
       "         '종류': 1,\n",
       "         '유도': 2,\n",
       "         '발레': 2,\n",
       "         '댄스': 2,\n",
       "         '등산': 2,\n",
       "         '추가': 1,\n",
       "         '예정': 1,\n",
       "         '참고': 1,\n",
       "         '재능': 1,\n",
       "         '공유': 1,\n",
       "         '신청': 2,\n",
       "         '문의': 2,\n",
       "         '가입': 3,\n",
       "         '및': 1,\n",
       "         '양식': 1,\n",
       "         '작성': 1,\n",
       "         '성명': 1,\n",
       "         '실명': 1,\n",
       "         '거주': 1,\n",
       "         '지역': 1,\n",
       "         '구': 1,\n",
       "         '학생': 1,\n",
       "         '직장인': 1,\n",
       "         '나이': 1,\n",
       "         '경로': 1,\n",
       "         '인스타': 1,\n",
       "         '에브리': 1,\n",
       "         '타임': 1,\n",
       "         '관심': 1,\n",
       "         '앞': 1,\n",
       "         '콘텐츠': 1,\n",
       "         '입': 1,\n",
       "         '반영': 1,\n",
       "         '경력': 1,\n",
       "         '복싱': 1,\n",
       "         '러닝': 2,\n",
       "         '주': 1,\n",
       "         '톡방': 1,\n",
       "         '이상': 1,\n",
       "         '참석': 1,\n",
       "         '초대': 1,\n",
       "         '예방': 1,\n",
       "         '요가': 1,\n",
       "         '동아리': 1})"
      ]
     },
     "execution_count": 15,
     "metadata": {},
     "output_type": "execute_result"
    }
   ],
   "source": [
    "count"
   ]
  },
  {
   "cell_type": "code",
   "execution_count": 16,
   "metadata": {},
   "outputs": [
    {
     "name": "stdout",
     "output_type": "stream",
     "text": [
      "('운동', 15)\n",
      "('수', 6)\n",
      "('모임', 5)\n",
      "('스포츠', 4)\n",
      "('등', 4)\n",
      "('활동', 4)\n",
      "('호스트', 3)\n",
      "('가입', 3)\n",
      "('커뮤니티', 2)\n",
      "('프로그램', 2)\n"
     ]
    }
   ],
   "source": [
    "noun_list = count.most_common(10)\n",
    "for v in noun_list:\n",
    "    print(v)"
   ]
  },
  {
   "cell_type": "code",
   "execution_count": 46,
   "metadata": {},
   "outputs": [
    {
     "name": "stdout",
     "output_type": "stream",
     "text": [
      "('운동', 10)\n",
      "('모임', 5)\n",
      "('활동', 4)\n",
      "('호스트', 3)\n",
      "('가입', 3)\n",
      "('스포츠', 2)\n",
      "('프로그램', 2)\n",
      "('강제', 2)\n",
      "('성별', 2)\n",
      "('직업', 2)\n"
     ]
    }
   ],
   "source": [
    "for i, v in enumerate(noun):\n",
    "    if len(v) < 2:\n",
    "        noun.pop(i)\n",
    "        \n",
    "count = Counter(noun)\n",
    "\n",
    "noun_list = count.most_common(10)\n",
    "for v in noun_list:\n",
    "    print(v)"
   ]
  },
  {
   "cell_type": "code",
   "execution_count": 47,
   "metadata": {},
   "outputs": [
    {
     "name": "stdout",
     "output_type": "stream",
     "text": [
      "[('운동', 10), ('모임', 5), ('활동', 4), ('호스트', 3), ('가입', 3), ('스포츠', 2), ('프로그램', 2), ('강제', 2), ('성별', 2), ('직업', 2)]\n",
      "('운동', 10)\n",
      "키워드 :  운동\n"
     ]
    }
   ],
   "source": [
    "print(noun_list)\n",
    "print(noun_list[0])\n",
    "print('키워드 : ', noun_list[0][0])"
   ]
  },
  {
   "cell_type": "code",
   "execution_count": 48,
   "metadata": {},
   "outputs": [
    {
     "data": {
      "text/plain": [
       "[('운동', 10),\n",
       " ('모임', 5),\n",
       " ('활동', 4),\n",
       " ('호스트', 3),\n",
       " ('가입', 3),\n",
       " ('스포츠', 2),\n",
       " ('프로그램', 2),\n",
       " ('강제', 2),\n",
       " ('성별', 2),\n",
       " ('직업', 2)]"
      ]
     },
     "execution_count": 48,
     "metadata": {},
     "output_type": "execute_result"
    }
   ],
   "source": [
    "noun_list"
   ]
  },
  {
   "cell_type": "code",
   "execution_count": 49,
   "metadata": {},
   "outputs": [
    {
     "name": "stdout",
     "output_type": "stream",
     "text": [
      "['운동', '모임', '활동', '호스트', '가입', '스포츠', '프로그램', '강제', '성별', '직업']\n"
     ]
    }
   ],
   "source": [
    "tags = []\n",
    "\n",
    "for n, c in noun_list:\n",
    "    dics = {'tag' : n, 'count' : c}\n",
    "    tags.append(dics['tag'])\n",
    "    \n",
    "print(tags)"
   ]
  },
  {
   "cell_type": "code",
   "execution_count": 68,
   "metadata": {},
   "outputs": [],
   "source": [
    "texts = clubs['txt']\n",
    "tags_list = []\n",
    "okt = Okt()\n",
    "\n",
    "for i in range(len(texts)):\n",
    "    text = texts[i]\n",
    "    noun = okt.nouns(text)\n",
    "    count = Counter(noun)\n",
    "    \n",
    "    tags = []\n",
    "    \n",
    "    for n, c in count.most_common(5):\n",
    "        dics = {'tag' : n, 'count' : c}\n",
    "        if len(dics['tag']) >= 2:\n",
    "            tags.append(dics['tag'])\n",
    "    tags_list.append(tags)   "
   ]
  },
  {
   "cell_type": "code",
   "execution_count": 69,
   "metadata": {},
   "outputs": [
    {
     "name": "stdout",
     "output_type": "stream",
     "text": [
      "['운동', '모임', '스포츠']\n",
      "['동아리', '문화', '활동', '연구']\n"
     ]
    }
   ],
   "source": [
    "print(tags_list[0])\n",
    "print(tags_list[1])"
   ]
  },
  {
   "cell_type": "code",
   "execution_count": 70,
   "metadata": {},
   "outputs": [],
   "source": [
    "clubs['tags'] = tags_list"
   ]
  },
  {
   "cell_type": "code",
   "execution_count": 71,
   "metadata": {},
   "outputs": [
    {
     "data": {
      "text/html": [
       "<div>\n",
       "<style scoped>\n",
       "    .dataframe tbody tr th:only-of-type {\n",
       "        vertical-align: middle;\n",
       "    }\n",
       "\n",
       "    .dataframe tbody tr th {\n",
       "        vertical-align: top;\n",
       "    }\n",
       "\n",
       "    .dataframe thead th {\n",
       "        text-align: right;\n",
       "    }\n",
       "</style>\n",
       "<table border=\"1\" class=\"dataframe\">\n",
       "  <thead>\n",
       "    <tr style=\"text-align: right;\">\n",
       "      <th></th>\n",
       "      <th>id</th>\n",
       "      <th>title</th>\n",
       "      <th>link</th>\n",
       "      <th>image</th>\n",
       "      <th>description</th>\n",
       "      <th>txt</th>\n",
       "      <th>tags</th>\n",
       "    </tr>\n",
       "  </thead>\n",
       "  <tbody>\n",
       "    <tr>\n",
       "      <th>0</th>\n",
       "      <td>1</td>\n",
       "      <td>서울권 운동(스포츠) 연합 커뮤니티 STREET BOND</td>\n",
       "      <td>https://www.koreapas.com/bbs/view.php?id=circl...</td>\n",
       "      <td>['https://img.koreapas.com/i/d5e4e89/resize']</td>\n",
       "      <td>📌 STREET BOND 소개\\r\\n운동은 하고 싶은데, 몇 달 회비 끊고 하자니,...</td>\n",
       "      <td>서울권 운동(스포츠) 연합 커뮤니티 STREET BOND   STREET BOND ...</td>\n",
       "      <td>[운동, 모임, 스포츠]</td>\n",
       "    </tr>\n",
       "    <tr>\n",
       "      <th>1</th>\n",
       "      <td>2</td>\n",
       "      <td>안녕하세요 한일문화연구회에서 함께할 동아리원을 모집합니다</td>\n",
       "      <td>https://www.koreapas.com/bbs/view.php?id=circl...</td>\n",
       "      <td>['https://img.koreapas.com/i/d3e4ae1/resize']</td>\n",
       "      <td>일본문화에 관심이 있으신가요? 심심한데 마땅한 동아리가 없으신가요? 중앙동아리 한일...</td>\n",
       "      <td>안녕하세요 한일문화연구회에서 함께할 동아리원을 모집합니다  일본문화에 관심이 있으신...</td>\n",
       "      <td>[동아리, 문화, 활동, 연구]</td>\n",
       "    </tr>\n",
       "    <tr>\n",
       "      <th>2</th>\n",
       "      <td>3</td>\n",
       "      <td>2020학년도 2학기 KUISA 14기 벗 모집이 하루 남았습니다!!!!!!</td>\n",
       "      <td>https://www.koreapas.com/bbs/view.php?id=circl...</td>\n",
       "      <td>['https://img.koreapas.com/i/2b9355e/resize']</td>\n",
       "      <td>👉2020년도 2학기 KUISA 14기 벗 모집 안내👈\\n\\r\\nKUISA란, Ko...</td>\n",
       "      <td>2020학년도 2학기 KUISA 14기 벗 모집이 하루 남았습니다!!!!!! 202...</td>\n",
       "      <td>[활동, 학생, 모집, 도움]</td>\n",
       "    </tr>\n",
       "    <tr>\n",
       "      <th>3</th>\n",
       "      <td>4</td>\n",
       "      <td>1분 명상법~! </td>\n",
       "      <td>https://www.koreapas.com/bbs/view.php?id=circl...</td>\n",
       "      <td>['https://img.koreapas.com/i/484c9e2/resize', ...</td>\n",
       "      <td>안녕하세요! 원불교 학생회입니다. ㅎㅎ\\r\\n이번에는 명상을 어떻게 하는 지에 대한...</td>\n",
       "      <td>1분 명상법!  안녕하세요! 원불교 학생회입니다.  이번에는 명상을 어떻게 하는 지...</td>\n",
       "      <td>[명상, 오후, 진행, 원불교]</td>\n",
       "    </tr>\n",
       "    <tr>\n",
       "      <th>4</th>\n",
       "      <td>5</td>\n",
       "      <td>연합발표토론동아리 POP 22기 모집합니다 !</td>\n",
       "      <td>https://www.koreapas.com/bbs/view.php?id=circl...</td>\n",
       "      <td>['https://img.koreapas.com/i/607084d/resize', ...</td>\n",
       "      <td>[22기 P.O.P 단원 모집!]\\n\\r\\n📢 스펙업 대표동아리 Top30\\r\\n📢...</td>\n",
       "      <td>연합발표토론동아리 POP 22기 모집합니다 ! 22기 P.O.P 단원 모집!   스...</td>\n",
       "      <td>[발표, 피드백, 토론, 동아리, 공식]</td>\n",
       "    </tr>\n",
       "  </tbody>\n",
       "</table>\n",
       "</div>"
      ],
      "text/plain": [
       "   id                                        title  \\\n",
       "0   1           서울권 운동(스포츠) 연합 커뮤니티 STREET BOND      \n",
       "1   2           안녕하세요 한일문화연구회에서 함께할 동아리원을 모집합니다      \n",
       "2   3  2020학년도 2학기 KUISA 14기 벗 모집이 하루 남았습니다!!!!!!    \n",
       "3   4                                  1분 명상법~!     \n",
       "4   5                   연합발표토론동아리 POP 22기 모집합니다 !    \n",
       "\n",
       "                                                link  \\\n",
       "0  https://www.koreapas.com/bbs/view.php?id=circl...   \n",
       "1  https://www.koreapas.com/bbs/view.php?id=circl...   \n",
       "2  https://www.koreapas.com/bbs/view.php?id=circl...   \n",
       "3  https://www.koreapas.com/bbs/view.php?id=circl...   \n",
       "4  https://www.koreapas.com/bbs/view.php?id=circl...   \n",
       "\n",
       "                                               image  \\\n",
       "0      ['https://img.koreapas.com/i/d5e4e89/resize']   \n",
       "1      ['https://img.koreapas.com/i/d3e4ae1/resize']   \n",
       "2      ['https://img.koreapas.com/i/2b9355e/resize']   \n",
       "3  ['https://img.koreapas.com/i/484c9e2/resize', ...   \n",
       "4  ['https://img.koreapas.com/i/607084d/resize', ...   \n",
       "\n",
       "                                         description  \\\n",
       "0  📌 STREET BOND 소개\\r\\n운동은 하고 싶은데, 몇 달 회비 끊고 하자니,...   \n",
       "1  일본문화에 관심이 있으신가요? 심심한데 마땅한 동아리가 없으신가요? 중앙동아리 한일...   \n",
       "2  👉2020년도 2학기 KUISA 14기 벗 모집 안내👈\\n\\r\\nKUISA란, Ko...   \n",
       "3  안녕하세요! 원불교 학생회입니다. ㅎㅎ\\r\\n이번에는 명상을 어떻게 하는 지에 대한...   \n",
       "4  [22기 P.O.P 단원 모집!]\\n\\r\\n📢 스펙업 대표동아리 Top30\\r\\n📢...   \n",
       "\n",
       "                                                 txt                    tags  \n",
       "0  서울권 운동(스포츠) 연합 커뮤니티 STREET BOND   STREET BOND ...           [운동, 모임, 스포츠]  \n",
       "1  안녕하세요 한일문화연구회에서 함께할 동아리원을 모집합니다  일본문화에 관심이 있으신...       [동아리, 문화, 활동, 연구]  \n",
       "2  2020학년도 2학기 KUISA 14기 벗 모집이 하루 남았습니다!!!!!! 202...        [활동, 학생, 모집, 도움]  \n",
       "3  1분 명상법!  안녕하세요! 원불교 학생회입니다.  이번에는 명상을 어떻게 하는 지...       [명상, 오후, 진행, 원불교]  \n",
       "4  연합발표토론동아리 POP 22기 모집합니다 ! 22기 P.O.P 단원 모집!   스...  [발표, 피드백, 토론, 동아리, 공식]  "
      ]
     },
     "execution_count": 71,
     "metadata": {},
     "output_type": "execute_result"
    }
   ],
   "source": [
    "clubs.head()"
   ]
  },
  {
   "cell_type": "code",
   "execution_count": 73,
   "metadata": {},
   "outputs": [
    {
     "data": {
      "text/plain": [
       "['운동', '모임', '스포츠']"
      ]
     },
     "execution_count": 73,
     "metadata": {},
     "output_type": "execute_result"
    }
   ],
   "source": [
    "a = clubs['tags'][0]\n",
    "a"
   ]
  },
  {
   "cell_type": "code",
   "execution_count": 75,
   "metadata": {},
   "outputs": [
    {
     "data": {
      "text/plain": [
       "\"'운동', '모임', '스포츠'\""
      ]
     },
     "execution_count": 75,
     "metadata": {},
     "output_type": "execute_result"
    }
   ],
   "source": [
    "str(a)[1:-1]"
   ]
  },
  {
   "cell_type": "code",
   "execution_count": 85,
   "metadata": {},
   "outputs": [
    {
     "name": "stderr",
     "output_type": "stream",
     "text": [
      "C:\\Users\\ky_moon\\Anaconda3\\envs\\test\\lib\\site-packages\\ipykernel_launcher.py:2: SettingWithCopyWarning: \n",
      "A value is trying to be set on a copy of a slice from a DataFrame\n",
      "\n",
      "See the caveats in the documentation: https://pandas.pydata.org/pandas-docs/stable/user_guide/indexing.html#returning-a-view-versus-a-copy\n",
      "  \n"
     ]
    }
   ],
   "source": [
    "for i in range(len(clubs['tags'])):\n",
    "    clubs['tags'][i] = str(clubs['tags'][i])[1:-1]"
   ]
  },
  {
   "cell_type": "code",
   "execution_count": 86,
   "metadata": {},
   "outputs": [
    {
     "data": {
      "text/html": [
       "<div>\n",
       "<style scoped>\n",
       "    .dataframe tbody tr th:only-of-type {\n",
       "        vertical-align: middle;\n",
       "    }\n",
       "\n",
       "    .dataframe tbody tr th {\n",
       "        vertical-align: top;\n",
       "    }\n",
       "\n",
       "    .dataframe thead th {\n",
       "        text-align: right;\n",
       "    }\n",
       "</style>\n",
       "<table border=\"1\" class=\"dataframe\">\n",
       "  <thead>\n",
       "    <tr style=\"text-align: right;\">\n",
       "      <th></th>\n",
       "      <th>id</th>\n",
       "      <th>title</th>\n",
       "      <th>link</th>\n",
       "      <th>image</th>\n",
       "      <th>description</th>\n",
       "      <th>txt</th>\n",
       "      <th>tags</th>\n",
       "    </tr>\n",
       "  </thead>\n",
       "  <tbody>\n",
       "    <tr>\n",
       "      <th>0</th>\n",
       "      <td>1</td>\n",
       "      <td>서울권 운동(스포츠) 연합 커뮤니티 STREET BOND</td>\n",
       "      <td>https://www.koreapas.com/bbs/view.php?id=circl...</td>\n",
       "      <td>['https://img.koreapas.com/i/d5e4e89/resize']</td>\n",
       "      <td>📌 STREET BOND 소개\\r\\n운동은 하고 싶은데, 몇 달 회비 끊고 하자니,...</td>\n",
       "      <td>서울권 운동(스포츠) 연합 커뮤니티 STREET BOND   STREET BOND ...</td>\n",
       "      <td>'운동', '모임', '스포츠'</td>\n",
       "    </tr>\n",
       "    <tr>\n",
       "      <th>1</th>\n",
       "      <td>2</td>\n",
       "      <td>안녕하세요 한일문화연구회에서 함께할 동아리원을 모집합니다</td>\n",
       "      <td>https://www.koreapas.com/bbs/view.php?id=circl...</td>\n",
       "      <td>['https://img.koreapas.com/i/d3e4ae1/resize']</td>\n",
       "      <td>일본문화에 관심이 있으신가요? 심심한데 마땅한 동아리가 없으신가요? 중앙동아리 한일...</td>\n",
       "      <td>안녕하세요 한일문화연구회에서 함께할 동아리원을 모집합니다  일본문화에 관심이 있으신...</td>\n",
       "      <td>'동아리', '문화', '활동', '연구'</td>\n",
       "    </tr>\n",
       "    <tr>\n",
       "      <th>2</th>\n",
       "      <td>3</td>\n",
       "      <td>2020학년도 2학기 KUISA 14기 벗 모집이 하루 남았습니다!!!!!!</td>\n",
       "      <td>https://www.koreapas.com/bbs/view.php?id=circl...</td>\n",
       "      <td>['https://img.koreapas.com/i/2b9355e/resize']</td>\n",
       "      <td>👉2020년도 2학기 KUISA 14기 벗 모집 안내👈\\n\\r\\nKUISA란, Ko...</td>\n",
       "      <td>2020학년도 2학기 KUISA 14기 벗 모집이 하루 남았습니다!!!!!! 202...</td>\n",
       "      <td>'활동', '학생', '모집', '도움'</td>\n",
       "    </tr>\n",
       "    <tr>\n",
       "      <th>3</th>\n",
       "      <td>4</td>\n",
       "      <td>1분 명상법~! </td>\n",
       "      <td>https://www.koreapas.com/bbs/view.php?id=circl...</td>\n",
       "      <td>['https://img.koreapas.com/i/484c9e2/resize', ...</td>\n",
       "      <td>안녕하세요! 원불교 학생회입니다. ㅎㅎ\\r\\n이번에는 명상을 어떻게 하는 지에 대한...</td>\n",
       "      <td>1분 명상법!  안녕하세요! 원불교 학생회입니다.  이번에는 명상을 어떻게 하는 지...</td>\n",
       "      <td>'명상', '오후', '진행', '원불교'</td>\n",
       "    </tr>\n",
       "    <tr>\n",
       "      <th>4</th>\n",
       "      <td>5</td>\n",
       "      <td>연합발표토론동아리 POP 22기 모집합니다 !</td>\n",
       "      <td>https://www.koreapas.com/bbs/view.php?id=circl...</td>\n",
       "      <td>['https://img.koreapas.com/i/607084d/resize', ...</td>\n",
       "      <td>[22기 P.O.P 단원 모집!]\\n\\r\\n📢 스펙업 대표동아리 Top30\\r\\n📢...</td>\n",
       "      <td>연합발표토론동아리 POP 22기 모집합니다 ! 22기 P.O.P 단원 모집!   스...</td>\n",
       "      <td>'발표', '피드백', '토론', '동아리', '공식'</td>\n",
       "    </tr>\n",
       "  </tbody>\n",
       "</table>\n",
       "</div>"
      ],
      "text/plain": [
       "   id                                        title  \\\n",
       "0   1           서울권 운동(스포츠) 연합 커뮤니티 STREET BOND      \n",
       "1   2           안녕하세요 한일문화연구회에서 함께할 동아리원을 모집합니다      \n",
       "2   3  2020학년도 2학기 KUISA 14기 벗 모집이 하루 남았습니다!!!!!!    \n",
       "3   4                                  1분 명상법~!     \n",
       "4   5                   연합발표토론동아리 POP 22기 모집합니다 !    \n",
       "\n",
       "                                                link  \\\n",
       "0  https://www.koreapas.com/bbs/view.php?id=circl...   \n",
       "1  https://www.koreapas.com/bbs/view.php?id=circl...   \n",
       "2  https://www.koreapas.com/bbs/view.php?id=circl...   \n",
       "3  https://www.koreapas.com/bbs/view.php?id=circl...   \n",
       "4  https://www.koreapas.com/bbs/view.php?id=circl...   \n",
       "\n",
       "                                               image  \\\n",
       "0      ['https://img.koreapas.com/i/d5e4e89/resize']   \n",
       "1      ['https://img.koreapas.com/i/d3e4ae1/resize']   \n",
       "2      ['https://img.koreapas.com/i/2b9355e/resize']   \n",
       "3  ['https://img.koreapas.com/i/484c9e2/resize', ...   \n",
       "4  ['https://img.koreapas.com/i/607084d/resize', ...   \n",
       "\n",
       "                                         description  \\\n",
       "0  📌 STREET BOND 소개\\r\\n운동은 하고 싶은데, 몇 달 회비 끊고 하자니,...   \n",
       "1  일본문화에 관심이 있으신가요? 심심한데 마땅한 동아리가 없으신가요? 중앙동아리 한일...   \n",
       "2  👉2020년도 2학기 KUISA 14기 벗 모집 안내👈\\n\\r\\nKUISA란, Ko...   \n",
       "3  안녕하세요! 원불교 학생회입니다. ㅎㅎ\\r\\n이번에는 명상을 어떻게 하는 지에 대한...   \n",
       "4  [22기 P.O.P 단원 모집!]\\n\\r\\n📢 스펙업 대표동아리 Top30\\r\\n📢...   \n",
       "\n",
       "                                                 txt  \\\n",
       "0  서울권 운동(스포츠) 연합 커뮤니티 STREET BOND   STREET BOND ...   \n",
       "1  안녕하세요 한일문화연구회에서 함께할 동아리원을 모집합니다  일본문화에 관심이 있으신...   \n",
       "2  2020학년도 2학기 KUISA 14기 벗 모집이 하루 남았습니다!!!!!! 202...   \n",
       "3  1분 명상법!  안녕하세요! 원불교 학생회입니다.  이번에는 명상을 어떻게 하는 지...   \n",
       "4  연합발표토론동아리 POP 22기 모집합니다 ! 22기 P.O.P 단원 모집!   스...   \n",
       "\n",
       "                             tags  \n",
       "0               '운동', '모임', '스포츠'  \n",
       "1         '동아리', '문화', '활동', '연구'  \n",
       "2          '활동', '학생', '모집', '도움'  \n",
       "3         '명상', '오후', '진행', '원불교'  \n",
       "4  '발표', '피드백', '토론', '동아리', '공식'  "
      ]
     },
     "execution_count": 86,
     "metadata": {},
     "output_type": "execute_result"
    }
   ],
   "source": [
    "clubs.head()"
   ]
  },
  {
   "cell_type": "code",
   "execution_count": null,
   "metadata": {},
   "outputs": [],
   "source": []
  },
  {
   "cell_type": "code",
   "execution_count": null,
   "metadata": {},
   "outputs": [],
   "source": []
  }
 ],
 "metadata": {
  "kernelspec": {
   "display_name": "Python 3",
   "language": "python",
   "name": "python3"
  },
  "language_info": {
   "codemirror_mode": {
    "name": "ipython",
    "version": 3
   },
   "file_extension": ".py",
   "mimetype": "text/x-python",
   "name": "python",
   "nbconvert_exporter": "python",
   "pygments_lexer": "ipython3",
   "version": "3.6.10"
  }
 },
 "nbformat": 4,
 "nbformat_minor": 4
}
