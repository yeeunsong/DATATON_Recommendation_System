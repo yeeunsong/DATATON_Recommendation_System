{
 "cells": [
  {
   "cell_type": "markdown",
   "metadata": {},
   "source": [
    "## Text Preprocessing (w/ KoNLPy)"
   ]
  },
  {
   "cell_type": "code",
   "execution_count": 1,
   "metadata": {},
   "outputs": [
    {
     "data": {
      "text/html": [
       "<div>\n",
       "<style scoped>\n",
       "    .dataframe tbody tr th:only-of-type {\n",
       "        vertical-align: middle;\n",
       "    }\n",
       "\n",
       "    .dataframe tbody tr th {\n",
       "        vertical-align: top;\n",
       "    }\n",
       "\n",
       "    .dataframe thead th {\n",
       "        text-align: right;\n",
       "    }\n",
       "</style>\n",
       "<table border=\"1\" class=\"dataframe\">\n",
       "  <thead>\n",
       "    <tr style=\"text-align: right;\">\n",
       "      <th></th>\n",
       "      <th>id</th>\n",
       "      <th>title</th>\n",
       "      <th>link</th>\n",
       "      <th>image</th>\n",
       "      <th>description</th>\n",
       "    </tr>\n",
       "  </thead>\n",
       "  <tbody>\n",
       "    <tr>\n",
       "      <th>0</th>\n",
       "      <td>1</td>\n",
       "      <td>서울권 운동(스포츠) 연합 커뮤니티 STREET BOND</td>\n",
       "      <td>https://www.koreapas.com/bbs/view.php?id=circl...</td>\n",
       "      <td>['https://img.koreapas.com/i/d5e4e89/resize']</td>\n",
       "      <td>📌 STREET BOND 소개\\r\\n운동은 하고 싶은데, 몇 달 회비 끊고 하자니,...</td>\n",
       "    </tr>\n",
       "    <tr>\n",
       "      <th>1</th>\n",
       "      <td>2</td>\n",
       "      <td>안녕하세요 한일문화연구회에서 함께할 동아리원을 모집합니다</td>\n",
       "      <td>https://www.koreapas.com/bbs/view.php?id=circl...</td>\n",
       "      <td>['https://img.koreapas.com/i/d3e4ae1/resize']</td>\n",
       "      <td>일본문화에 관심이 있으신가요? 심심한데 마땅한 동아리가 없으신가요? 중앙동아리 한일...</td>\n",
       "    </tr>\n",
       "    <tr>\n",
       "      <th>2</th>\n",
       "      <td>3</td>\n",
       "      <td>2020학년도 2학기 KUISA 14기 벗 모집이 하루 남았습니다!!!!!!</td>\n",
       "      <td>https://www.koreapas.com/bbs/view.php?id=circl...</td>\n",
       "      <td>['https://img.koreapas.com/i/2b9355e/resize']</td>\n",
       "      <td>👉2020년도 2학기 KUISA 14기 벗 모집 안내👈\\n\\r\\nKUISA란, Ko...</td>\n",
       "    </tr>\n",
       "    <tr>\n",
       "      <th>3</th>\n",
       "      <td>4</td>\n",
       "      <td>1분 명상법~! </td>\n",
       "      <td>https://www.koreapas.com/bbs/view.php?id=circl...</td>\n",
       "      <td>['https://img.koreapas.com/i/484c9e2/resize', ...</td>\n",
       "      <td>안녕하세요! 원불교 학생회입니다. ㅎㅎ\\r\\n이번에는 명상을 어떻게 하는 지에 대한...</td>\n",
       "    </tr>\n",
       "    <tr>\n",
       "      <th>4</th>\n",
       "      <td>5</td>\n",
       "      <td>연합발표토론동아리 POP 22기 모집합니다 !</td>\n",
       "      <td>https://www.koreapas.com/bbs/view.php?id=circl...</td>\n",
       "      <td>['https://img.koreapas.com/i/607084d/resize', ...</td>\n",
       "      <td>[22기 P.O.P 단원 모집!]\\n\\r\\n📢 스펙업 대표동아리 Top30\\r\\n📢...</td>\n",
       "    </tr>\n",
       "  </tbody>\n",
       "</table>\n",
       "</div>"
      ],
      "text/plain": [
       "   id                                        title  \\\n",
       "0   1           서울권 운동(스포츠) 연합 커뮤니티 STREET BOND      \n",
       "1   2           안녕하세요 한일문화연구회에서 함께할 동아리원을 모집합니다      \n",
       "2   3  2020학년도 2학기 KUISA 14기 벗 모집이 하루 남았습니다!!!!!!    \n",
       "3   4                                  1분 명상법~!     \n",
       "4   5                   연합발표토론동아리 POP 22기 모집합니다 !    \n",
       "\n",
       "                                                link  \\\n",
       "0  https://www.koreapas.com/bbs/view.php?id=circl...   \n",
       "1  https://www.koreapas.com/bbs/view.php?id=circl...   \n",
       "2  https://www.koreapas.com/bbs/view.php?id=circl...   \n",
       "3  https://www.koreapas.com/bbs/view.php?id=circl...   \n",
       "4  https://www.koreapas.com/bbs/view.php?id=circl...   \n",
       "\n",
       "                                               image  \\\n",
       "0      ['https://img.koreapas.com/i/d5e4e89/resize']   \n",
       "1      ['https://img.koreapas.com/i/d3e4ae1/resize']   \n",
       "2      ['https://img.koreapas.com/i/2b9355e/resize']   \n",
       "3  ['https://img.koreapas.com/i/484c9e2/resize', ...   \n",
       "4  ['https://img.koreapas.com/i/607084d/resize', ...   \n",
       "\n",
       "                                         description  \n",
       "0  📌 STREET BOND 소개\\r\\n운동은 하고 싶은데, 몇 달 회비 끊고 하자니,...  \n",
       "1  일본문화에 관심이 있으신가요? 심심한데 마땅한 동아리가 없으신가요? 중앙동아리 한일...  \n",
       "2  👉2020년도 2학기 KUISA 14기 벗 모집 안내👈\\n\\r\\nKUISA란, Ko...  \n",
       "3  안녕하세요! 원불교 학생회입니다. ㅎㅎ\\r\\n이번에는 명상을 어떻게 하는 지에 대한...  \n",
       "4  [22기 P.O.P 단원 모집!]\\n\\r\\n📢 스펙업 대표동아리 Top30\\r\\n📢...  "
      ]
     },
     "execution_count": 1,
     "metadata": {},
     "output_type": "execute_result"
    }
   ],
   "source": [
    "import pandas as pd\n",
    "import re\n",
    "clubs = pd.read_csv('clubs.csv')\n",
    "clubs.head()"
   ]
  },
  {
   "cell_type": "code",
   "execution_count": 2,
   "metadata": {},
   "outputs": [
    {
     "data": {
      "text/html": [
       "<div>\n",
       "<style scoped>\n",
       "    .dataframe tbody tr th:only-of-type {\n",
       "        vertical-align: middle;\n",
       "    }\n",
       "\n",
       "    .dataframe tbody tr th {\n",
       "        vertical-align: top;\n",
       "    }\n",
       "\n",
       "    .dataframe thead th {\n",
       "        text-align: right;\n",
       "    }\n",
       "</style>\n",
       "<table border=\"1\" class=\"dataframe\">\n",
       "  <thead>\n",
       "    <tr style=\"text-align: right;\">\n",
       "      <th></th>\n",
       "      <th>id</th>\n",
       "      <th>title</th>\n",
       "      <th>link</th>\n",
       "      <th>description</th>\n",
       "    </tr>\n",
       "  </thead>\n",
       "  <tbody>\n",
       "    <tr>\n",
       "      <th>0</th>\n",
       "      <td>1</td>\n",
       "      <td>서울권 운동(스포츠) 연합 커뮤니티 STREET BOND</td>\n",
       "      <td>https://www.koreapas.com/bbs/view.php?id=circl...</td>\n",
       "      <td>📌 STREET BOND 소개\\r\\n운동은 하고 싶은데, 몇 달 회비 끊고 하자니,...</td>\n",
       "    </tr>\n",
       "    <tr>\n",
       "      <th>1</th>\n",
       "      <td>2</td>\n",
       "      <td>안녕하세요 한일문화연구회에서 함께할 동아리원을 모집합니다</td>\n",
       "      <td>https://www.koreapas.com/bbs/view.php?id=circl...</td>\n",
       "      <td>일본문화에 관심이 있으신가요? 심심한데 마땅한 동아리가 없으신가요? 중앙동아리 한일...</td>\n",
       "    </tr>\n",
       "    <tr>\n",
       "      <th>2</th>\n",
       "      <td>3</td>\n",
       "      <td>2020학년도 2학기 KUISA 14기 벗 모집이 하루 남았습니다!!!!!!</td>\n",
       "      <td>https://www.koreapas.com/bbs/view.php?id=circl...</td>\n",
       "      <td>👉2020년도 2학기 KUISA 14기 벗 모집 안내👈\\n\\r\\nKUISA란, Ko...</td>\n",
       "    </tr>\n",
       "    <tr>\n",
       "      <th>3</th>\n",
       "      <td>4</td>\n",
       "      <td>1분 명상법~! </td>\n",
       "      <td>https://www.koreapas.com/bbs/view.php?id=circl...</td>\n",
       "      <td>안녕하세요! 원불교 학생회입니다. ㅎㅎ\\r\\n이번에는 명상을 어떻게 하는 지에 대한...</td>\n",
       "    </tr>\n",
       "    <tr>\n",
       "      <th>4</th>\n",
       "      <td>5</td>\n",
       "      <td>연합발표토론동아리 POP 22기 모집합니다 !</td>\n",
       "      <td>https://www.koreapas.com/bbs/view.php?id=circl...</td>\n",
       "      <td>[22기 P.O.P 단원 모집!]\\n\\r\\n📢 스펙업 대표동아리 Top30\\r\\n📢...</td>\n",
       "    </tr>\n",
       "    <tr>\n",
       "      <th>...</th>\n",
       "      <td>...</td>\n",
       "      <td>...</td>\n",
       "      <td>...</td>\n",
       "      <td>...</td>\n",
       "    </tr>\n",
       "    <tr>\n",
       "      <th>595</th>\n",
       "      <td>596</td>\n",
       "      <td>⭐️고려대 유일 사격동아리 '명중사격부' 신입부원 모집⭐️</td>\n",
       "      <td>https://www.koreapas.com/bbs/view.php?id=circl...</td>\n",
       "      <td>🔥너의 마음을 명중🔥 넌 이미 신청서를 쓰고 있다!!🔥 (~3/29)\\n\\r\\n고려...</td>\n",
       "    </tr>\n",
       "    <tr>\n",
       "      <th>596</th>\n",
       "      <td>597</td>\n",
       "      <td>○ 중앙동아리 예술비평연구회에서 신입회원을 모집합니다! ○</td>\n",
       "      <td>https://www.koreapas.com/bbs/view.php?id=circl...</td>\n",
       "      <td>===== 2020년 1학기는 세미나를 화요일이 아닌 수요일에 진행하기로 했습니다....</td>\n",
       "    </tr>\n",
       "    <tr>\n",
       "      <th>597</th>\n",
       "      <td>598</td>\n",
       "      <td>[오늘 8시 마감]💡고려대학교 유일의 브랜드 컨설팅 학회 CREAKET에서 14기를...</td>\n",
       "      <td>https://www.koreapas.com/bbs/view.php?id=circl...</td>\n",
       "      <td>🔥🔥오늘 8시 서류 마감🔥🔥\\r\\n🔆🔆망설이지 말고 지원해주세요🔆🔆\\n\\r\\n🎨Fi...</td>\n",
       "    </tr>\n",
       "    <tr>\n",
       "      <th>598</th>\n",
       "      <td>599</td>\n",
       "      <td>[D-1] ⚠Partyproviders 27th 2차 리크루팅‼ ~3.22</td>\n",
       "      <td>https://www.koreapas.com/bbs/view.php?id=circl...</td>\n",
       "      <td>많은 문의와 요청에 힘입어, Partyproviders의 2차 리크루팅이 오늘부터 ...</td>\n",
       "    </tr>\n",
       "    <tr>\n",
       "      <th>599</th>\n",
       "      <td>600</td>\n",
       "      <td>[KUHS] 고려대학교 ‘호스피스 봉사동아리 (KUHS)’에서 신입부원을 모집합니다...</td>\n",
       "      <td>https://www.koreapas.com/bbs/view.php?id=circl...</td>\n",
       "      <td>💌 KUHS (Korea University Hospice Society; 고려대학...</td>\n",
       "    </tr>\n",
       "  </tbody>\n",
       "</table>\n",
       "<p>600 rows × 4 columns</p>\n",
       "</div>"
      ],
      "text/plain": [
       "      id                                              title  \\\n",
       "0      1                 서울권 운동(스포츠) 연합 커뮤니티 STREET BOND      \n",
       "1      2                 안녕하세요 한일문화연구회에서 함께할 동아리원을 모집합니다      \n",
       "2      3        2020학년도 2학기 KUISA 14기 벗 모집이 하루 남았습니다!!!!!!    \n",
       "3      4                                        1분 명상법~!     \n",
       "4      5                         연합발표토론동아리 POP 22기 모집합니다 !    \n",
       "..   ...                                                ...   \n",
       "595  596                  ⭐️고려대 유일 사격동아리 '명중사격부' 신입부원 모집⭐️    \n",
       "596  597                  ○ 중앙동아리 예술비평연구회에서 신입회원을 모집합니다! ○    \n",
       "597  598  [오늘 8시 마감]💡고려대학교 유일의 브랜드 컨설팅 학회 CREAKET에서 14기를...   \n",
       "598  599         [D-1] ⚠Partyproviders 27th 2차 리크루팅‼ ~3.22    \n",
       "599  600  [KUHS] 고려대학교 ‘호스피스 봉사동아리 (KUHS)’에서 신입부원을 모집합니다...   \n",
       "\n",
       "                                                  link  \\\n",
       "0    https://www.koreapas.com/bbs/view.php?id=circl...   \n",
       "1    https://www.koreapas.com/bbs/view.php?id=circl...   \n",
       "2    https://www.koreapas.com/bbs/view.php?id=circl...   \n",
       "3    https://www.koreapas.com/bbs/view.php?id=circl...   \n",
       "4    https://www.koreapas.com/bbs/view.php?id=circl...   \n",
       "..                                                 ...   \n",
       "595  https://www.koreapas.com/bbs/view.php?id=circl...   \n",
       "596  https://www.koreapas.com/bbs/view.php?id=circl...   \n",
       "597  https://www.koreapas.com/bbs/view.php?id=circl...   \n",
       "598  https://www.koreapas.com/bbs/view.php?id=circl...   \n",
       "599  https://www.koreapas.com/bbs/view.php?id=circl...   \n",
       "\n",
       "                                           description  \n",
       "0    📌 STREET BOND 소개\\r\\n운동은 하고 싶은데, 몇 달 회비 끊고 하자니,...  \n",
       "1    일본문화에 관심이 있으신가요? 심심한데 마땅한 동아리가 없으신가요? 중앙동아리 한일...  \n",
       "2    👉2020년도 2학기 KUISA 14기 벗 모집 안내👈\\n\\r\\nKUISA란, Ko...  \n",
       "3    안녕하세요! 원불교 학생회입니다. ㅎㅎ\\r\\n이번에는 명상을 어떻게 하는 지에 대한...  \n",
       "4    [22기 P.O.P 단원 모집!]\\n\\r\\n📢 스펙업 대표동아리 Top30\\r\\n📢...  \n",
       "..                                                 ...  \n",
       "595  🔥너의 마음을 명중🔥 넌 이미 신청서를 쓰고 있다!!🔥 (~3/29)\\n\\r\\n고려...  \n",
       "596  ===== 2020년 1학기는 세미나를 화요일이 아닌 수요일에 진행하기로 했습니다....  \n",
       "597  🔥🔥오늘 8시 서류 마감🔥🔥\\r\\n🔆🔆망설이지 말고 지원해주세요🔆🔆\\n\\r\\n🎨Fi...  \n",
       "598  많은 문의와 요청에 힘입어, Partyproviders의 2차 리크루팅이 오늘부터 ...  \n",
       "599  💌 KUHS (Korea University Hospice Society; 고려대학...  \n",
       "\n",
       "[600 rows x 4 columns]"
      ]
     },
     "execution_count": 2,
     "metadata": {},
     "output_type": "execute_result"
    }
   ],
   "source": [
    "clubs[['id','title','link','description']]"
   ]
  },
  {
   "cell_type": "code",
   "execution_count": 3,
   "metadata": {},
   "outputs": [
    {
     "name": "stdout",
     "output_type": "stream",
     "text": [
      "<class 'pandas.core.frame.DataFrame'>\n",
      "RangeIndex: 600 entries, 0 to 599\n",
      "Data columns (total 5 columns):\n",
      " #   Column       Non-Null Count  Dtype \n",
      "---  ------       --------------  ----- \n",
      " 0   id           600 non-null    int64 \n",
      " 1   title        600 non-null    object\n",
      " 2   link         600 non-null    object\n",
      " 3   image        600 non-null    object\n",
      " 4   description  600 non-null    object\n",
      "dtypes: int64(1), object(4)\n",
      "memory usage: 23.6+ KB\n"
     ]
    }
   ],
   "source": [
    "clubs.info()"
   ]
  },
  {
   "cell_type": "code",
   "execution_count": 4,
   "metadata": {},
   "outputs": [],
   "source": [
    "clubs['txt'] = clubs['title']+clubs['description']"
   ]
  },
  {
   "cell_type": "code",
   "execution_count": 5,
   "metadata": {},
   "outputs": [],
   "source": [
    "def cleantxt(txt):\n",
    "    txt = txt[:-35]\n",
    "    txt = txt.replace('\\n',' ')\n",
    "    txt = txt.replace('\\r','')\n",
    "    txt = txt.replace('(',' ')\n",
    "    txt = txt.replace(')',' ')\n",
    "    p = re.compile(r'[A-Za-z가-힣?.!\\'\\ ]+')\n",
    "    txt = ''.join(re.findall(p,txt))\n",
    "    txt = re.sub(' +', ' ', txt).strip()\n",
    "    return txt"
   ]
  },
  {
   "cell_type": "code",
   "execution_count": 6,
   "metadata": {},
   "outputs": [],
   "source": [
    "clubs['txt'] = clubs['txt'].apply(cleantxt)"
   ]
  },
  {
   "cell_type": "code",
   "execution_count": 7,
   "metadata": {},
   "outputs": [
    {
     "data": {
      "text/plain": [
       "0    서울권 운동 스포츠 연합 커뮤니티 STREET BOND STREET BOND 소개 ...\n",
       "1    안녕하세요 한일문화연구회에서 함께할 동아리원을 모집합니다 일본문화에 관심이 있으신가...\n",
       "2    학년도 학기 KUISA 기 벗 모집이 하루 남았습니다!!!!!! 년도 학기 KUIS...\n",
       "3    분 명상법! 안녕하세요! 원불교 학생회입니다. 이번에는 명상을 어떻게 하는 지에 대...\n",
       "4    연합발표토론동아리 POP 기 모집합니다 ! 기 P.O.P 단원 모집! 스펙업 대표동...\n",
       "Name: txt, dtype: object"
      ]
     },
     "execution_count": 7,
     "metadata": {},
     "output_type": "execute_result"
    }
   ],
   "source": [
    "clubs.txt.head()"
   ]
  },
  {
   "cell_type": "code",
   "execution_count": 8,
   "metadata": {},
   "outputs": [
    {
     "data": {
      "text/plain": [
       "'서울권 운동 스포츠 연합 커뮤니티 STREET BOND STREET BOND 소개 운동은 하고 싶은데 몇 달 회비 끊고 하자니 돈이 아깝고.. 그렇다고 혼자 운동하는 건 재미 없지 않나요? STREET BOND는 우리 동네의 다양한 운동 스포츠 을 즐기는 커뮤니티입니다. 하루 비용만 내고 운동을 즐길 수 있습니다! 센터 중심이 아닌 다양한 호스트들의 개성 넘치는 운동 스포츠 프로그램을 즐길 수 있습니다. 모임원들과 함께 운동하고 소통할 수 있습니다. 강제 모임 강제 뒷풀이 전혀 없습니다! 원하시는 모임만 참여하세요! 이제는 운동에 나를 맞추지 말고 내가 원하는 시간 원하는 장소를 나에게 맞추고 다양한 운동을 즐기세요. 대상 성별 직업 종교 등 상관 X 단 운영에 불편을 주시는 분들은 참여자 또는 호스트에 의해 강퇴될 수 있습니다. 활동 내용 CLUB 새로운 운동 스포츠 도 가볍게 체험해보고 즐기는 모임 자신에게 맞는 운동을 찾을 수 있습니다! PROJECT 추후 오픈 공통의 목표를 가진 멤버들이 해당 분야의 HOST와 함께 관련 지식과 경험을 쌓도록 지원하는 프로그램 나에게 맞는 운동을 좀 더 전문적으로 배울 수 있습니다! 활동권 동대문구 성동구 광진구 건대 주변 강남구 등.. 활동 종류 유도 발레 댄스 등산 추가 예정 참고 httpswww.instagram.comstreetbond 재능을 공유하세요! 오셔서 새로운 활동 호스트를 하셔도 됩니다! 신청 문의 kakao id bigmt 가입 문의 및 신청 가입 양식을 작성해서 kakao id bigmt 으로 보내주세요! . 성명 실명 . 거주 지역 구 동 . 직업 ex. 학생 직장인 등 . 성별 . 나이 . 가입 경로 ex. 인스타 소모임 에브리타임 x대 등 . 운동 관심 분야 앞으로 콘텐츠 영입에 반영합니다! . 운동 경력 ex. 복싱 년 러닝 주 회 년 STREET BOND 단톡방은 모임 회 이상 참석하신 분들만 초대 됩니다. No Show 예방 운동 러닝 등산 유도 요가 발레 댄스 동아리'"
      ]
     },
     "execution_count": 8,
     "metadata": {},
     "output_type": "execute_result"
    }
   ],
   "source": [
    "clubs.txt[0]"
   ]
  },
  {
   "cell_type": "markdown",
   "metadata": {},
   "source": [
    "## bring stopwords\n",
    "https://www.ranks.nl/stopwords/korean"
   ]
  },
  {
   "cell_type": "code",
   "execution_count": 3,
   "metadata": {},
   "outputs": [],
   "source": [
    "import ssl\n",
    "from urllib.request import urlopen\n",
    "from bs4 import BeautifulSoup\n",
    "import re\n",
    "context = ssl._create_unverified_context()\n",
    "resp = urlopen('https://www.ranks.nl/stopwords/korean',context=context)\n",
    "dom = BeautifulSoup(resp.read().decode('utf8'),'html.parser')\n",
    "tds = dom.select('.panel-body > table > tbody > tr > td')"
   ]
  },
  {
   "cell_type": "code",
   "execution_count": 4,
   "metadata": {},
   "outputs": [],
   "source": [
    "stopwords=[]\n",
    "for _ in tds:\n",
    "    stopwords+=re.findall(r'([ \\w]+)<br/>',str(_))\n",
    "    \n",
    "stopwords.append('만큼')\n",
    "stopwords.append('만 못하다')\n",
    "stopwords.append('영')"
   ]
  },
  {
   "cell_type": "code",
   "execution_count": 5,
   "metadata": {},
   "outputs": [
    {
     "data": {
      "text/plain": [
       "['아', '휴', '아이구']"
      ]
     },
     "execution_count": 5,
     "metadata": {},
     "output_type": "execute_result"
    }
   ],
   "source": [
    "stopwords[:3]"
   ]
  },
  {
   "cell_type": "code",
   "execution_count": 9,
   "metadata": {},
   "outputs": [],
   "source": [
    "pd.Series(stopwords).to_pickle('stopwords.pkl')"
   ]
  },
  {
   "cell_type": "code",
   "execution_count": 12,
   "metadata": {},
   "outputs": [],
   "source": [
    "from konlpy.tag import Komoran\n",
    "komo = Komoran() #어미/어근의 분류가 잘 되어있다 판단.\n",
    "\n",
    "class Tokenize:\n",
    "    def __init__(self):\n",
    "        pass\n",
    "    def __call__(self, text):\n",
    "        #stemming\n",
    "        #어미 관련 모두 제외\n",
    "        stemmed = [_ for _ in komo.pos(text) if _[1] not in ['EC', 'EF', 'EP', 'ETM', 'ETN']]\n",
    "        \n",
    "        #lemmatizing\n",
    "        #VV=동사어근, VA=형용사어근\n",
    "        lemma = [_[0]+'다' if (_[1]=='VA') or (_[1]=='VV') else _[0] for _ in stemmed]\n",
    "        \n",
    "        #remove stopwords\n",
    "        tokens = [_ for _ in lemma if _ not in stopwords]\n",
    "        \n",
    "        return tokens\n",
    "    "
   ]
  },
  {
   "cell_type": "code",
   "execution_count": 14,
   "metadata": {},
   "outputs": [],
   "source": [
    "tokenize = Tokenize()"
   ]
  },
  {
   "cell_type": "code",
   "execution_count": 15,
   "metadata": {},
   "outputs": [],
   "source": [
    "from sklearn.feature_extraction.text import TfidfVectorizer\n",
    "\n",
    "#ngram, stopwords 기능 지원\n",
    "#객체 생성\n",
    "tfidf = TfidfVectorizer(tokenizer = tokenize,\n",
    "                        analyzer = 'word', ngram_range=(1,2), \n",
    "                        min_df=0) #ngram called here"
   ]
  },
  {
   "cell_type": "code",
   "execution_count": 16,
   "metadata": {},
   "outputs": [],
   "source": [
    "tfidf_matrix = tfidf.fit_transform(clubs.txt) #너무시간많이듬"
   ]
  },
  {
   "cell_type": "code",
   "execution_count": 17,
   "metadata": {},
   "outputs": [
    {
     "data": {
      "text/plain": [
       "(600, 46150)"
      ]
     },
     "execution_count": 17,
     "metadata": {},
     "output_type": "execute_result"
    }
   ],
   "source": [
    "tfidf_matrix.shape"
   ]
  },
  {
   "cell_type": "code",
   "execution_count": 18,
   "metadata": {},
   "outputs": [
    {
     "name": "stdout",
     "output_type": "stream",
     "text": [
      "  (0, 38707)\t0.033978095422163096\n",
      "  (0, 37925)\t0.037895368145820424\n",
      "  (0, 15764)\t0.013383473428295527\n",
      "  (0, 38287)\t0.012012653331574858\n",
      "  (0, 21098)\t0.033978095422163096\n",
      "  (0, 43079)\t0.037895368145820424\n",
      "  (0, 29096)\t0.037895368145820424\n",
      "  (0, 44846)\t0.037895368145820424\n",
      "  (0, 43340)\t0.037895368145820424\n",
      "  (0, 38556)\t0.037895368145820424\n",
      "  (0, 30175)\t0.037895368145820424\n",
      "  (0, 26293)\t0.037895368145820424\n",
      "  (0, 35776)\t0.037895368145820424\n",
      "  (0, 22791)\t0.029395180125288366\n",
      "  (0, 15349)\t0.037895368145820424\n",
      "  (0, 41853)\t0.037895368145820424\n",
      "  (0, 2268)\t0.037895368145820424\n",
      "  (0, 37156)\t0.024092615005241624\n",
      "  (0, 38346)\t0.030815466007676352\n",
      "  (0, 26299)\t0.033978095422163096\n",
      "  (0, 30707)\t0.037895368145820424\n",
      "  (0, 44574)\t0.037895368145820424\n",
      "  (0, 8222)\t0.037895368145820424\n",
      "  (0, 43306)\t0.037895368145820424\n",
      "  (0, 24869)\t0.037895368145820424\n",
      "  :\t:\n",
      "  (0, 939)\t0.030599634050688017\n",
      "  (0, 15468)\t0.05769525474496806\n",
      "  (0, 25610)\t0.01704792438245255\n",
      "  (0, 36609)\t0.014349486112401666\n",
      "  (0, 21874)\t0.013310077202759582\n",
      "  (0, 34330)\t0.01327373347665609\n",
      "  (0, 15975)\t0.03308800867093979\n",
      "  (0, 34878)\t0.02737727433382099\n",
      "  (0, 37821)\t0.023772336146018806\n",
      "  (0, 9390)\t0.014851450985542913\n",
      "  (0, 14821)\t0.016724853951492244\n",
      "  (0, 12180)\t0.015565191125093457\n",
      "  (0, 45194)\t0.02286898841569939\n",
      "  (0, 22638)\t0.008052074419516352\n",
      "  (0, 19225)\t0.012854917464609678\n",
      "  (0, 0)\t0.00609126173665946\n",
      "  (0, 33980)\t0.04104059865446151\n",
      "  (0, 25943)\t0.0215242291686025\n",
      "  (0, 13500)\t0.009789227475492076\n",
      "  (0, 12691)\t0.006546159172707616\n",
      "  (0, 2494)\t0.030121824147690764\n",
      "  (0, 936)\t0.20145388876014583\n",
      "  (0, 42975)\t0.015680771258836473\n",
      "  (0, 31998)\t0.020416178489465222\n",
      "  (0, 29924)\t0.06038455939818879\n"
     ]
    }
   ],
   "source": [
    "print(tfidf_matrix[10])"
   ]
  },
  {
   "cell_type": "code",
   "execution_count": 19,
   "metadata": {},
   "outputs": [],
   "source": [
    "from sklearn.metrics.pairwise import linear_kernel\n",
    "#linear_kernel = dot product\n",
    "cosine_sim = linear_kernel(tfidf_matrix, tfidf_matrix)"
   ]
  },
  {
   "cell_type": "code",
   "execution_count": 20,
   "metadata": {},
   "outputs": [
    {
     "data": {
      "text/plain": [
       "[0.14833639074025767,\n",
       " 0.14833639074025767,\n",
       " 0.14833639074025767,\n",
       " 0.14833639074025767,\n",
       " 0.14833639074025767,\n",
       " 0.12991956067250024,\n",
       " 0.12917396313905088,\n",
       " 0.12917396313905088,\n",
       " 0.10384146617472709]"
      ]
     },
     "execution_count": 20,
     "metadata": {},
     "output_type": "execute_result"
    }
   ],
   "source": [
    "import numpy as np\n",
    "sorted(cosine_sim[0],reverse=True)[1:10]"
   ]
  },
  {
   "cell_type": "code",
   "execution_count": 21,
   "metadata": {},
   "outputs": [
    {
     "name": "stdout",
     "output_type": "stream",
     "text": [
      "0             서울권 운동(스포츠) 연합 커뮤니티 STREET BOND   \n",
      "1             안녕하세요 한일문화연구회에서 함께할 동아리원을 모집합니다   \n",
      "2    2020학년도 2학기 KUISA 14기 벗 모집이 하루 남았습니다!!!!!! \n",
      "3                                    1분 명상법~!  \n",
      "4                     연합발표토론동아리 POP 22기 모집합니다 ! \n",
      "Name: title, dtype: object title\n",
      "서울권 운동(스포츠) 연합 커뮤니티 STREET BOND                0\n",
      "안녕하세요 한일문화연구회에서 함께할 동아리원을 모집합니다                1\n",
      "2020학년도 2학기 KUISA 14기 벗 모집이 하루 남았습니다!!!!!!     2\n",
      "1분 명상법~!                                      3\n",
      "연합발표토론동아리 POP 22기 모집합니다 !                      4\n",
      "dtype: int64\n"
     ]
    }
   ],
   "source": [
    "titles = clubs['title']\n",
    "indices = pd.Series(clubs.index, index=clubs['title'])\n",
    "\n",
    "print(titles.head(), indices.head())"
   ]
  },
  {
   "cell_type": "code",
   "execution_count": 31,
   "metadata": {},
   "outputs": [],
   "source": [
    "def get_recommendations(title):\n",
    "    i = indices[title]\n",
    "    sim_scores = list(enumerate(cosine_sim[i]))\n",
    "    sim_scores = sorted(sim_scores, key = lambda x : x[1], reverse=True)\n",
    "    sim_scores = sim_scores[1:21] \n",
    "    recommend = titles[[s[0] for s in sim_scores]]\n",
    "    return recommend"
   ]
  },
  {
   "cell_type": "code",
   "execution_count": 35,
   "metadata": {},
   "outputs": [
    {
     "data": {
      "text/plain": [
       "'서울권 운동(스포츠) 연합 커뮤니티 STREET BOND\\xa0  '"
      ]
     },
     "execution_count": 35,
     "metadata": {},
     "output_type": "execute_result"
    }
   ],
   "source": [
    "titles[0]"
   ]
  },
  {
   "cell_type": "code",
   "execution_count": 34,
   "metadata": {},
   "outputs": [
    {
     "data": {
      "text/plain": [
       "342                                  [柔道部] 유도부 상시모집 🥋 \n",
       "565                 [어갑배] 배드민턴 소모임 어갑배에서 신입부원을 모집합니다! \n",
       "485                        🤺D-3🤺고대 펜싱부 20-1 신입부원 모집!! \n",
       "52                 4차산업혁명 인공지능 융합 KU 프로젝트 스터디 2기 모집  \n",
       "391    고려대학교 정경대학 야구동아리 퍼블릭스가 2020년을 함께할 당신을 찾습니다!!  \n",
       "Name: title, dtype: object"
      ]
     },
     "execution_count": 34,
     "metadata": {},
     "output_type": "execute_result"
    }
   ],
   "source": [
    "get_recommendations(titles[0])"
   ]
  },
  {
   "cell_type": "code",
   "execution_count": 32,
   "metadata": {},
   "outputs": [
    {
     "data": {
      "text/plain": [
       "164                                  [柔道部] 유도부 상시모집 🥋 \n",
       "342                                  [柔道部] 유도부 상시모집 🥋 \n",
       "403                                  [柔道部] 유도부 상시모집 🥋 \n",
       "479                                  [柔道部] 유도부 상시모집 🥋 \n",
       "578                                  [柔道部] 유도부 상시모집 🥋 \n",
       "565                 [어갑배] 배드민턴 소모임 어갑배에서 신입부원을 모집합니다! \n",
       "199           [어갑배] 고려대학교 배드민턴 소모임 어갑배에서 신입회원을 모집합니다! \n",
       "247           [어갑배] 고려대학교 배드민턴 소모임 어갑배에서 신입회원을 모집합니다! \n",
       "485                        🤺D-3🤺고대 펜싱부 20-1 신입부원 모집!! \n",
       "465                      🤺모집기간 변경🤺 펜싱부 20-1 신입부원 모집!! \n",
       "178                         고려대 펜싱뷰 20-1학기 신입부원 상시모집🤺🤺\n",
       "152         [펜싱부🤺🤺🤺] 교내 유일 펜싱동아리에서 20-1 신입부원을 모집합니다!! \n",
       "23             (~7/13) 굿즈 디자인 동아리 \"DE.GOODS\" 신입 멤버 모집 \n",
       "52                 4차산업혁명 인공지능 융합 KU 프로젝트 스터디 2기 모집  \n",
       "301    고려대학교 정경대학 야구동아리 퍼블릭스가 2020년을 함께할 당신을 찾습니다!!  \n",
       "391    고려대학교 정경대학 야구동아리 퍼블릭스가 2020년을 함께할 당신을 찾습니다!!  \n",
       "511    고려대학교 정경대학 야구동아리 퍼블릭스가 2020년을 함께할 당신을 찾습니다!!  \n",
       "67                                🏃‍♂️러닝크루 크루원 모집합니다! \n",
       "97                ⚾️야구동아리 퍼블릭스 현재 신규 회원 유니폼 신청중입니다!  \n",
       "54                             📢고려대학교 🥋태권도부🥋 신입부원 모집! \n",
       "Name: title, dtype: object"
      ]
     },
     "execution_count": 32,
     "metadata": {},
     "output_type": "execute_result"
    }
   ],
   "source": [
    "get_recommendations(titles[0])"
   ]
  },
  {
   "cell_type": "code",
   "execution_count": 70,
   "metadata": {},
   "outputs": [
    {
     "data": {
      "text/plain": [
       "'2020학년도 2학기 KUISA 14기 벗 모집이 하루 남았습니다!!!!!! '"
      ]
     },
     "execution_count": 70,
     "metadata": {},
     "output_type": "execute_result"
    }
   ],
   "source": [
    "titles[2]"
   ]
  },
  {
   "cell_type": "code",
   "execution_count": 71,
   "metadata": {},
   "outputs": [
    {
     "data": {
      "text/plain": [
       "14                       👉2020년도 2학기 KUISA 14기 벗 모집 안내👈 \n",
       "9      👉2020년도 2학기 KUISA 14기를 함께할 벗들을 모집합니다 :) 👈 (07/...\n",
       "7                    2020-2학기 KUISA 활동을 함께할 벗을 모집합니다 :) \n",
       "5                             🔥D-2!!!! 쿠이사 2020-2 벗 모집🔥 \n",
       "40                          [D-3]고려대학교 교환학생 교류회 KUBA 모집 \n",
       "517    [리크루팅 연기] (D-4) 고려대학교 학부법학회 KUPLS(구 정경대학 법학회)에...\n",
       "427    [리크루팅 연기] (D-day) 고려대학교 학부법학회 KUPLS(구 정경대학 법학회...\n",
       "458    (D-2) 고려대학교 학부법학회 KUPLS(구 정경대학 법학회)에서 20-1학기 신...\n",
       "550    [리크루팅 연기] (D-5) 고려대학교 학부법학회 KUPLS(구 정경대학 법학회)에...\n",
       "481    [리크루팅 연기] (D-3) 고려대학교 학부법학회 KUPLS(구 정경대학 법학회)에...\n",
       "Name: title, dtype: object"
      ]
     },
     "execution_count": 71,
     "metadata": {},
     "output_type": "execute_result"
    }
   ],
   "source": [
    "get_recommendations(titles[2])"
   ]
  },
  {
   "cell_type": "code",
   "execution_count": 72,
   "metadata": {},
   "outputs": [
    {
     "data": {
      "text/plain": [
       "'1분 명상법~! \\ue251 '"
      ]
     },
     "execution_count": 72,
     "metadata": {},
     "output_type": "execute_result"
    }
   ],
   "source": [
    "titles[3]"
   ]
  },
  {
   "cell_type": "code",
   "execution_count": 73,
   "metadata": {},
   "outputs": [
    {
     "data": {
      "text/plain": [
       "109                       명상, 어떻게 할까? 밥 먹기보다도 쉽다! \n",
       "39                포근하고 편안한 원불교학생회로 오세요! (누구나 환영!) \n",
       "86                                      “편안해지다”  \n",
       "75                포근하고 편안한 원불교학생회로 오세요! (누구나 환영!) \n",
       "50            [원불교퀘스트] 신앙은 은혜! 사은(四恩)에 대해 알아봅시다  \n",
       "27                     명상? mindfulness? 어떻게 할까?  \n",
       "17     [원.알.못.] 원불교는 고기를 먹나요? (치킨 먹어도 된다던데...?)  \n",
       "64                       개벽. the Great Opening.  \n",
       "317               포근하고 편안한 원불교학생회로 오세요! (누구나 환영!) \n",
       "410             포근하고 편안한 원불교학생회로 오세요! (누구나 환영!)  \n",
       "Name: title, dtype: object"
      ]
     },
     "execution_count": 73,
     "metadata": {},
     "output_type": "execute_result"
    }
   ],
   "source": [
    "get_recommendations(titles[3])"
   ]
  },
  {
   "cell_type": "code",
   "execution_count": 74,
   "metadata": {},
   "outputs": [
    {
     "data": {
      "text/plain": [
       "'연합발표토론동아리 POP 22기 모집합니다 ! '"
      ]
     },
     "execution_count": 74,
     "metadata": {},
     "output_type": "execute_result"
    }
   ],
   "source": [
    "titles[4]"
   ]
  },
  {
   "cell_type": "code",
   "execution_count": 75,
   "metadata": {},
   "outputs": [
    {
     "data": {
      "text/plain": [
       "44                 발표를 잘하고 싶다면?? 발표 토론 연합 동아리 POP 모집중!! \n",
       "515           [마감 D-5] 학내 유일 중앙토론동아리 고란도란에서 15기를 모집합니다! \n",
       "524           [마감 D-5] 학내 유일 중앙토론동아리 고란도란에서 15기를 모집합니다! \n",
       "492           🔥마감 D-4🔥 학내 유일 중앙토론동아리 고란도란에서 15기를 모집합니다! \n",
       "506               🔥마감 D-4🔥토론동아리 고란도란에서 15기 회원을 모집합니다🙋🏻♀ \n",
       "540                  🔥마감 D-5🔥토론동아리 고란도란에서 15기 회원을 모집합니다 \n",
       "423             고려대 유일 중앙토론동아리 ⭐️고란도란⭐️에서 15기 신입 동아리원을  \n",
       "405    [지원마감D-day] 고려대학교 유일 중앙토론 동아리 고란도란에서 15기 신입기수를...\n",
       "558                  ⭐중앙토론동아리 '고란도란'에서 15기 신입회원을 모집합니다⭐ \n",
       "395          [D-day 0] 고려대 유일 중앙토론동아리 ⭐️고란도란⭐️에서 15기 신입 \n",
       "Name: title, dtype: object"
      ]
     },
     "execution_count": 75,
     "metadata": {},
     "output_type": "execute_result"
    }
   ],
   "source": [
    "get_recommendations(titles[4])"
   ]
  },
  {
   "cell_type": "code",
   "execution_count": null,
   "metadata": {},
   "outputs": [],
   "source": []
  }
 ],
 "metadata": {
  "kernelspec": {
   "display_name": "Python 3",
   "language": "python",
   "name": "python3"
  },
  "language_info": {
   "codemirror_mode": {
    "name": "ipython",
    "version": 3
   },
   "file_extension": ".py",
   "mimetype": "text/x-python",
   "name": "python",
   "nbconvert_exporter": "python",
   "pygments_lexer": "ipython3",
   "version": "3.7.1"
  }
 },
 "nbformat": 4,
 "nbformat_minor": 2
}
